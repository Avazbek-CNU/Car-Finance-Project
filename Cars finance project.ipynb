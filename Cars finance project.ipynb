{
 "cells": [
  {
   "cell_type": "code",
   "execution_count": 1,
   "id": "84fde6c2",
   "metadata": {},
   "outputs": [],
   "source": [
    "from pandas_datareader import data, wb\n",
    "import pandas as pd\n",
    "import numpy as np\n",
    "import datetime\n",
    "%matplotlib inline"
   ]
  },
  {
   "cell_type": "code",
   "execution_count": 2,
   "id": "7cb4f299",
   "metadata": {},
   "outputs": [],
   "source": [
    "start = datetime.datetime(2022, 1, 1)\n",
    "end = datetime.datetime(2022, 12, 23)"
   ]
  },
  {
   "cell_type": "code",
   "execution_count": 3,
   "id": "a8e72f66",
   "metadata": {},
   "outputs": [],
   "source": [
    "TS=pd.read_csv('TSLA.csv',index_col='Date')"
   ]
  },
  {
   "cell_type": "code",
   "execution_count": 4,
   "id": "f79bac81",
   "metadata": {},
   "outputs": [],
   "source": [
    "HY=pd.read_csv('HYMTF.csv',index_col='Date')"
   ]
  },
  {
   "cell_type": "code",
   "execution_count": 5,
   "id": "49f20782",
   "metadata": {},
   "outputs": [],
   "source": [
    "KIA=pd.read_csv('000270.KS.csv',index_col='Date')"
   ]
  },
  {
   "cell_type": "code",
   "execution_count": 6,
   "id": "5e269a1c",
   "metadata": {},
   "outputs": [],
   "source": [
    "BMW=pd.read_csv('BMW.DE.csv',index_col='Date')"
   ]
  },
  {
   "cell_type": "code",
   "execution_count": 7,
   "id": "66e041b8",
   "metadata": {},
   "outputs": [],
   "source": [
    "MCB=pd.read_csv('MBG.DE.csv',index_col='Date')"
   ]
  },
  {
   "cell_type": "code",
   "execution_count": 8,
   "id": "dd590d78",
   "metadata": {},
   "outputs": [],
   "source": [
    "tickers=['TS','HY','KIA','BMW','MCB']"
   ]
  },
  {
   "cell_type": "code",
   "execution_count": 9,
   "id": "05982942",
   "metadata": {},
   "outputs": [
    {
     "data": {
      "text/html": [
       "<div>\n",
       "<style scoped>\n",
       "    .dataframe tbody tr th:only-of-type {\n",
       "        vertical-align: middle;\n",
       "    }\n",
       "\n",
       "    .dataframe tbody tr th {\n",
       "        vertical-align: top;\n",
       "    }\n",
       "\n",
       "    .dataframe thead th {\n",
       "        text-align: right;\n",
       "    }\n",
       "</style>\n",
       "<table border=\"1\" class=\"dataframe\">\n",
       "  <thead>\n",
       "    <tr style=\"text-align: right;\">\n",
       "      <th></th>\n",
       "      <th>Open</th>\n",
       "      <th>High</th>\n",
       "      <th>Low</th>\n",
       "      <th>Close</th>\n",
       "      <th>Adj Close</th>\n",
       "      <th>Volume</th>\n",
       "    </tr>\n",
       "    <tr>\n",
       "      <th>Date</th>\n",
       "      <th></th>\n",
       "      <th></th>\n",
       "      <th></th>\n",
       "      <th></th>\n",
       "      <th></th>\n",
       "      <th></th>\n",
       "    </tr>\n",
       "  </thead>\n",
       "  <tbody>\n",
       "    <tr>\n",
       "      <th>2021-12-27</th>\n",
       "      <td>357.890015</td>\n",
       "      <td>372.333344</td>\n",
       "      <td>356.906677</td>\n",
       "      <td>364.646667</td>\n",
       "      <td>364.646667</td>\n",
       "      <td>71145900</td>\n",
       "    </tr>\n",
       "    <tr>\n",
       "      <th>2021-12-28</th>\n",
       "      <td>369.829987</td>\n",
       "      <td>373.000000</td>\n",
       "      <td>359.473328</td>\n",
       "      <td>362.823334</td>\n",
       "      <td>362.823334</td>\n",
       "      <td>60324000</td>\n",
       "    </tr>\n",
       "    <tr>\n",
       "      <th>2021-12-29</th>\n",
       "      <td>366.213318</td>\n",
       "      <td>368.000000</td>\n",
       "      <td>354.713318</td>\n",
       "      <td>362.063324</td>\n",
       "      <td>362.063324</td>\n",
       "      <td>56154000</td>\n",
       "    </tr>\n",
       "    <tr>\n",
       "      <th>2021-12-30</th>\n",
       "      <td>353.776672</td>\n",
       "      <td>365.183319</td>\n",
       "      <td>351.049988</td>\n",
       "      <td>356.779999</td>\n",
       "      <td>356.779999</td>\n",
       "      <td>47040900</td>\n",
       "    </tr>\n",
       "    <tr>\n",
       "      <th>2021-12-31</th>\n",
       "      <td>357.813324</td>\n",
       "      <td>360.666656</td>\n",
       "      <td>351.529999</td>\n",
       "      <td>352.260010</td>\n",
       "      <td>352.260010</td>\n",
       "      <td>40733700</td>\n",
       "    </tr>\n",
       "  </tbody>\n",
       "</table>\n",
       "</div>"
      ],
      "text/plain": [
       "                  Open        High         Low       Close   Adj Close  \\\n",
       "Date                                                                     \n",
       "2021-12-27  357.890015  372.333344  356.906677  364.646667  364.646667   \n",
       "2021-12-28  369.829987  373.000000  359.473328  362.823334  362.823334   \n",
       "2021-12-29  366.213318  368.000000  354.713318  362.063324  362.063324   \n",
       "2021-12-30  353.776672  365.183319  351.049988  356.779999  356.779999   \n",
       "2021-12-31  357.813324  360.666656  351.529999  352.260010  352.260010   \n",
       "\n",
       "              Volume  \n",
       "Date                  \n",
       "2021-12-27  71145900  \n",
       "2021-12-28  60324000  \n",
       "2021-12-29  56154000  \n",
       "2021-12-30  47040900  \n",
       "2021-12-31  40733700  "
      ]
     },
     "execution_count": 9,
     "metadata": {},
     "output_type": "execute_result"
    }
   ],
   "source": [
    "TS.head()"
   ]
  },
  {
   "cell_type": "code",
   "execution_count": 10,
   "id": "f77a1c6e",
   "metadata": {},
   "outputs": [],
   "source": [
    "TS[\"Daily Return\"] = TS[\"Adj Close\"].pct_change(1)\n",
    "HY[\"Daily Return\"] = HY[\"Adj Close\"].pct_change(1)\n",
    "KIA[\"Daily Return\"] = KIA[\"Adj Close\"].pct_change(1)\n",
    "BMW[\"Daily Return\"] = BMW[\"Adj Close\"].pct_change(1)\n",
    "MCB[\"Daily Return\"] = MCB[\"Adj Close\"].pct_change(1)"
   ]
  },
  {
   "cell_type": "code",
   "execution_count": 11,
   "id": "eed935db",
   "metadata": {},
   "outputs": [],
   "source": [
    "TS=TS.dropna()\n",
    "HY=HY.dropna()\n",
    "KIA=KIA.dropna()\n",
    "BMW=BMW.dropna()\n",
    "MCB=MCB.dropna()"
   ]
  },
  {
   "cell_type": "code",
   "execution_count": 12,
   "id": "96c9c386",
   "metadata": {},
   "outputs": [],
   "source": [
    "tickers = ['TS', 'HY', 'KIA', 'BMW', 'MCB']"
   ]
  },
  {
   "cell_type": "code",
   "execution_count": 13,
   "id": "c204a30f",
   "metadata": {},
   "outputs": [],
   "source": [
    "car_stocks=pd.concat([TS,HY,KIA,BMW,MCB],axis=1,keys=tickers)"
   ]
  },
  {
   "cell_type": "code",
   "execution_count": 14,
   "id": "1ea1ef82",
   "metadata": {},
   "outputs": [],
   "source": [
    "car_stocks.columns.names = ['Car Ticker','Stock Info']"
   ]
  },
  {
   "cell_type": "code",
   "execution_count": 15,
   "id": "6fad1e88",
   "metadata": {},
   "outputs": [
    {
     "data": {
      "text/html": [
       "<div>\n",
       "<style scoped>\n",
       "    .dataframe tbody tr th:only-of-type {\n",
       "        vertical-align: middle;\n",
       "    }\n",
       "\n",
       "    .dataframe tbody tr th {\n",
       "        vertical-align: top;\n",
       "    }\n",
       "\n",
       "    .dataframe thead tr th {\n",
       "        text-align: left;\n",
       "    }\n",
       "\n",
       "    .dataframe thead tr:last-of-type th {\n",
       "        text-align: right;\n",
       "    }\n",
       "</style>\n",
       "<table border=\"1\" class=\"dataframe\">\n",
       "  <thead>\n",
       "    <tr>\n",
       "      <th>Car Ticker</th>\n",
       "      <th colspan=\"7\" halign=\"left\">TS</th>\n",
       "      <th colspan=\"3\" halign=\"left\">HY</th>\n",
       "      <th>...</th>\n",
       "      <th colspan=\"3\" halign=\"left\">BMW</th>\n",
       "      <th colspan=\"7\" halign=\"left\">MCB</th>\n",
       "    </tr>\n",
       "    <tr>\n",
       "      <th>Stock Info</th>\n",
       "      <th>Open</th>\n",
       "      <th>High</th>\n",
       "      <th>Low</th>\n",
       "      <th>Close</th>\n",
       "      <th>Adj Close</th>\n",
       "      <th>Volume</th>\n",
       "      <th>Daily Return</th>\n",
       "      <th>Open</th>\n",
       "      <th>High</th>\n",
       "      <th>Low</th>\n",
       "      <th>...</th>\n",
       "      <th>Adj Close</th>\n",
       "      <th>Volume</th>\n",
       "      <th>Daily Return</th>\n",
       "      <th>Open</th>\n",
       "      <th>High</th>\n",
       "      <th>Low</th>\n",
       "      <th>Close</th>\n",
       "      <th>Adj Close</th>\n",
       "      <th>Volume</th>\n",
       "      <th>Daily Return</th>\n",
       "    </tr>\n",
       "    <tr>\n",
       "      <th>Date</th>\n",
       "      <th></th>\n",
       "      <th></th>\n",
       "      <th></th>\n",
       "      <th></th>\n",
       "      <th></th>\n",
       "      <th></th>\n",
       "      <th></th>\n",
       "      <th></th>\n",
       "      <th></th>\n",
       "      <th></th>\n",
       "      <th></th>\n",
       "      <th></th>\n",
       "      <th></th>\n",
       "      <th></th>\n",
       "      <th></th>\n",
       "      <th></th>\n",
       "      <th></th>\n",
       "      <th></th>\n",
       "      <th></th>\n",
       "      <th></th>\n",
       "      <th></th>\n",
       "    </tr>\n",
       "  </thead>\n",
       "  <tbody>\n",
       "    <tr>\n",
       "      <th>2021-12-28</th>\n",
       "      <td>369.829987</td>\n",
       "      <td>373.000000</td>\n",
       "      <td>359.473328</td>\n",
       "      <td>362.823334</td>\n",
       "      <td>362.823334</td>\n",
       "      <td>60324000.0</td>\n",
       "      <td>-0.005000</td>\n",
       "      <td>42.000000</td>\n",
       "      <td>42.000000</td>\n",
       "      <td>42.000000</td>\n",
       "      <td>...</td>\n",
       "      <td>83.607788</td>\n",
       "      <td>442096.0</td>\n",
       "      <td>-0.000556</td>\n",
       "      <td>69.930000</td>\n",
       "      <td>70.540001</td>\n",
       "      <td>69.489998</td>\n",
       "      <td>69.599998</td>\n",
       "      <td>64.413712</td>\n",
       "      <td>1494742.0</td>\n",
       "      <td>-0.004149</td>\n",
       "    </tr>\n",
       "    <tr>\n",
       "      <th>2021-12-29</th>\n",
       "      <td>366.213318</td>\n",
       "      <td>368.000000</td>\n",
       "      <td>354.713318</td>\n",
       "      <td>362.063324</td>\n",
       "      <td>362.063324</td>\n",
       "      <td>56154000.0</td>\n",
       "      <td>-0.002095</td>\n",
       "      <td>41.509998</td>\n",
       "      <td>41.990002</td>\n",
       "      <td>41.500000</td>\n",
       "      <td>...</td>\n",
       "      <td>82.910675</td>\n",
       "      <td>419820.0</td>\n",
       "      <td>-0.008338</td>\n",
       "      <td>69.599998</td>\n",
       "      <td>69.750000</td>\n",
       "      <td>68.180000</td>\n",
       "      <td>68.230003</td>\n",
       "      <td>63.145802</td>\n",
       "      <td>2470115.0</td>\n",
       "      <td>-0.019684</td>\n",
       "    </tr>\n",
       "    <tr>\n",
       "      <th>2021-12-30</th>\n",
       "      <td>353.776672</td>\n",
       "      <td>365.183319</td>\n",
       "      <td>351.049988</td>\n",
       "      <td>356.779999</td>\n",
       "      <td>356.779999</td>\n",
       "      <td>47040900.0</td>\n",
       "      <td>-0.014592</td>\n",
       "      <td>41.000000</td>\n",
       "      <td>41.000000</td>\n",
       "      <td>40.099998</td>\n",
       "      <td>...</td>\n",
       "      <td>82.250732</td>\n",
       "      <td>598323.0</td>\n",
       "      <td>-0.007960</td>\n",
       "      <td>68.239998</td>\n",
       "      <td>68.589996</td>\n",
       "      <td>67.589996</td>\n",
       "      <td>67.589996</td>\n",
       "      <td>62.553486</td>\n",
       "      <td>2237979.0</td>\n",
       "      <td>-0.009380</td>\n",
       "    </tr>\n",
       "    <tr>\n",
       "      <th>2021-12-31</th>\n",
       "      <td>357.813324</td>\n",
       "      <td>360.666656</td>\n",
       "      <td>351.529999</td>\n",
       "      <td>352.260010</td>\n",
       "      <td>352.260010</td>\n",
       "      <td>40733700.0</td>\n",
       "      <td>-0.012669</td>\n",
       "      <td>40.099998</td>\n",
       "      <td>41.250000</td>\n",
       "      <td>40.099998</td>\n",
       "      <td>...</td>\n",
       "      <td>NaN</td>\n",
       "      <td>NaN</td>\n",
       "      <td>NaN</td>\n",
       "      <td>NaN</td>\n",
       "      <td>NaN</td>\n",
       "      <td>NaN</td>\n",
       "      <td>NaN</td>\n",
       "      <td>NaN</td>\n",
       "      <td>NaN</td>\n",
       "      <td>NaN</td>\n",
       "    </tr>\n",
       "    <tr>\n",
       "      <th>2022-01-03</th>\n",
       "      <td>382.583344</td>\n",
       "      <td>400.356659</td>\n",
       "      <td>378.679993</td>\n",
       "      <td>399.926666</td>\n",
       "      <td>399.926666</td>\n",
       "      <td>103931400.0</td>\n",
       "      <td>0.135317</td>\n",
       "      <td>41.099998</td>\n",
       "      <td>41.220001</td>\n",
       "      <td>40.849998</td>\n",
       "      <td>...</td>\n",
       "      <td>84.890495</td>\n",
       "      <td>983398.0</td>\n",
       "      <td>0.032094</td>\n",
       "      <td>68.500000</td>\n",
       "      <td>69.190002</td>\n",
       "      <td>67.889999</td>\n",
       "      <td>68.699997</td>\n",
       "      <td>63.580772</td>\n",
       "      <td>2654611.0</td>\n",
       "      <td>0.016423</td>\n",
       "    </tr>\n",
       "  </tbody>\n",
       "</table>\n",
       "<p>5 rows × 35 columns</p>\n",
       "</div>"
      ],
      "text/plain": [
       "Car Ticker          TS                                                  \\\n",
       "Stock Info        Open        High         Low       Close   Adj Close   \n",
       "Date                                                                     \n",
       "2021-12-28  369.829987  373.000000  359.473328  362.823334  362.823334   \n",
       "2021-12-29  366.213318  368.000000  354.713318  362.063324  362.063324   \n",
       "2021-12-30  353.776672  365.183319  351.049988  356.779999  356.779999   \n",
       "2021-12-31  357.813324  360.666656  351.529999  352.260010  352.260010   \n",
       "2022-01-03  382.583344  400.356659  378.679993  399.926666  399.926666   \n",
       "\n",
       "Car Ticker                                   HY                        ...  \\\n",
       "Stock Info       Volume Daily Return       Open       High        Low  ...   \n",
       "Date                                                                   ...   \n",
       "2021-12-28   60324000.0    -0.005000  42.000000  42.000000  42.000000  ...   \n",
       "2021-12-29   56154000.0    -0.002095  41.509998  41.990002  41.500000  ...   \n",
       "2021-12-30   47040900.0    -0.014592  41.000000  41.000000  40.099998  ...   \n",
       "2021-12-31   40733700.0    -0.012669  40.099998  41.250000  40.099998  ...   \n",
       "2022-01-03  103931400.0     0.135317  41.099998  41.220001  40.849998  ...   \n",
       "\n",
       "Car Ticker        BMW                               MCB                        \\\n",
       "Stock Info  Adj Close    Volume Daily Return       Open       High        Low   \n",
       "Date                                                                            \n",
       "2021-12-28  83.607788  442096.0    -0.000556  69.930000  70.540001  69.489998   \n",
       "2021-12-29  82.910675  419820.0    -0.008338  69.599998  69.750000  68.180000   \n",
       "2021-12-30  82.250732  598323.0    -0.007960  68.239998  68.589996  67.589996   \n",
       "2021-12-31        NaN       NaN          NaN        NaN        NaN        NaN   \n",
       "2022-01-03  84.890495  983398.0     0.032094  68.500000  69.190002  67.889999   \n",
       "\n",
       "Car Ticker                                                \n",
       "Stock Info      Close  Adj Close     Volume Daily Return  \n",
       "Date                                                      \n",
       "2021-12-28  69.599998  64.413712  1494742.0    -0.004149  \n",
       "2021-12-29  68.230003  63.145802  2470115.0    -0.019684  \n",
       "2021-12-30  67.589996  62.553486  2237979.0    -0.009380  \n",
       "2021-12-31        NaN        NaN        NaN          NaN  \n",
       "2022-01-03  68.699997  63.580772  2654611.0     0.016423  \n",
       "\n",
       "[5 rows x 35 columns]"
      ]
     },
     "execution_count": 15,
     "metadata": {},
     "output_type": "execute_result"
    }
   ],
   "source": [
    "car_stocks.head()"
   ]
  },
  {
   "cell_type": "code",
   "execution_count": 16,
   "id": "08ca5666",
   "metadata": {},
   "outputs": [
    {
     "data": {
      "text/plain": [
       "Car Ticker\n",
       "TS       399.926666\n",
       "HY        42.490002\n",
       "KIA    86700.000000\n",
       "BMW       99.320000\n",
       "MCB       76.059998\n",
       "dtype: float64"
      ]
     },
     "execution_count": 16,
     "metadata": {},
     "output_type": "execute_result"
    }
   ],
   "source": [
    "#What is the max Close price for each car's stock throughout the time period?**\n",
    "car_stocks.xs(key='Close',axis=1,level='Stock Info').max()"
   ]
  },
  {
   "cell_type": "code",
   "execution_count": 17,
   "id": "9f4464c2",
   "metadata": {},
   "outputs": [],
   "source": [
    "returns = pd.DataFrame()"
   ]
  },
  {
   "cell_type": "code",
   "execution_count": 18,
   "id": "8ef9d4cf",
   "metadata": {},
   "outputs": [
    {
     "data": {
      "text/html": [
       "<div>\n",
       "<style scoped>\n",
       "    .dataframe tbody tr th:only-of-type {\n",
       "        vertical-align: middle;\n",
       "    }\n",
       "\n",
       "    .dataframe tbody tr th {\n",
       "        vertical-align: top;\n",
       "    }\n",
       "\n",
       "    .dataframe thead th {\n",
       "        text-align: right;\n",
       "    }\n",
       "</style>\n",
       "<table border=\"1\" class=\"dataframe\">\n",
       "  <thead>\n",
       "    <tr style=\"text-align: right;\">\n",
       "      <th></th>\n",
       "      <th>TS Return</th>\n",
       "      <th>HY Return</th>\n",
       "      <th>KIA Return</th>\n",
       "      <th>BMW Return</th>\n",
       "      <th>MCB Return</th>\n",
       "    </tr>\n",
       "    <tr>\n",
       "      <th>Date</th>\n",
       "      <th></th>\n",
       "      <th></th>\n",
       "      <th></th>\n",
       "      <th></th>\n",
       "      <th></th>\n",
       "    </tr>\n",
       "  </thead>\n",
       "  <tbody>\n",
       "    <tr>\n",
       "      <th>2021-12-29</th>\n",
       "      <td>-0.002095</td>\n",
       "      <td>-0.010714</td>\n",
       "      <td>-0.013018</td>\n",
       "      <td>-0.008338</td>\n",
       "      <td>-0.019684</td>\n",
       "    </tr>\n",
       "    <tr>\n",
       "      <th>2021-12-30</th>\n",
       "      <td>-0.014592</td>\n",
       "      <td>-0.025271</td>\n",
       "      <td>-0.014388</td>\n",
       "      <td>-0.007960</td>\n",
       "      <td>-0.009380</td>\n",
       "    </tr>\n",
       "    <tr>\n",
       "      <th>2021-12-31</th>\n",
       "      <td>-0.012669</td>\n",
       "      <td>0.009136</td>\n",
       "      <td>0.000000</td>\n",
       "      <td>0.000000</td>\n",
       "      <td>0.000000</td>\n",
       "    </tr>\n",
       "    <tr>\n",
       "      <th>2022-01-03</th>\n",
       "      <td>0.135317</td>\n",
       "      <td>-0.000489</td>\n",
       "      <td>0.000000</td>\n",
       "      <td>0.032094</td>\n",
       "      <td>0.016423</td>\n",
       "    </tr>\n",
       "  </tbody>\n",
       "</table>\n",
       "</div>"
      ],
      "text/plain": [
       "            TS Return  HY Return  KIA Return  BMW Return  MCB Return\n",
       "Date                                                                \n",
       "2021-12-29  -0.002095  -0.010714   -0.013018   -0.008338   -0.019684\n",
       "2021-12-30  -0.014592  -0.025271   -0.014388   -0.007960   -0.009380\n",
       "2021-12-31  -0.012669   0.009136    0.000000    0.000000    0.000000\n",
       "2022-01-03   0.135317  -0.000489    0.000000    0.032094    0.016423"
      ]
     },
     "execution_count": 18,
     "metadata": {},
     "output_type": "execute_result"
    }
   ],
   "source": [
    "for tick in tickers:\n",
    "    returns[tick+' Return'] = car_stocks[tick]['Close'].pct_change()\n",
    "returns.head().dropna()"
   ]
  },
  {
   "cell_type": "code",
   "execution_count": 19,
   "id": "f28843c5",
   "metadata": {},
   "outputs": [],
   "source": [
    "import seaborn as sns"
   ]
  },
  {
   "cell_type": "code",
   "execution_count": 20,
   "id": "1bb8d4e8",
   "metadata": {},
   "outputs": [
    {
     "data": {
      "text/plain": [
       "<seaborn.axisgrid.PairGrid at 0x15c94c23d60>"
      ]
     },
     "execution_count": 20,
     "metadata": {},
     "output_type": "execute_result"
    },
    {
     "data": {
      "image/png": "[encoded data removed]",
      "text/plain": [
       "<Figure size 900x900 with 30 Axes>"
      ]
     },
     "metadata": {
      "needs_background": "light"
     },
     "output_type": "display_data"
    }
   ],
   "source": [
    "sns.pairplot(returns[1:])"
   ]
  },
  {
   "cell_type": "code",
   "execution_count": 21,
   "id": "73cf5df8",
   "metadata": {},
   "outputs": [
    {
     "data": {
      "text/plain": [
       "TS Return     2022-04-26\n",
       "HY Return     2022-07-11\n",
       "KIA Return    2022-11-24\n",
       "BMW Return    2022-05-30\n",
       "MCB Return    2022-07-04\n",
       "dtype: object"
      ]
     },
     "execution_count": 21,
     "metadata": {},
     "output_type": "execute_result"
    }
   ],
   "source": [
    "# Worst Drop (4 of them on Inauguration day)\n",
    "returns.idxmin()"
   ]
  },
  {
   "cell_type": "code",
   "execution_count": 22,
   "id": "64bf45b2",
   "metadata": {},
   "outputs": [
    {
     "data": {
      "text/plain": [
       "TS Return     2022-01-03\n",
       "HY Return     2022-07-12\n",
       "KIA Return    2022-01-17\n",
       "BMW Return    2022-01-17\n",
       "MCB Return    2022-01-17\n",
       "dtype: object"
      ]
     },
     "execution_count": 22,
     "metadata": {},
     "output_type": "execute_result"
    }
   ],
   "source": [
    "returns.idxmax()"
   ]
  },
  {
   "cell_type": "code",
   "execution_count": 23,
   "id": "6d979b53",
   "metadata": {},
   "outputs": [
    {
     "data": {
      "text/plain": [
       "TS Return     0.040448\n",
       "HY Return     0.025743\n",
       "KIA Return    0.030085\n",
       "BMW Return    0.027622\n",
       "MCB Return    0.031569\n",
       "dtype: float64"
      ]
     },
     "execution_count": 23,
     "metadata": {},
     "output_type": "execute_result"
    }
   ],
   "source": [
    "returns.std() "
   ]
  },
  {
   "cell_type": "code",
   "execution_count": 24,
   "id": "f75b2ee4",
   "metadata": {},
   "outputs": [
    {
     "data": {
      "text/html": [
       "        <script type=\"text/javascript\">\n",
       "        window.PlotlyConfig = {MathJaxConfig: 'local'};\n",
       "        if (window.MathJax) {MathJax.Hub.Config({SVG: {font: \"STIX-Web\"}});}\n",
       "        if (typeof require !== 'undefined') {\n",
       "        require.undef(\"plotly\");\n",
       "        requirejs.config({\n",
       "            paths: {\n",
       "                'plotly': ['https://cdn.plot.ly/plotly-2.9.0.min']\n",
       "            }\n",
       "        });\n",
       "        require(['plotly'], function(Plotly) {\n",
       "            window._Plotly = Plotly;\n",
       "        });\n",
       "        }\n",
       "        </script>\n",
       "        "
      ]
     },
     "metadata": {},
     "output_type": "display_data"
    }
   ],
   "source": [
    "import matplotlib.pyplot as plt\n",
    "import seaborn as sns\n",
    "sns.set_style('whitegrid')\n",
    "%matplotlib inline\n",
    "\n",
    "# Optional Plotly Method Imports\n",
    "import plotly\n",
    "import cufflinks as cf\n",
    "cf.go_offline()"
   ]
  },
  {
   "cell_type": "code",
   "execution_count": 28,
   "id": "8890cae1",
   "metadata": {},
   "outputs": [
    {
     "data": {
      "text/plain": [
       "<matplotlib.legend.Legend at 0x15c9ca80b50>"
      ]
     },
     "execution_count": 28,
     "metadata": {},
     "output_type": "execute_result"
    },
    {
     "data": {
      "image/png": "[encoded data removed]",
      "text/plain": [
       "<Figure size 864x288 with 1 Axes>"
      ]
     },
     "metadata": {
      "needs_background": "light"
     },
     "output_type": "display_data"
    }
   ],
   "source": [
    "for tick in tickers:\n",
    "    car_stocks[tick]['Close'].plot(figsize=(12,4),label=tick)\n",
    "plt.legend()"
   ]
  },
  {
   "cell_type": "code",
   "execution_count": 26,
   "id": "a6c69514",
   "metadata": {},
   "outputs": [
    {
     "data": {
      "text/plain": [
       "<AxesSubplot:xlabel='Date'>"
      ]
     },
     "execution_count": 26,
     "metadata": {},
     "output_type": "execute_result"
    },
    {
     "data": {
      "image/png": "[encoded data removed]",
      "text/plain": [
       "<Figure size 432x288 with 1 Axes>"
      ]
     },
     "metadata": {
      "needs_background": "light"
     },
     "output_type": "display_data"
    }
   ],
   "source": [
    "car_stocks.xs(key='Close',axis=1,level='Stock Info').plot()"
   ]
  },
  {
   "cell_type": "code",
   "execution_count": 32,
   "id": "28905b23",
   "metadata": {},
   "outputs": [
    {
     "data": {
      "text/plain": [
       "<matplotlib.legend.Legend at 0x15ca330ef40>"
      ]
     },
     "execution_count": 32,
     "metadata": {},
     "output_type": "execute_result"
    },
    {
     "data": {
      "image/png": "[encoded data removed]",
      "text/plain": [
       "<Figure size 864x432 with 1 Axes>"
      ]
     },
     "metadata": {
      "needs_background": "light"
     },
     "output_type": "display_data"
    }
   ],
   "source": [
    "plt.figure(figsize=(12,6))\n",
    "TS['Close']['2022-01-01':'2022-12-23'].rolling(window=30).mean().plot(label='30 Day Avg')\n",
    "TS['Close']['2022-01-01':'2022-12-23'].plot(label='TS CLOSE')\n",
    "plt.legend()"
   ]
  },
  {
   "cell_type": "code",
   "execution_count": 33,
   "id": "23bc838e",
   "metadata": {},
   "outputs": [
    {
     "data": {
      "text/plain": [
       "<AxesSubplot:xlabel='Car Ticker', ylabel='Car Ticker'>"
      ]
     },
     "execution_count": 33,
     "metadata": {},
     "output_type": "execute_result"
    },
    {
     "data": {
      "image/png": "[encoded data removed]",
      "text/plain": [
       "<Figure size 432x288 with 2 Axes>"
      ]
     },
     "metadata": {
      "needs_background": "light"
     },
     "output_type": "display_data"
    }
   ],
   "source": [
    "sns.heatmap(car_stocks.xs(key='Close',axis=1,level='Stock Info').corr(),annot=True)"
   ]
  },
  {
   "cell_type": "code",
   "execution_count": 34,
   "id": "fe437d1a",
   "metadata": {},
   "outputs": [
    {
     "data": {
      "text/plain": [
       "<seaborn.matrix.ClusterGrid at 0x15c9e7d4730>"
      ]
     },
     "execution_count": 34,
     "metadata": {},
     "output_type": "execute_result"
    },
    {
     "data": {
      "image/png": "[encoded data removed]",
      "text/plain": [
       "<Figure size 720x720 with 4 Axes>"
      ]
     },
     "metadata": {
      "needs_background": "light"
     },
     "output_type": "display_data"
    }
   ],
   "source": [
    "sns.clustermap(car_stocks.xs(key='Close',axis=1,level='Stock Info').corr(),annot=True)"
   ]
  },
  {
   "cell_type": "code",
   "execution_count": 35,
   "id": "47ce83a8",
   "metadata": {},
   "outputs": [
    {
     "data": {
      "application/vnd.plotly.v1+json": {
       "config": {
        "linkText": "Export to plot.ly",
        "plotlyServerURL": "https://plot.ly",
        "showLink": true
       },
       "data": [
        {
         "colorscale": [
          [
           0,
           "rgb(165,0,38)"
          ],
          [
           0.1,
           "rgb(215,48,39)"
          ],
          [
           0.2,
           "rgb(244,109,67)"
          ],
          [
           0.3,
           "rgb(253,174,97)"
          ],
          [
           0.4,
           "rgb(254,224,144)"
          ],
          [
           0.5,
           "rgb(255,255,191)"
          ],
          [
           0.6,
           "rgb(224,243,248)"
          ],
          [
           0.7,
           "rgb(171,217,233)"
          ],
          [
           0.8,
           "rgb(116,173,209)"
          ],
          [
           0.9,
           "rgb(69,117,180)"
          ],
          [
           1,
           "rgb(49,54,149)"
          ]
         ],
         "type": "heatmap",
         "x": [
          "TS",
          "HY",
          "KIA",
          "BMW",
          "MCB"
         ],
         "y": [
          "TS",
          "HY",
          "KIA",
          "BMW",
          "MCB"
         ],
         "z": [
          [
           1,
           0.7193764189513193,
           0.6000465857522719,
           0.1903462403435425,
           0.3260340111733844
          ],
          [
           0.7193764189513193,
           1,
           0.7695910412262976,
           0.5200615968284362,
           0.6258995604628027
          ],
          [
           0.6000465857522719,
           0.7695910412262976,
           1,
           0.09937833854664156,
           0.2207174873203297
          ],
          [
           0.1903462403435425,
           0.5200615968284362,
           0.09937833854664156,
           1,
           0.8912650276901726
          ],
          [
           0.3260340111733844,
           0.6258995604628027,
           0.2207174873203297,
           0.8912650276901726,
           1
          ]
         ],
         "zmax": 1,
         "zmin": 0.09937833854664156
        }
       ],
       "layout": {
        "legend": {
         "bgcolor": "#F5F6F9",
         "font": {
          "color": "#4D5663"
         }
        },
        "paper_bgcolor": "#F5F6F9",
        "plot_bgcolor": "#F5F6F9",
        "template": {
         "data": {
          "bar": [
           {
            "error_x": {
             "color": "#2a3f5f"
            },
            "error_y": {
             "color": "#2a3f5f"
            },
            "marker": {
             "line": {
              "color": "#E5ECF6",
              "width": 0.5
             },
             "pattern": {
              "fillmode": "overlay",
              "size": 10,
              "solidity": 0.2
             }
            },
            "type": "bar"
           }
          ],
          "barpolar": [
           {
            "marker": {
             "line": {
              "color": "#E5ECF6",
              "width": 0.5
             },
             "pattern": {
              "fillmode": "overlay",
              "size": 10,
              "solidity": 0.2
             }
            },
            "type": "barpolar"
           }
          ],
          "carpet": [
           {
            "aaxis": {
             "endlinecolor": "#2a3f5f",
             "gridcolor": "white",
             "linecolor": "white",
             "minorgridcolor": "white",
             "startlinecolor": "#2a3f5f"
            },
            "baxis": {
             "endlinecolor": "#2a3f5f",
             "gridcolor": "white",
             "linecolor": "white",
             "minorgridcolor": "white",
             "startlinecolor": "#2a3f5f"
            },
            "type": "carpet"
           }
          ],
          "choropleth": [
           {
            "colorbar": {
             "outlinewidth": 0,
             "ticks": ""
            },
            "type": "choropleth"
           }
          ],
          "contour": [
           {
            "colorbar": {
             "outlinewidth": 0,
             "ticks": ""
            },
            "colorscale": [
             [
              0,
              "#0d0887"
             ],
             [
              0.1111111111111111,
              "#46039f"
             ],
             [
              0.2222222222222222,
              "#7201a8"
             ],
             [
              0.3333333333333333,
              "#9c179e"
             ],
             [
              0.4444444444444444,
              "#bd3786"
             ],
             [
              0.5555555555555556,
              "#d8576b"
             ],
             [
              0.6666666666666666,
              "#ed7953"
             ],
             [
              0.7777777777777778,
              "#fb9f3a"
             ],
             [
              0.8888888888888888,
              "#fdca26"
             ],
             [
              1,
              "#f0f921"
             ]
            ],
            "type": "contour"
           }
          ],
          "contourcarpet": [
           {
            "colorbar": {
             "outlinewidth": 0,
             "ticks": ""
            },
            "type": "contourcarpet"
           }
          ],
          "heatmap": [
           {
            "colorbar": {
             "outlinewidth": 0,
             "ticks": ""
            },
            "colorscale": [
             [
              0,
              "#0d0887"
             ],
             [
              0.1111111111111111,
              "#46039f"
             ],
             [
              0.2222222222222222,
              "#7201a8"
             ],
             [
              0.3333333333333333,
              "#9c179e"
             ],
             [
              0.4444444444444444,
              "#bd3786"
             ],
             [
              0.5555555555555556,
              "#d8576b"
             ],
             [
              0.6666666666666666,
              "#ed7953"
             ],
             [
              0.7777777777777778,
              "#fb9f3a"
             ],
             [
              0.8888888888888888,
              "#fdca26"
             ],
             [
              1,
              "#f0f921"
             ]
            ],
            "type": "heatmap"
           }
          ],
          "heatmapgl": [
           {
            "colorbar": {
             "outlinewidth": 0,
             "ticks": ""
            },
            "colorscale": [
             [
              0,
              "#0d0887"
             ],
             [
              0.1111111111111111,
              "#46039f"
             ],
             [
              0.2222222222222222,
              "#7201a8"
             ],
             [
              0.3333333333333333,
              "#9c179e"
             ],
             [
              0.4444444444444444,
              "#bd3786"
             ],
             [
              0.5555555555555556,
              "#d8576b"
             ],
             [
              0.6666666666666666,
              "#ed7953"
             ],
             [
              0.7777777777777778,
              "#fb9f3a"
             ],
             [
              0.8888888888888888,
              "#fdca26"
             ],
             [
              1,
              "#f0f921"
             ]
            ],
            "type": "heatmapgl"
           }
          ],
          "histogram": [
           {
            "marker": {
             "pattern": {
              "fillmode": "overlay",
              "size": 10,
              "solidity": 0.2
             }
            },
            "type": "histogram"
           }
          ],
          "histogram2d": [
           {
            "colorbar": {
             "outlinewidth": 0,
             "ticks": ""
            },
            "colorscale": [
             [
              0,
              "#0d0887"
             ],
             [
              0.1111111111111111,
              "#46039f"
             ],
             [
              0.2222222222222222,
              "#7201a8"
             ],
             [
              0.3333333333333333,
              "#9c179e"
             ],
             [
              0.4444444444444444,
              "#bd3786"
             ],
             [
              0.5555555555555556,
              "#d8576b"
             ],
             [
              0.6666666666666666,
              "#ed7953"
             ],
             [
              0.7777777777777778,
              "#fb9f3a"
             ],
             [
              0.8888888888888888,
              "#fdca26"
             ],
             [
              1,
              "#f0f921"
             ]
            ],
            "type": "histogram2d"
           }
          ],
          "histogram2dcontour": [
           {
            "colorbar": {
             "outlinewidth": 0,
             "ticks": ""
            },
            "colorscale": [
             [
              0,
              "#0d0887"
             ],
             [
              0.1111111111111111,
              "#46039f"
             ],
             [
              0.2222222222222222,
              "#7201a8"
             ],
             [
              0.3333333333333333,
              "#9c179e"
             ],
             [
              0.4444444444444444,
              "#bd3786"
             ],
             [
              0.5555555555555556,
              "#d8576b"
             ],
             [
              0.6666666666666666,
              "#ed7953"
             ],
             [
              0.7777777777777778,
              "#fb9f3a"
             ],
             [
              0.8888888888888888,
              "#fdca26"
             ],
             [
              1,
              "#f0f921"
             ]
            ],
            "type": "histogram2dcontour"
           }
          ],
          "mesh3d": [
           {
            "colorbar": {
             "outlinewidth": 0,
             "ticks": ""
            },
            "type": "mesh3d"
           }
          ],
          "parcoords": [
           {
            "line": {
             "colorbar": {
              "outlinewidth": 0,
              "ticks": ""
             }
            },
            "type": "parcoords"
           }
          ],
          "pie": [
           {
            "automargin": true,
            "type": "pie"
           }
          ],
          "scatter": [
           {
            "marker": {
             "colorbar": {
              "outlinewidth": 0,
              "ticks": ""
             }
            },
            "type": "scatter"
           }
          ],
          "scatter3d": [
           {
            "line": {
             "colorbar": {
              "outlinewidth": 0,
              "ticks": ""
             }
            },
            "marker": {
             "colorbar": {
              "outlinewidth": 0,
              "ticks": ""
             }
            },
            "type": "scatter3d"
           }
          ],
          "scattercarpet": [
           {
            "marker": {
             "colorbar": {
              "outlinewidth": 0,
              "ticks": ""
             }
            },
            "type": "scattercarpet"
           }
          ],
          "scattergeo": [
           {
            "marker": {
             "colorbar": {
              "outlinewidth": 0,
              "ticks": ""
             }
            },
            "type": "scattergeo"
           }
          ],
          "scattergl": [
           {
            "marker": {
             "colorbar": {
              "outlinewidth": 0,
              "ticks": ""
             }
            },
            "type": "scattergl"
           }
          ],
          "scattermapbox": [
           {
            "marker": {
             "colorbar": {
              "outlinewidth": 0,
              "ticks": ""
             }
            },
            "type": "scattermapbox"
           }
          ],
          "scatterpolar": [
           {
            "marker": {
             "colorbar": {
              "outlinewidth": 0,
              "ticks": ""
             }
            },
            "type": "scatterpolar"
           }
          ],
          "scatterpolargl": [
           {
            "marker": {
             "colorbar": {
              "outlinewidth": 0,
              "ticks": ""
             }
            },
            "type": "scatterpolargl"
           }
          ],
          "scatterternary": [
           {
            "marker": {
             "colorbar": {
              "outlinewidth": 0,
              "ticks": ""
             }
            },
            "type": "scatterternary"
           }
          ],
          "surface": [
           {
            "colorbar": {
             "outlinewidth": 0,
             "ticks": ""
            },
            "colorscale": [
             [
              0,
              "#0d0887"
             ],
             [
              0.1111111111111111,
              "#46039f"
             ],
             [
              0.2222222222222222,
              "#7201a8"
             ],
             [
              0.3333333333333333,
              "#9c179e"
             ],
             [
              0.4444444444444444,
              "#bd3786"
             ],
             [
              0.5555555555555556,
              "#d8576b"
             ],
             [
              0.6666666666666666,
              "#ed7953"
             ],
             [
              0.7777777777777778,
              "#fb9f3a"
             ],
             [
              0.8888888888888888,
              "#fdca26"
             ],
             [
              1,
              "#f0f921"
             ]
            ],
            "type": "surface"
           }
          ],
          "table": [
           {
            "cells": {
             "fill": {
              "color": "#EBF0F8"
             },
             "line": {
              "color": "white"
             }
            },
            "header": {
             "fill": {
              "color": "#C8D4E3"
             },
             "line": {
              "color": "white"
             }
            },
            "type": "table"
           }
          ]
         },
         "layout": {
          "annotationdefaults": {
           "arrowcolor": "#2a3f5f",
           "arrowhead": 0,
           "arrowwidth": 1
          },
          "autotypenumbers": "strict",
          "coloraxis": {
           "colorbar": {
            "outlinewidth": 0,
            "ticks": ""
           }
          },
          "colorscale": {
           "diverging": [
            [
             0,
             "#8e0152"
            ],
            [
             0.1,
             "#c51b7d"
            ],
            [
             0.2,
             "#de77ae"
            ],
            [
             0.3,
             "#f1b6da"
            ],
            [
             0.4,
             "#fde0ef"
            ],
            [
             0.5,
             "#f7f7f7"
            ],
            [
             0.6,
             "#e6f5d0"
            ],
            [
             0.7,
             "#b8e186"
            ],
            [
             0.8,
             "#7fbc41"
            ],
            [
             0.9,
             "#4d9221"
            ],
            [
             1,
             "#276419"
            ]
           ],
           "sequential": [
            [
             0,
             "#0d0887"
            ],
            [
             0.1111111111111111,
             "#46039f"
            ],
            [
             0.2222222222222222,
             "#7201a8"
            ],
            [
             0.3333333333333333,
             "#9c179e"
            ],
            [
             0.4444444444444444,
             "#bd3786"
            ],
            [
             0.5555555555555556,
             "#d8576b"
            ],
            [
             0.6666666666666666,
             "#ed7953"
            ],
            [
             0.7777777777777778,
             "#fb9f3a"
            ],
            [
             0.8888888888888888,
             "#fdca26"
            ],
            [
             1,
             "#f0f921"
            ]
           ],
           "sequentialminus": [
            [
             0,
             "#0d0887"
            ],
            [
             0.1111111111111111,
             "#46039f"
            ],
            [
             0.2222222222222222,
             "#7201a8"
            ],
            [
             0.3333333333333333,
             "#9c179e"
            ],
            [
             0.4444444444444444,
             "#bd3786"
            ],
            [
             0.5555555555555556,
             "#d8576b"
            ],
            [
             0.6666666666666666,
             "#ed7953"
            ],
            [
             0.7777777777777778,
             "#fb9f3a"
            ],
            [
             0.8888888888888888,
             "#fdca26"
            ],
            [
             1,
             "#f0f921"
            ]
           ]
          },
          "colorway": [
           "#636efa",
           "#EF553B",
           "#00cc96",
           "#ab63fa",
           "#FFA15A",
           "#19d3f3",
           "#FF6692",
           "#B6E880",
           "#FF97FF",
           "#FECB52"
          ],
          "font": {
           "color": "#2a3f5f"
          },
          "geo": {
           "bgcolor": "white",
           "lakecolor": "white",
           "landcolor": "#E5ECF6",
           "showlakes": true,
           "showland": true,
           "subunitcolor": "white"
          },
          "hoverlabel": {
           "align": "left"
          },
          "hovermode": "closest",
          "mapbox": {
           "style": "light"
          },
          "paper_bgcolor": "white",
          "plot_bgcolor": "#E5ECF6",
          "polar": {
           "angularaxis": {
            "gridcolor": "white",
            "linecolor": "white",
            "ticks": ""
           },
           "bgcolor": "#E5ECF6",
           "radialaxis": {
            "gridcolor": "white",
            "linecolor": "white",
            "ticks": ""
           }
          },
          "scene": {
           "xaxis": {
            "backgroundcolor": "#E5ECF6",
            "gridcolor": "white",
            "gridwidth": 2,
            "linecolor": "white",
            "showbackground": true,
            "ticks": "",
            "zerolinecolor": "white"
           },
           "yaxis": {
            "backgroundcolor": "#E5ECF6",
            "gridcolor": "white",
            "gridwidth": 2,
            "linecolor": "white",
            "showbackground": true,
            "ticks": "",
            "zerolinecolor": "white"
           },
           "zaxis": {
            "backgroundcolor": "#E5ECF6",
            "gridcolor": "white",
            "gridwidth": 2,
            "linecolor": "white",
            "showbackground": true,
            "ticks": "",
            "zerolinecolor": "white"
           }
          },
          "shapedefaults": {
           "line": {
            "color": "#2a3f5f"
           }
          },
          "ternary": {
           "aaxis": {
            "gridcolor": "white",
            "linecolor": "white",
            "ticks": ""
           },
           "baxis": {
            "gridcolor": "white",
            "linecolor": "white",
            "ticks": ""
           },
           "bgcolor": "#E5ECF6",
           "caxis": {
            "gridcolor": "white",
            "linecolor": "white",
            "ticks": ""
           }
          },
          "title": {
           "x": 0.05
          },
          "xaxis": {
           "automargin": true,
           "gridcolor": "white",
           "linecolor": "white",
           "ticks": "",
           "title": {
            "standoff": 15
           },
           "zerolinecolor": "white",
           "zerolinewidth": 2
          },
          "yaxis": {
           "automargin": true,
           "gridcolor": "white",
           "linecolor": "white",
           "ticks": "",
           "title": {
            "standoff": 15
           },
           "zerolinecolor": "white",
           "zerolinewidth": 2
          }
         }
        },
        "title": {
         "font": {
          "color": "#4D5663"
         }
        },
        "xaxis": {
         "gridcolor": "#E1E5ED",
         "showgrid": true,
         "tickfont": {
          "color": "#4D5663"
         },
         "title": {
          "font": {
           "color": "#4D5663"
          },
          "text": ""
         },
         "zerolinecolor": "#E1E5ED"
        },
        "yaxis": {
         "gridcolor": "#E1E5ED",
         "showgrid": true,
         "tickfont": {
          "color": "#4D5663"
         },
         "title": {
          "font": {
           "color": "#4D5663"
          },
          "text": ""
         },
         "zerolinecolor": "#E1E5ED"
        }
       }
      },
      "text/html": [
       "<div>                            <div id=\"6949ca45-d640-4993-8b72-972f0fe44cd6\" class=\"plotly-graph-div\" style=\"height:525px; width:100%;\"></div>            <script type=\"text/javascript\">                require([\"plotly\"], function(Plotly) {                    window.PLOTLYENV=window.PLOTLYENV || {};\n",
       "                    window.PLOTLYENV.BASE_URL='https://plot.ly';                                    if (document.getElementById(\"6949ca45-d640-4993-8b72-972f0fe44cd6\")) {                    Plotly.newPlot(                        \"6949ca45-d640-4993-8b72-972f0fe44cd6\",                        [{\"colorscale\":[[0.0,\"rgb(165,0,38)\"],[0.1,\"rgb(215,48,39)\"],[0.2,\"rgb(244,109,67)\"],[0.3,\"rgb(253,174,97)\"],[0.4,\"rgb(254,224,144)\"],[0.5,\"rgb(255,255,191)\"],[0.6,\"rgb(224,243,248)\"],[0.7,\"rgb(171,217,233)\"],[0.8,\"rgb(116,173,209)\"],[0.9,\"rgb(69,117,180)\"],[1.0,\"rgb(49,54,149)\"]],\"x\":[\"TS\",\"HY\",\"KIA\",\"BMW\",\"MCB\"],\"y\":[\"TS\",\"HY\",\"KIA\",\"BMW\",\"MCB\"],\"z\":[[1.0,0.7193764189513193,0.6000465857522719,0.1903462403435425,0.3260340111733844],[0.7193764189513193,1.0,0.7695910412262976,0.5200615968284362,0.6258995604628027],[0.6000465857522719,0.7695910412262976,1.0,0.09937833854664156,0.2207174873203297],[0.1903462403435425,0.5200615968284362,0.09937833854664156,1.0,0.8912650276901726],[0.3260340111733844,0.6258995604628027,0.2207174873203297,0.8912650276901726,1.0]],\"zmax\":1.0,\"zmin\":0.09937833854664156,\"type\":\"heatmap\"}],                        {\"legend\":{\"bgcolor\":\"#F5F6F9\",\"font\":{\"color\":\"#4D5663\"}},\"paper_bgcolor\":\"#F5F6F9\",\"plot_bgcolor\":\"#F5F6F9\",\"template\":{\"data\":{\"barpolar\":[{\"marker\":{\"line\":{\"color\":\"#E5ECF6\",\"width\":0.5},\"pattern\":{\"fillmode\":\"overlay\",\"size\":10,\"solidity\":0.2}},\"type\":\"barpolar\"}],\"bar\":[{\"error_x\":{\"color\":\"#2a3f5f\"},\"error_y\":{\"color\":\"#2a3f5f\"},\"marker\":{\"line\":{\"color\":\"#E5ECF6\",\"width\":0.5},\"pattern\":{\"fillmode\":\"overlay\",\"size\":10,\"solidity\":0.2}},\"type\":\"bar\"}],\"carpet\":[{\"aaxis\":{\"endlinecolor\":\"#2a3f5f\",\"gridcolor\":\"white\",\"linecolor\":\"white\",\"minorgridcolor\":\"white\",\"startlinecolor\":\"#2a3f5f\"},\"baxis\":{\"endlinecolor\":\"#2a3f5f\",\"gridcolor\":\"white\",\"linecolor\":\"white\",\"minorgridcolor\":\"white\",\"startlinecolor\":\"#2a3f5f\"},\"type\":\"carpet\"}],\"choropleth\":[{\"colorbar\":{\"outlinewidth\":0,\"ticks\":\"\"},\"type\":\"choropleth\"}],\"contourcarpet\":[{\"colorbar\":{\"outlinewidth\":0,\"ticks\":\"\"},\"type\":\"contourcarpet\"}],\"contour\":[{\"colorbar\":{\"outlinewidth\":0,\"ticks\":\"\"},\"colorscale\":[[0.0,\"#0d0887\"],[0.1111111111111111,\"#46039f\"],[0.2222222222222222,\"#7201a8\"],[0.3333333333333333,\"#9c179e\"],[0.4444444444444444,\"#bd3786\"],[0.5555555555555556,\"#d8576b\"],[0.6666666666666666,\"#ed7953\"],[0.7777777777777778,\"#fb9f3a\"],[0.8888888888888888,\"#fdca26\"],[1.0,\"#f0f921\"]],\"type\":\"contour\"}],\"heatmapgl\":[{\"colorbar\":{\"outlinewidth\":0,\"ticks\":\"\"},\"colorscale\":[[0.0,\"#0d0887\"],[0.1111111111111111,\"#46039f\"],[0.2222222222222222,\"#7201a8\"],[0.3333333333333333,\"#9c179e\"],[0.4444444444444444,\"#bd3786\"],[0.5555555555555556,\"#d8576b\"],[0.6666666666666666,\"#ed7953\"],[0.7777777777777778,\"#fb9f3a\"],[0.8888888888888888,\"#fdca26\"],[1.0,\"#f0f921\"]],\"type\":\"heatmapgl\"}],\"heatmap\":[{\"colorbar\":{\"outlinewidth\":0,\"ticks\":\"\"},\"colorscale\":[[0.0,\"#0d0887\"],[0.1111111111111111,\"#46039f\"],[0.2222222222222222,\"#7201a8\"],[0.3333333333333333,\"#9c179e\"],[0.4444444444444444,\"#bd3786\"],[0.5555555555555556,\"#d8576b\"],[0.6666666666666666,\"#ed7953\"],[0.7777777777777778,\"#fb9f3a\"],[0.8888888888888888,\"#fdca26\"],[1.0,\"#f0f921\"]],\"type\":\"heatmap\"}],\"histogram2dcontour\":[{\"colorbar\":{\"outlinewidth\":0,\"ticks\":\"\"},\"colorscale\":[[0.0,\"#0d0887\"],[0.1111111111111111,\"#46039f\"],[0.2222222222222222,\"#7201a8\"],[0.3333333333333333,\"#9c179e\"],[0.4444444444444444,\"#bd3786\"],[0.5555555555555556,\"#d8576b\"],[0.6666666666666666,\"#ed7953\"],[0.7777777777777778,\"#fb9f3a\"],[0.8888888888888888,\"#fdca26\"],[1.0,\"#f0f921\"]],\"type\":\"histogram2dcontour\"}],\"histogram2d\":[{\"colorbar\":{\"outlinewidth\":0,\"ticks\":\"\"},\"colorscale\":[[0.0,\"#0d0887\"],[0.1111111111111111,\"#46039f\"],[0.2222222222222222,\"#7201a8\"],[0.3333333333333333,\"#9c179e\"],[0.4444444444444444,\"#bd3786\"],[0.5555555555555556,\"#d8576b\"],[0.6666666666666666,\"#ed7953\"],[0.7777777777777778,\"#fb9f3a\"],[0.8888888888888888,\"#fdca26\"],[1.0,\"#f0f921\"]],\"type\":\"histogram2d\"}],\"histogram\":[{\"marker\":{\"pattern\":{\"fillmode\":\"overlay\",\"size\":10,\"solidity\":0.2}},\"type\":\"histogram\"}],\"mesh3d\":[{\"colorbar\":{\"outlinewidth\":0,\"ticks\":\"\"},\"type\":\"mesh3d\"}],\"parcoords\":[{\"line\":{\"colorbar\":{\"outlinewidth\":0,\"ticks\":\"\"}},\"type\":\"parcoords\"}],\"pie\":[{\"automargin\":true,\"type\":\"pie\"}],\"scatter3d\":[{\"line\":{\"colorbar\":{\"outlinewidth\":0,\"ticks\":\"\"}},\"marker\":{\"colorbar\":{\"outlinewidth\":0,\"ticks\":\"\"}},\"type\":\"scatter3d\"}],\"scattercarpet\":[{\"marker\":{\"colorbar\":{\"outlinewidth\":0,\"ticks\":\"\"}},\"type\":\"scattercarpet\"}],\"scattergeo\":[{\"marker\":{\"colorbar\":{\"outlinewidth\":0,\"ticks\":\"\"}},\"type\":\"scattergeo\"}],\"scattergl\":[{\"marker\":{\"colorbar\":{\"outlinewidth\":0,\"ticks\":\"\"}},\"type\":\"scattergl\"}],\"scattermapbox\":[{\"marker\":{\"colorbar\":{\"outlinewidth\":0,\"ticks\":\"\"}},\"type\":\"scattermapbox\"}],\"scatterpolargl\":[{\"marker\":{\"colorbar\":{\"outlinewidth\":0,\"ticks\":\"\"}},\"type\":\"scatterpolargl\"}],\"scatterpolar\":[{\"marker\":{\"colorbar\":{\"outlinewidth\":0,\"ticks\":\"\"}},\"type\":\"scatterpolar\"}],\"scatter\":[{\"marker\":{\"colorbar\":{\"outlinewidth\":0,\"ticks\":\"\"}},\"type\":\"scatter\"}],\"scatterternary\":[{\"marker\":{\"colorbar\":{\"outlinewidth\":0,\"ticks\":\"\"}},\"type\":\"scatterternary\"}],\"surface\":[{\"colorbar\":{\"outlinewidth\":0,\"ticks\":\"\"},\"colorscale\":[[0.0,\"#0d0887\"],[0.1111111111111111,\"#46039f\"],[0.2222222222222222,\"#7201a8\"],[0.3333333333333333,\"#9c179e\"],[0.4444444444444444,\"#bd3786\"],[0.5555555555555556,\"#d8576b\"],[0.6666666666666666,\"#ed7953\"],[0.7777777777777778,\"#fb9f3a\"],[0.8888888888888888,\"#fdca26\"],[1.0,\"#f0f921\"]],\"type\":\"surface\"}],\"table\":[{\"cells\":{\"fill\":{\"color\":\"#EBF0F8\"},\"line\":{\"color\":\"white\"}},\"header\":{\"fill\":{\"color\":\"#C8D4E3\"},\"line\":{\"color\":\"white\"}},\"type\":\"table\"}]},\"layout\":{\"annotationdefaults\":{\"arrowcolor\":\"#2a3f5f\",\"arrowhead\":0,\"arrowwidth\":1},\"autotypenumbers\":\"strict\",\"coloraxis\":{\"colorbar\":{\"outlinewidth\":0,\"ticks\":\"\"}},\"colorscale\":{\"diverging\":[[0,\"#8e0152\"],[0.1,\"#c51b7d\"],[0.2,\"#de77ae\"],[0.3,\"#f1b6da\"],[0.4,\"#fde0ef\"],[0.5,\"#f7f7f7\"],[0.6,\"#e6f5d0\"],[0.7,\"#b8e186\"],[0.8,\"#7fbc41\"],[0.9,\"#4d9221\"],[1,\"#276419\"]],\"sequential\":[[0.0,\"#0d0887\"],[0.1111111111111111,\"#46039f\"],[0.2222222222222222,\"#7201a8\"],[0.3333333333333333,\"#9c179e\"],[0.4444444444444444,\"#bd3786\"],[0.5555555555555556,\"#d8576b\"],[0.6666666666666666,\"#ed7953\"],[0.7777777777777778,\"#fb9f3a\"],[0.8888888888888888,\"#fdca26\"],[1.0,\"#f0f921\"]],\"sequentialminus\":[[0.0,\"#0d0887\"],[0.1111111111111111,\"#46039f\"],[0.2222222222222222,\"#7201a8\"],[0.3333333333333333,\"#9c179e\"],[0.4444444444444444,\"#bd3786\"],[0.5555555555555556,\"#d8576b\"],[0.6666666666666666,\"#ed7953\"],[0.7777777777777778,\"#fb9f3a\"],[0.8888888888888888,\"#fdca26\"],[1.0,\"#f0f921\"]]},\"colorway\":[\"#636efa\",\"#EF553B\",\"#00cc96\",\"#ab63fa\",\"#FFA15A\",\"#19d3f3\",\"#FF6692\",\"#B6E880\",\"#FF97FF\",\"#FECB52\"],\"font\":{\"color\":\"#2a3f5f\"},\"geo\":{\"bgcolor\":\"white\",\"lakecolor\":\"white\",\"landcolor\":\"#E5ECF6\",\"showlakes\":true,\"showland\":true,\"subunitcolor\":\"white\"},\"hoverlabel\":{\"align\":\"left\"},\"hovermode\":\"closest\",\"mapbox\":{\"style\":\"light\"},\"paper_bgcolor\":\"white\",\"plot_bgcolor\":\"#E5ECF6\",\"polar\":{\"angularaxis\":{\"gridcolor\":\"white\",\"linecolor\":\"white\",\"ticks\":\"\"},\"bgcolor\":\"#E5ECF6\",\"radialaxis\":{\"gridcolor\":\"white\",\"linecolor\":\"white\",\"ticks\":\"\"}},\"scene\":{\"xaxis\":{\"backgroundcolor\":\"#E5ECF6\",\"gridcolor\":\"white\",\"gridwidth\":2,\"linecolor\":\"white\",\"showbackground\":true,\"ticks\":\"\",\"zerolinecolor\":\"white\"},\"yaxis\":{\"backgroundcolor\":\"#E5ECF6\",\"gridcolor\":\"white\",\"gridwidth\":2,\"linecolor\":\"white\",\"showbackground\":true,\"ticks\":\"\",\"zerolinecolor\":\"white\"},\"zaxis\":{\"backgroundcolor\":\"#E5ECF6\",\"gridcolor\":\"white\",\"gridwidth\":2,\"linecolor\":\"white\",\"showbackground\":true,\"ticks\":\"\",\"zerolinecolor\":\"white\"}},\"shapedefaults\":{\"line\":{\"color\":\"#2a3f5f\"}},\"ternary\":{\"aaxis\":{\"gridcolor\":\"white\",\"linecolor\":\"white\",\"ticks\":\"\"},\"baxis\":{\"gridcolor\":\"white\",\"linecolor\":\"white\",\"ticks\":\"\"},\"bgcolor\":\"#E5ECF6\",\"caxis\":{\"gridcolor\":\"white\",\"linecolor\":\"white\",\"ticks\":\"\"}},\"title\":{\"x\":0.05},\"xaxis\":{\"automargin\":true,\"gridcolor\":\"white\",\"linecolor\":\"white\",\"ticks\":\"\",\"title\":{\"standoff\":15},\"zerolinecolor\":\"white\",\"zerolinewidth\":2},\"yaxis\":{\"automargin\":true,\"gridcolor\":\"white\",\"linecolor\":\"white\",\"ticks\":\"\",\"title\":{\"standoff\":15},\"zerolinecolor\":\"white\",\"zerolinewidth\":2}}},\"title\":{\"font\":{\"color\":\"#4D5663\"}},\"xaxis\":{\"gridcolor\":\"#E1E5ED\",\"showgrid\":true,\"tickfont\":{\"color\":\"#4D5663\"},\"title\":{\"font\":{\"color\":\"#4D5663\"},\"text\":\"\"},\"zerolinecolor\":\"#E1E5ED\"},\"yaxis\":{\"gridcolor\":\"#E1E5ED\",\"showgrid\":true,\"tickfont\":{\"color\":\"#4D5663\"},\"title\":{\"font\":{\"color\":\"#4D5663\"},\"text\":\"\"},\"zerolinecolor\":\"#E1E5ED\"}},                        {\"showLink\": true, \"linkText\": \"Export to plot.ly\", \"plotlyServerURL\": \"https://plot.ly\", \"responsive\": true}                    ).then(function(){\n",
       "                            \n",
       "var gd = document.getElementById('6949ca45-d640-4993-8b72-972f0fe44cd6');\n",
       "var x = new MutationObserver(function (mutations, observer) {{\n",
       "        var display = window.getComputedStyle(gd).display;\n",
       "        if (!display || display === 'none') {{\n",
       "            console.log([gd, 'removed!']);\n",
       "            Plotly.purge(gd);\n",
       "            observer.disconnect();\n",
       "        }}\n",
       "}});\n",
       "\n",
       "// Listen for the removal of the full notebook cells\n",
       "var notebookContainer = gd.closest('#notebook-container');\n",
       "if (notebookContainer) {{\n",
       "    x.observe(notebookContainer, {childList: true});\n",
       "}}\n",
       "\n",
       "// Listen for the clearing of the current output cell\n",
       "var outputEl = gd.closest('.output');\n",
       "if (outputEl) {{\n",
       "    x.observe(outputEl, {childList: true});\n",
       "}}\n",
       "\n",
       "                        })                };                });            </script>        </div>"
      ]
     },
     "metadata": {},
     "output_type": "display_data"
    }
   ],
   "source": [
    "close_corr = car_stocks.xs(key='Close',axis=1,level='Stock Info').corr()\n",
    "close_corr.iplot(kind='heatmap',colorscale='rdylbu')"
   ]
  },
  {
   "cell_type": "code",
   "execution_count": 39,
   "id": "158aa9d5",
   "metadata": {},
   "outputs": [
    {
     "data": {
      "application/vnd.plotly.v1+json": {
       "config": {
        "linkText": "Export to plot.ly",
        "plotlyServerURL": "https://plot.ly",
        "showLink": true
       },
       "data": [
        {
         "close": [
          399.926666,
          383.196655,
          362.706665,
          354.899994,
          342.320007,
          352.706665,
          354.799988,
          368.73999,
          343.853333,
          349.869995,
          343.503326,
          331.883331,
          332.089996,
          314.633331,
          310,
          306.133331,
          312.470001,
          276.366669,
          282.116669,
          312.23999,
          310.416656,
          301.886658,
          297.046661,
          307.773346,
          302.446655,
          307.333344,
          310.666656,
          301.516663,
          286.666656,
          291.920013,
          307.476654,
          307.796661,
          292.116669,
          285.660004,
          273.843323,
          254.679993,
          266.92334,
          269.956665,
          290.143341,
          288.123322,
          293.296661,
          279.763336,
          279.429993,
          268.193329,
          274.799988,
          286.323334,
          279.433319,
          265.116669,
          255.456665,
          267.296661,
          280.07666,
          290.533325,
          301.796661,
          307.053345,
          331.32666,
          333.036682,
          337.973328,
          336.880005,
          363.946655,
          366.523346,
          364.66333,
          359.200012,
          361.529999,
          381.816681,
          363.753326,
          348.58667,
          352.420013,
          341.829987,
          325.309998,
          328.983337,
          340.790009,
          328.333344,
          334.763336,
          342.716675,
          325.733337,
          336.26001,
          335.016663,
          332.67334,
          292.140015,
          293.83667,
          292.503326,
          290.253326,
          300.980011,
          303.083344,
          317.540009,
          291.093323,
          288.549988,
          262.369995,
          266.679993,
          244.666672,
          242.666672,
          256.529999,
          241.456665,
          253.869995,
          236.603333,
          236.473328,
          221.300003,
          224.96666,
          209.386673,
          219.600006,
          235.910004,
          253.210007,
          252.753326,
          246.789993,
          258.333344,
          234.516663,
          238.279999,
          238.886673,
          241.866669,
          239.706665,
          232.229996,
          215.736664,
          220.889999,
          233,
          213.100006,
          216.759995,
          237.036667,
          236.08667,
          235.070007,
          245.706665,
          244.919998,
          232.66333,
          228.490005,
          224.473328,
          227.263336,
          233.066666,
          231.733337,
          244.543335,
          250.763336,
          234.343338,
          233.070007,
          237.039993,
          238.313339,
          240.066666,
          240.546661,
          245.529999,
          247.5,
          271.706665,
          272.243347,
          268.433319,
          258.859985,
          274.820007,
          280.899994,
          297.149994,
          297.276672,
          300.58667,
          307.396667,
          308.633331,
          288.170013,
          290.42334,
          283.333344,
          294.356659,
          286.630005,
          300.029999,
          309.320007,
          306.563324,
          303.996674,
          302.869995,
          296.666656,
          289.91333,
          296.453339,
          297.09668,
          296.070007,
          288.089996,
          284.820007,
          277.700012,
          275.609985,
          277.160004,
          270.209991,
          274.420013,
          283.700012,
          289.26001,
          299.679993,
          304.420013,
          292.130005,
          302.609985,
          303.75,
          303.350006,
          309.070007,
          308.730011,
          300.799988,
          288.589996,
          275.329987,
          276.01001,
          282.940002,
          287.809998,
          268.209991,
          265.25,
          242.399994,
          249.440002,
          240.809998,
          238.130005,
          223.070007,
          222.960007,
          216.5,
          217.240005,
          221.720001,
          204.990005,
          219.350006,
          220.190002,
          222.039993,
          207.279999,
          214.440002,
          211.25,
          222.419998,
          224.639999,
          225.089996,
          228.520004,
          227.539993,
          227.820007,
          214.979996,
          215.309998,
          207.470001,
          197.080002,
          191.300003,
          177.589996,
          190.720001,
          195.970001,
          190.949997,
          194.419998,
          186.919998,
          183.169998,
          180.190002,
          167.869995,
          169.910004,
          183.199997,
          182.860001,
          182.919998,
          180.830002,
          194.699997,
          194.699997,
          194.860001,
          182.449997,
          179.820007,
          174.039993,
          173.440002,
          179.050003,
          167.820007,
          160.949997,
          156.800003,
          157.669998,
          150.229996,
          149.869995,
          137.800003,
          137.570007,
          125.349998,
          123.150002
         ],
         "high": [
          400.356659,
          402.666656,
          390.113342,
          362.666656,
          360.309998,
          353.033325,
          358.616669,
          371.613342,
          371.866669,
          350.666656,
          356.929993,
          351.556671,
          347.220001,
          334.850006,
          311.170013,
          317.08667,
          329.230011,
          311.796661,
          285.833344,
          312.66333,
          314.566681,
          310.5,
          312.333344,
          312.166656,
          315.92334,
          308.763336,
          315.42334,
          314.603333,
          305.320007,
          299.626678,
          307.666656,
          308.809998,
          306.166656,
          295.623322,
          285.57666,
          278.433319,
          267.493347,
          273.166656,
          292.286682,
          296.626678,
          295.493347,
          295.480011,
          285.216675,
          288.713318,
          283.329987,
          286.853333,
          284.816681,
          281.266663,
          266.899994,
          268.523346,
          280.666656,
          291.666656,
          302.616669,
          314.283325,
          332.619995,
          346.899994,
          341.496674,
          340.600006,
          365.959991,
          371.589996,
          371.316681,
          367.713318,
          364.916656,
          383.303345,
          384.290009,
          359.666656,
          358.863342,
          349.480011,
          336.156677,
          340.396667,
          342.079987,
          337.570007,
          338.306671,
          344.980011,
          344.666656,
          364.073334,
          344.950012,
          336.206665,
          333.333344,
          306,
          300,
          311.466675,
          302.119995,
          308.026672,
          318.5,
          315.200012,
          296,
          281.876678,
          275.119995,
          269.92334,
          253.220001,
          262.450012,
          256.58667,
          254.82666,
          253.5,
          244.666672,
          240.526672,
          226.653336,
          217.973328,
          223.106674,
          239.556671,
          253.266663,
          259.600006,
          257.32666,
          264.209991,
          247.796661,
          244.866669,
          239.996674,
          249.963333,
          255.546661,
          239.5,
          226.633331,
          226.330002,
          235.66333,
          225.166672,
          220.970001,
          243.57666,
          246.833328,
          239.316666,
          246.066666,
          252.070007,
          249.970001,
          231.17334,
          229.456665,
          230.229996,
          233.146667,
          234.563339,
          245.363327,
          254.979996,
          253.063339,
          239.773331,
          242.059998,
          238.653336,
          243.623337,
          250.516663,
          247.139999,
          250.66333,
          273.266663,
          280.786682,
          274.146667,
          267.309998,
          275.926666,
          283.299988,
          298.320007,
          311.876678,
          307.833344,
          309.549988,
          313.606659,
          304.606659,
          305.200012,
          292.396667,
          297.51001,
          298.236664,
          300.160004,
          313.133331,
          314.666656,
          309.656677,
          306.5,
          300.359985,
          292.399994,
          298.82666,
          303.646667,
          302.959991,
          302,
          287.73999,
          288.480011,
          281.25,
          277.579987,
          282.350006,
          275.98999,
          283.839996,
          289.5,
          299.850006,
          305.48999,
          297.399994,
          306,
          309.119995,
          303.709991,
          309.839996,
          313.329987,
          313.799988,
          301.290009,
          284.5,
          284.089996,
          288.670013,
          289,
          283.649994,
          275.570007,
          255.160004,
          257.5,
          246.669998,
          244.580002,
          234.570007,
          226.990005,
          225.75,
          219.300003,
          222.990005,
          226.259995,
          221.860001,
          229.820007,
          222.929993,
          215.550003,
          214.660004,
          213.5,
          224.350006,
          230.600006,
          233.809998,
          228.860001,
          229.850006,
          237.399994,
          227.869995,
          221.199997,
          223.800003,
          208.899994,
          195.199997,
          195.889999,
          191,
          196.520004,
          195.729996,
          200.820007,
          192.570007,
          186.160004,
          185.190002,
          176.770004,
          170.919998,
          183.619995,
          185.199997,
          188.5,
          186.380005,
          194.759995,
          198.919998,
          196.25,
          191.270004,
          183.649994,
          179.380005,
          175.199997,
          182.5,
          177.369995,
          175.050003,
          161.619995,
          160.929993,
          160.990005,
          155.25,
          148.470001,
          141.259995,
          136.630005,
          128.619995
         ],
         "low": [
          378.679993,
          374.350006,
          360.33667,
          340.166656,
          336.666656,
          326.666656,
          346.273346,
          357.529999,
          342.179993,
          337.793335,
          338.686676,
          331.666656,
          331.333344,
          313.5,
          283.823334,
          301.070007,
          302,
          276.333344,
          264.003326,
          287.350006,
          301.666656,
          296.470001,
          293.506653,
          293.723328,
          300.90332,
          298.266663,
          306.666656,
          298.899994,
          283.566681,
          284.383331,
          297.793335,
          300.40332,
          291.366669,
          279.203339,
          267.033325,
          253.520004,
          233.333328,
          260.799988,
          271.570007,
          284.593323,
          281.42334,
          277.533325,
          275.053345,
          268.190002,
          260.723328,
          277.33667,
          270.119995,
          264.589996,
          252.013336,
          252.190002,
          267.420013,
          275.23999,
          289.130005,
          302.363342,
          307.25,
          325.466675,
          329.600006,
          332.440002,
          351.200012,
          357.703339,
          361.333344,
          358.880005,
          355.546661,
          357.51001,
          362.433319,
          342.566681,
          340.513336,
          340.813324,
          324.880005,
          325.533325,
          324.366669,
          327.396667,
          324.470001,
          331.776672,
          325.083344,
          332.140015,
          331.333344,
          325.100006,
          291.666656,
          292.453339,
          273.899994,
          290,
          282.676666,
          296.196655,
          295.093323,
          285.899994,
          281.036682,
          260.383331,
          258.083344,
          242.399994,
          226.666672,
          250.523331,
          239.696671,
          242.949997,
          233.603333,
          231.369995,
          211,
          212.686661,
          206.856674,
          207.669998,
          217.886673,
          240.176666,
          244.743332,
          243.639999,
          242.066666,
          233.416672,
          234.350006,
          230.093338,
          239.176666,
          239.32666,
          227.91333,
          214.683334,
          211.736664,
          218.149994,
          208.693329,
          213.196671,
          224.333328,
          233.82666,
          228.636673,
          236.08667,
          242.566666,
          232.343338,
          222.273331,
          218.863327,
          222.119995,
          216.166672,
          227.186661,
          232.210007,
          241.160004,
          233.626663,
          228.369995,
          225.03334,
          229.333328,
          236.889999,
          239.603333,
          236.976669,
          243.483337,
          254.866669,
          270.713318,
          267.399994,
          256.263336,
          261.790009,
          272.799988,
          279.100006,
          295,
          292.666656,
          301.149994,
          305,
          285.543335,
          289.08667,
          279.353333,
          283.369995,
          285.833344,
          285.033325,
          301.230011,
          302.883331,
          300.033325,
          301.853333,
          292.5,
          286.296661,
          287.92334,
          296.5,
          291.600006,
          287.470001,
          280.700012,
          272.649994,
          271.809998,
          266.149994,
          269.079987,
          265.73999,
          272.269989,
          279.76001,
          291.25,
          300.399994,
          290.399994,
          291.640015,
          300.720001,
          295.600006,
          297.799988,
          305.579987,
          300.630005,
          285.820007,
          272.820007,
          270.309998,
          277.51001,
          277.570007,
          265.779999,
          262.470001,
          241.009995,
          242.009995,
          233.270004,
          235.350006,
          222.020004,
          218.360001,
          215,
          211.509995,
          206.220001,
          204.160004,
          209.449997,
          217.25,
          217.779999,
          202,
          203.800003,
          198.589996,
          210,
          218.199997,
          222.850006,
          216.350006,
          221.940002,
          227.279999,
          214.820007,
          210.139999,
          203.080002,
          196.660004,
          186.75,
          177.119995,
          180.029999,
          182.589996,
          186.339996,
          192.059998,
          185.660004,
          180.899994,
          176.550003,
          167.539993,
          166.190002,
          172.5,
          180.630005,
          179,
          178.75,
          180.630005,
          191.800003,
          191.110001,
          180.550003,
          175.330002,
          172.220001,
          169.059998,
          173.360001,
          167.520004,
          156.910004,
          155.309998,
          153.279999,
          150.039993,
          145.820007,
          137.660004,
          135.889999,
          122.260002,
          121.019997
         ],
         "open": [
          382.583344,
          396.516663,
          382.216675,
          359,
          360.123322,
          333.333344,
          351.223328,
          359.616669,
          369.690002,
          339.959991,
          342.203339,
          347.236664,
          336.57666,
          332.113342,
          301.58667,
          304.733337,
          317.476654,
          311.119995,
          277.186676,
          290.90332,
          311.736664,
          309.393341,
          294,
          299.073334,
          307.929993,
          301.843323,
          311.666656,
          302.790009,
          303.209991,
          287.190002,
          300,
          304.683319,
          304.420013,
          295.333344,
          278.043335,
          276.809998,
          233.463333,
          269.743347,
          271.670013,
          289.893341,
          290.709991,
          292.92334,
          283.033325,
          285.433319,
          265.176666,
          279.82666,
          283.816681,
          280.066681,
          260.203339,
          258.42334,
          269.666656,
          276.996674,
          291.496674,
          304.993347,
          310,
          326.646667,
          336.57666,
          336,
          355.033325,
          369.329987,
          363.723328,
          364.856659,
          360.383331,
          363.126678,
          378.766663,
          357.823334,
          350.796661,
          347.736664,
          326.799988,
          332.546661,
          327.026672,
          333.09668,
          329.676666,
          335.019989,
          343.333344,
          358.243347,
          338.303345,
          326.323334,
          331.809998,
          299.526672,
          299.993347,
          300.75,
          286.92334,
          301.059998,
          301.313324,
          313.006653,
          295.666656,
          278.816681,
          273.103333,
          265,
          233.666672,
          257.82666,
          255.720001,
          249.119995,
          248.17334,
          235.666672,
          237.996674,
          218.339996,
          217.843338,
          207.949997,
          220.473328,
          241.083328,
          257.946655,
          251.720001,
          244.156662,
          243.226669,
          244.353333,
          234,
          240.08667,
          249.339996,
          235.156662,
          223.166672,
          218.286667,
          220.916672,
          222.736664,
          213.433334,
          224.603333,
          234.503326,
          237.906662,
          237.470001,
          249.366669,
          244.483337,
          230.5,
          224.509995,
          227,
          223,
          230.779999,
          233.919998,
          242.333328,
          252.103333,
          236.846664,
          225.5,
          234.896667,
          240,
          244.936661,
          245,
          246.78334,
          255.106674,
          276.220001,
          272.216675,
          266.513336,
          263.809998,
          280.066681,
          280.700012,
          301.276672,
          294.003326,
          305,
          311,
          302.670013,
          295,
          290.293335,
          297.066681,
          296.513336,
          289.416656,
          301.786682,
          311.666656,
          303.396667,
          306,
          299,
          291.91333,
          291.453339,
          297.563324,
          302.359985,
          297.429993,
          282.829987,
          287.869995,
          280.619995,
          272.579987,
          281.070007,
          272.679993,
          273.100006,
          281.299988,
          291.670013,
          300.720001,
          292.899994,
          292.23999,
          301.829987,
          299.609985,
          300.089996,
          306.910004,
          308.290009,
          299.859985,
          283.089996,
          271.829987,
          283.839996,
          283.079987,
          282.76001,
          266.149994,
          254.5,
          250.520004,
          245.009995,
          239.440002,
          233.940002,
          223.929993,
          220.949997,
          215.330002,
          208.300003,
          224.009995,
          210.039993,
          229.5,
          219.800003,
          208.279999,
          206.419998,
          205.820007,
          210.100006,
          219.399994,
          229.770004,
          225.399994,
          226.190002,
          234.050003,
          226.039993,
          211.360001,
          222.600006,
          208.649994,
          194.020004,
          190.779999,
          189.899994,
          186,
          192.770004,
          195.880005,
          191.509995,
          183.960007,
          185.050003,
          175.850006,
          168.630005,
          173.570007,
          185.059998,
          179.960007,
          184.990005,
          182.429993,
          197.080002,
          191.779999,
          189.440002,
          181.220001,
          175.029999,
          172.199997,
          173.839996,
          176.100006,
          174.869995,
          159.25,
          153.440002,
          159.639999,
          154,
          146.050003,
          139.339996,
          136,
          126.370003
         ],
         "showlegend": false,
         "type": "candlestick",
         "x": [
          "2022-01-03",
          "2022-01-04",
          "2022-01-05",
          "2022-01-06",
          "2022-01-07",
          "2022-01-10",
          "2022-01-11",
          "2022-01-12",
          "2022-01-13",
          "2022-01-14",
          "2022-01-18",
          "2022-01-19",
          "2022-01-20",
          "2022-01-21",
          "2022-01-24",
          "2022-01-25",
          "2022-01-26",
          "2022-01-27",
          "2022-01-28",
          "2022-01-31",
          "2022-02-01",
          "2022-02-02",
          "2022-02-03",
          "2022-02-04",
          "2022-02-07",
          "2022-02-08",
          "2022-02-09",
          "2022-02-10",
          "2022-02-11",
          "2022-02-14",
          "2022-02-15",
          "2022-02-16",
          "2022-02-17",
          "2022-02-18",
          "2022-02-22",
          "2022-02-23",
          "2022-02-24",
          "2022-02-25",
          "2022-02-28",
          "2022-03-01",
          "2022-03-02",
          "2022-03-03",
          "2022-03-04",
          "2022-03-07",
          "2022-03-08",
          "2022-03-09",
          "2022-03-10",
          "2022-03-11",
          "2022-03-14",
          "2022-03-15",
          "2022-03-16",
          "2022-03-17",
          "2022-03-18",
          "2022-03-21",
          "2022-03-22",
          "2022-03-23",
          "2022-03-24",
          "2022-03-25",
          "2022-03-28",
          "2022-03-29",
          "2022-03-30",
          "2022-03-31",
          "2022-04-01",
          "2022-04-04",
          "2022-04-05",
          "2022-04-06",
          "2022-04-07",
          "2022-04-08",
          "2022-04-11",
          "2022-04-12",
          "2022-04-13",
          "2022-04-14",
          "2022-04-18",
          "2022-04-19",
          "2022-04-20",
          "2022-04-21",
          "2022-04-22",
          "2022-04-25",
          "2022-04-26",
          "2022-04-27",
          "2022-04-28",
          "2022-04-29",
          "2022-05-02",
          "2022-05-03",
          "2022-05-04",
          "2022-05-05",
          "2022-05-06",
          "2022-05-09",
          "2022-05-10",
          "2022-05-11",
          "2022-05-12",
          "2022-05-13",
          "2022-05-16",
          "2022-05-17",
          "2022-05-18",
          "2022-05-19",
          "2022-05-20",
          "2022-05-23",
          "2022-05-24",
          "2022-05-25",
          "2022-05-26",
          "2022-05-27",
          "2022-05-31",
          "2022-06-01",
          "2022-06-02",
          "2022-06-03",
          "2022-06-06",
          "2022-06-07",
          "2022-06-08",
          "2022-06-09",
          "2022-06-10",
          "2022-06-13",
          "2022-06-14",
          "2022-06-15",
          "2022-06-16",
          "2022-06-17",
          "2022-06-21",
          "2022-06-22",
          "2022-06-23",
          "2022-06-24",
          "2022-06-27",
          "2022-06-28",
          "2022-06-29",
          "2022-06-30",
          "2022-07-01",
          "2022-07-05",
          "2022-07-06",
          "2022-07-07",
          "2022-07-08",
          "2022-07-11",
          "2022-07-12",
          "2022-07-13",
          "2022-07-14",
          "2022-07-15",
          "2022-07-18",
          "2022-07-19",
          "2022-07-20",
          "2022-07-21",
          "2022-07-22",
          "2022-07-25",
          "2022-07-26",
          "2022-07-27",
          "2022-07-28",
          "2022-07-29",
          "2022-08-01",
          "2022-08-02",
          "2022-08-03",
          "2022-08-04",
          "2022-08-05",
          "2022-08-08",
          "2022-08-09",
          "2022-08-10",
          "2022-08-11",
          "2022-08-12",
          "2022-08-15",
          "2022-08-16",
          "2022-08-17",
          "2022-08-18",
          "2022-08-19",
          "2022-08-22",
          "2022-08-23",
          "2022-08-24",
          "2022-08-25",
          "2022-08-26",
          "2022-08-29",
          "2022-08-30",
          "2022-08-31",
          "2022-09-01",
          "2022-09-02",
          "2022-09-06",
          "2022-09-07",
          "2022-09-08",
          "2022-09-09",
          "2022-09-12",
          "2022-09-13",
          "2022-09-14",
          "2022-09-15",
          "2022-09-16",
          "2022-09-19",
          "2022-09-20",
          "2022-09-21",
          "2022-09-22",
          "2022-09-23",
          "2022-09-26",
          "2022-09-27",
          "2022-09-28",
          "2022-09-29",
          "2022-09-30",
          "2022-10-03",
          "2022-10-04",
          "2022-10-05",
          "2022-10-06",
          "2022-10-07",
          "2022-10-10",
          "2022-10-11",
          "2022-10-12",
          "2022-10-13",
          "2022-10-14",
          "2022-10-17",
          "2022-10-18",
          "2022-10-19",
          "2022-10-20",
          "2022-10-21",
          "2022-10-24",
          "2022-10-25",
          "2022-10-26",
          "2022-10-27",
          "2022-10-28",
          "2022-10-31",
          "2022-11-01",
          "2022-11-02",
          "2022-11-03",
          "2022-11-04",
          "2022-11-07",
          "2022-11-08",
          "2022-11-09",
          "2022-11-10",
          "2022-11-11",
          "2022-11-14",
          "2022-11-15",
          "2022-11-16",
          "2022-11-17",
          "2022-11-18",
          "2022-11-21",
          "2022-11-22",
          "2022-11-23",
          "2022-11-25",
          "2022-11-28",
          "2022-11-29",
          "2022-11-30",
          "2022-12-01",
          "2022-12-02",
          "2022-12-05",
          "2022-12-06",
          "2022-12-07",
          "2022-12-08",
          "2022-12-09",
          "2022-12-12",
          "2022-12-13",
          "2022-12-14",
          "2022-12-15",
          "2022-12-16",
          "2022-12-19",
          "2022-12-20",
          "2022-12-21",
          "2022-12-22",
          "2022-12-23"
         ],
         "yaxis": "y2"
        }
       ],
       "layout": {
        "legend": {
         "bgcolor": "#F5F6F9",
         "font": {
          "color": "#4D5663"
         }
        },
        "paper_bgcolor": "#F5F6F9",
        "plot_bgcolor": "#F5F6F9",
        "template": {
         "data": {
          "bar": [
           {
            "error_x": {
             "color": "#2a3f5f"
            },
            "error_y": {
             "color": "#2a3f5f"
            },
            "marker": {
             "line": {
              "color": "#E5ECF6",
              "width": 0.5
             },
             "pattern": {
              "fillmode": "overlay",
              "size": 10,
              "solidity": 0.2
             }
            },
            "type": "bar"
           }
          ],
          "barpolar": [
           {
            "marker": {
             "line": {
              "color": "#E5ECF6",
              "width": 0.5
             },
             "pattern": {
              "fillmode": "overlay",
              "size": 10,
              "solidity": 0.2
             }
            },
            "type": "barpolar"
           }
          ],
          "carpet": [
           {
            "aaxis": {
             "endlinecolor": "#2a3f5f",
             "gridcolor": "white",
             "linecolor": "white",
             "minorgridcolor": "white",
             "startlinecolor": "#2a3f5f"
            },
            "baxis": {
             "endlinecolor": "#2a3f5f",
             "gridcolor": "white",
             "linecolor": "white",
             "minorgridcolor": "white",
             "startlinecolor": "#2a3f5f"
            },
            "type": "carpet"
           }
          ],
          "choropleth": [
           {
            "colorbar": {
             "outlinewidth": 0,
             "ticks": ""
            },
            "type": "choropleth"
           }
          ],
          "contour": [
           {
            "colorbar": {
             "outlinewidth": 0,
             "ticks": ""
            },
            "colorscale": [
             [
              0,
              "#0d0887"
             ],
             [
              0.1111111111111111,
              "#46039f"
             ],
             [
              0.2222222222222222,
              "#7201a8"
             ],
             [
              0.3333333333333333,
              "#9c179e"
             ],
             [
              0.4444444444444444,
              "#bd3786"
             ],
             [
              0.5555555555555556,
              "#d8576b"
             ],
             [
              0.6666666666666666,
              "#ed7953"
             ],
             [
              0.7777777777777778,
              "#fb9f3a"
             ],
             [
              0.8888888888888888,
              "#fdca26"
             ],
             [
              1,
              "#f0f921"
             ]
            ],
            "type": "contour"
           }
          ],
          "contourcarpet": [
           {
            "colorbar": {
             "outlinewidth": 0,
             "ticks": ""
            },
            "type": "contourcarpet"
           }
          ],
          "heatmap": [
           {
            "colorbar": {
             "outlinewidth": 0,
             "ticks": ""
            },
            "colorscale": [
             [
              0,
              "#0d0887"
             ],
             [
              0.1111111111111111,
              "#46039f"
             ],
             [
              0.2222222222222222,
              "#7201a8"
             ],
             [
              0.3333333333333333,
              "#9c179e"
             ],
             [
              0.4444444444444444,
              "#bd3786"
             ],
             [
              0.5555555555555556,
              "#d8576b"
             ],
             [
              0.6666666666666666,
              "#ed7953"
             ],
             [
              0.7777777777777778,
              "#fb9f3a"
             ],
             [
              0.8888888888888888,
              "#fdca26"
             ],
             [
              1,
              "#f0f921"
             ]
            ],
            "type": "heatmap"
           }
          ],
          "heatmapgl": [
           {
            "colorbar": {
             "outlinewidth": 0,
             "ticks": ""
            },
            "colorscale": [
             [
              0,
              "#0d0887"
             ],
             [
              0.1111111111111111,
              "#46039f"
             ],
             [
              0.2222222222222222,
              "#7201a8"
             ],
             [
              0.3333333333333333,
              "#9c179e"
             ],
             [
              0.4444444444444444,
              "#bd3786"
             ],
             [
              0.5555555555555556,
              "#d8576b"
             ],
             [
              0.6666666666666666,
              "#ed7953"
             ],
             [
              0.7777777777777778,
              "#fb9f3a"
             ],
             [
              0.8888888888888888,
              "#fdca26"
             ],
             [
              1,
              "#f0f921"
             ]
            ],
            "type": "heatmapgl"
           }
          ],
          "histogram": [
           {
            "marker": {
             "pattern": {
              "fillmode": "overlay",
              "size": 10,
              "solidity": 0.2
             }
            },
            "type": "histogram"
           }
          ],
          "histogram2d": [
           {
            "colorbar": {
             "outlinewidth": 0,
             "ticks": ""
            },
            "colorscale": [
             [
              0,
              "#0d0887"
             ],
             [
              0.1111111111111111,
              "#46039f"
             ],
             [
              0.2222222222222222,
              "#7201a8"
             ],
             [
              0.3333333333333333,
              "#9c179e"
             ],
             [
              0.4444444444444444,
              "#bd3786"
             ],
             [
              0.5555555555555556,
              "#d8576b"
             ],
             [
              0.6666666666666666,
              "#ed7953"
             ],
             [
              0.7777777777777778,
              "#fb9f3a"
             ],
             [
              0.8888888888888888,
              "#fdca26"
             ],
             [
              1,
              "#f0f921"
             ]
            ],
            "type": "histogram2d"
           }
          ],
          "histogram2dcontour": [
           {
            "colorbar": {
             "outlinewidth": 0,
             "ticks": ""
            },
            "colorscale": [
             [
              0,
              "#0d0887"
             ],
             [
              0.1111111111111111,
              "#46039f"
             ],
             [
              0.2222222222222222,
              "#7201a8"
             ],
             [
              0.3333333333333333,
              "#9c179e"
             ],
             [
              0.4444444444444444,
              "#bd3786"
             ],
             [
              0.5555555555555556,
              "#d8576b"
             ],
             [
              0.6666666666666666,
              "#ed7953"
             ],
             [
              0.7777777777777778,
              "#fb9f3a"
             ],
             [
              0.8888888888888888,
              "#fdca26"
             ],
             [
              1,
              "#f0f921"
             ]
            ],
            "type": "histogram2dcontour"
           }
          ],
          "mesh3d": [
           {
            "colorbar": {
             "outlinewidth": 0,
             "ticks": ""
            },
            "type": "mesh3d"
           }
          ],
          "parcoords": [
           {
            "line": {
             "colorbar": {
              "outlinewidth": 0,
              "ticks": ""
             }
            },
            "type": "parcoords"
           }
          ],
          "pie": [
           {
            "automargin": true,
            "type": "pie"
           }
          ],
          "scatter": [
           {
            "marker": {
             "colorbar": {
              "outlinewidth": 0,
              "ticks": ""
             }
            },
            "type": "scatter"
           }
          ],
          "scatter3d": [
           {
            "line": {
             "colorbar": {
              "outlinewidth": 0,
              "ticks": ""
             }
            },
            "marker": {
             "colorbar": {
              "outlinewidth": 0,
              "ticks": ""
             }
            },
            "type": "scatter3d"
           }
          ],
          "scattercarpet": [
           {
            "marker": {
             "colorbar": {
              "outlinewidth": 0,
              "ticks": ""
             }
            },
            "type": "scattercarpet"
           }
          ],
          "scattergeo": [
           {
            "marker": {
             "colorbar": {
              "outlinewidth": 0,
              "ticks": ""
             }
            },
            "type": "scattergeo"
           }
          ],
          "scattergl": [
           {
            "marker": {
             "colorbar": {
              "outlinewidth": 0,
              "ticks": ""
             }
            },
            "type": "scattergl"
           }
          ],
          "scattermapbox": [
           {
            "marker": {
             "colorbar": {
              "outlinewidth": 0,
              "ticks": ""
             }
            },
            "type": "scattermapbox"
           }
          ],
          "scatterpolar": [
           {
            "marker": {
             "colorbar": {
              "outlinewidth": 0,
              "ticks": ""
             }
            },
            "type": "scatterpolar"
           }
          ],
          "scatterpolargl": [
           {
            "marker": {
             "colorbar": {
              "outlinewidth": 0,
              "ticks": ""
             }
            },
            "type": "scatterpolargl"
           }
          ],
          "scatterternary": [
           {
            "marker": {
             "colorbar": {
              "outlinewidth": 0,
              "ticks": ""
             }
            },
            "type": "scatterternary"
           }
          ],
          "surface": [
           {
            "colorbar": {
             "outlinewidth": 0,
             "ticks": ""
            },
            "colorscale": [
             [
              0,
              "#0d0887"
             ],
             [
              0.1111111111111111,
              "#46039f"
             ],
             [
              0.2222222222222222,
              "#7201a8"
             ],
             [
              0.3333333333333333,
              "#9c179e"
             ],
             [
              0.4444444444444444,
              "#bd3786"
             ],
             [
              0.5555555555555556,
              "#d8576b"
             ],
             [
              0.6666666666666666,
              "#ed7953"
             ],
             [
              0.7777777777777778,
              "#fb9f3a"
             ],
             [
              0.8888888888888888,
              "#fdca26"
             ],
             [
              1,
              "#f0f921"
             ]
            ],
            "type": "surface"
           }
          ],
          "table": [
           {
            "cells": {
             "fill": {
              "color": "#EBF0F8"
             },
             "line": {
              "color": "white"
             }
            },
            "header": {
             "fill": {
              "color": "#C8D4E3"
             },
             "line": {
              "color": "white"
             }
            },
            "type": "table"
           }
          ]
         },
         "layout": {
          "annotationdefaults": {
           "arrowcolor": "#2a3f5f",
           "arrowhead": 0,
           "arrowwidth": 1
          },
          "autotypenumbers": "strict",
          "coloraxis": {
           "colorbar": {
            "outlinewidth": 0,
            "ticks": ""
           }
          },
          "colorscale": {
           "diverging": [
            [
             0,
             "#8e0152"
            ],
            [
             0.1,
             "#c51b7d"
            ],
            [
             0.2,
             "#de77ae"
            ],
            [
             0.3,
             "#f1b6da"
            ],
            [
             0.4,
             "#fde0ef"
            ],
            [
             0.5,
             "#f7f7f7"
            ],
            [
             0.6,
             "#e6f5d0"
            ],
            [
             0.7,
             "#b8e186"
            ],
            [
             0.8,
             "#7fbc41"
            ],
            [
             0.9,
             "#4d9221"
            ],
            [
             1,
             "#276419"
            ]
           ],
           "sequential": [
            [
             0,
             "#0d0887"
            ],
            [
             0.1111111111111111,
             "#46039f"
            ],
            [
             0.2222222222222222,
             "#7201a8"
            ],
            [
             0.3333333333333333,
             "#9c179e"
            ],
            [
             0.4444444444444444,
             "#bd3786"
            ],
            [
             0.5555555555555556,
             "#d8576b"
            ],
            [
             0.6666666666666666,
             "#ed7953"
            ],
            [
             0.7777777777777778,
             "#fb9f3a"
            ],
            [
             0.8888888888888888,
             "#fdca26"
            ],
            [
             1,
             "#f0f921"
            ]
           ],
           "sequentialminus": [
            [
             0,
             "#0d0887"
            ],
            [
             0.1111111111111111,
             "#46039f"
            ],
            [
             0.2222222222222222,
             "#7201a8"
            ],
            [
             0.3333333333333333,
             "#9c179e"
            ],
            [
             0.4444444444444444,
             "#bd3786"
            ],
            [
             0.5555555555555556,
             "#d8576b"
            ],
            [
             0.6666666666666666,
             "#ed7953"
            ],
            [
             0.7777777777777778,
             "#fb9f3a"
            ],
            [
             0.8888888888888888,
             "#fdca26"
            ],
            [
             1,
             "#f0f921"
            ]
           ]
          },
          "colorway": [
           "#636efa",
           "#EF553B",
           "#00cc96",
           "#ab63fa",
           "#FFA15A",
           "#19d3f3",
           "#FF6692",
           "#B6E880",
           "#FF97FF",
           "#FECB52"
          ],
          "font": {
           "color": "#2a3f5f"
          },
          "geo": {
           "bgcolor": "white",
           "lakecolor": "white",
           "landcolor": "#E5ECF6",
           "showlakes": true,
           "showland": true,
           "subunitcolor": "white"
          },
          "hoverlabel": {
           "align": "left"
          },
          "hovermode": "closest",
          "mapbox": {
           "style": "light"
          },
          "paper_bgcolor": "white",
          "plot_bgcolor": "#E5ECF6",
          "polar": {
           "angularaxis": {
            "gridcolor": "white",
            "linecolor": "white",
            "ticks": ""
           },
           "bgcolor": "#E5ECF6",
           "radialaxis": {
            "gridcolor": "white",
            "linecolor": "white",
            "ticks": ""
           }
          },
          "scene": {
           "xaxis": {
            "backgroundcolor": "#E5ECF6",
            "gridcolor": "white",
            "gridwidth": 2,
            "linecolor": "white",
            "showbackground": true,
            "ticks": "",
            "zerolinecolor": "white"
           },
           "yaxis": {
            "backgroundcolor": "#E5ECF6",
            "gridcolor": "white",
            "gridwidth": 2,
            "linecolor": "white",
            "showbackground": true,
            "ticks": "",
            "zerolinecolor": "white"
           },
           "zaxis": {
            "backgroundcolor": "#E5ECF6",
            "gridcolor": "white",
            "gridwidth": 2,
            "linecolor": "white",
            "showbackground": true,
            "ticks": "",
            "zerolinecolor": "white"
           }
          },
          "shapedefaults": {
           "line": {
            "color": "#2a3f5f"
           }
          },
          "ternary": {
           "aaxis": {
            "gridcolor": "white",
            "linecolor": "white",
            "ticks": ""
           },
           "baxis": {
            "gridcolor": "white",
            "linecolor": "white",
            "ticks": ""
           },
           "bgcolor": "#E5ECF6",
           "caxis": {
            "gridcolor": "white",
            "linecolor": "white",
            "ticks": ""
           }
          },
          "title": {
           "x": 0.05
          },
          "xaxis": {
           "automargin": true,
           "gridcolor": "white",
           "linecolor": "white",
           "ticks": "",
           "title": {
            "standoff": 15
           },
           "zerolinecolor": "white",
           "zerolinewidth": 2
          },
          "yaxis": {
           "automargin": true,
           "gridcolor": "white",
           "linecolor": "white",
           "ticks": "",
           "title": {
            "standoff": 15
           },
           "zerolinecolor": "white",
           "zerolinewidth": 2
          }
         }
        },
        "title": {
         "font": {
          "color": "#4D5663"
         }
        },
        "xaxis": {
         "gridcolor": "#E1E5ED",
         "rangeslider": {
          "visible": false
         },
         "showgrid": true,
         "tickfont": {
          "color": "#4D5663"
         },
         "title": {
          "font": {
           "color": "#4D5663"
          },
          "text": ""
         },
         "zerolinecolor": "#E1E5ED"
        },
        "yaxis": {
         "gridcolor": "#E1E5ED",
         "showgrid": true,
         "showticklabels": false,
         "tickfont": {
          "color": "#4D5663"
         },
         "title": {
          "font": {
           "color": "#4D5663"
          },
          "text": ""
         },
         "zerolinecolor": "#E1E5ED"
        },
        "yaxis2": {
         "gridcolor": "#E1E5ED",
         "showgrid": true,
         "tickfont": {
          "color": "#4D5663"
         },
         "title": {
          "font": {
           "color": "#4D5663"
          },
          "text": ""
         },
         "zerolinecolor": "#E1E5ED"
        }
       }
      },
      "text/html": [
       "<div>                            <div id=\"1fc37027-122b-4a1b-8c8f-ca63650815d7\" class=\"plotly-graph-div\" style=\"height:525px; width:100%;\"></div>            <script type=\"text/javascript\">                require([\"plotly\"], function(Plotly) {                    window.PLOTLYENV=window.PLOTLYENV || {};\n",
       "                    window.PLOTLYENV.BASE_URL='https://plot.ly';                                    if (document.getElementById(\"1fc37027-122b-4a1b-8c8f-ca63650815d7\")) {                    Plotly.newPlot(                        \"1fc37027-122b-4a1b-8c8f-ca63650815d7\",                        [{\"close\":[399.926666,383.196655,362.706665,354.899994,342.320007,352.706665,354.799988,368.73999,343.853333,349.869995,343.503326,331.883331,332.089996,314.633331,310.0,306.133331,312.470001,276.366669,282.116669,312.23999,310.416656,301.886658,297.046661,307.773346,302.446655,307.333344,310.666656,301.516663,286.666656,291.920013,307.476654,307.796661,292.116669,285.660004,273.843323,254.679993,266.92334,269.956665,290.143341,288.123322,293.296661,279.763336,279.429993,268.193329,274.799988,286.323334,279.433319,265.116669,255.456665,267.296661,280.07666,290.533325,301.796661,307.053345,331.32666,333.036682,337.973328,336.880005,363.946655,366.523346,364.66333,359.200012,361.529999,381.816681,363.753326,348.58667,352.420013,341.829987,325.309998,328.983337,340.790009,328.333344,334.763336,342.716675,325.733337,336.26001,335.016663,332.67334,292.140015,293.83667,292.503326,290.253326,300.980011,303.083344,317.540009,291.093323,288.549988,262.369995,266.679993,244.666672,242.666672,256.529999,241.456665,253.869995,236.603333,236.473328,221.300003,224.96666,209.386673,219.600006,235.910004,253.210007,252.753326,246.789993,258.333344,234.516663,238.279999,238.886673,241.866669,239.706665,232.229996,215.736664,220.889999,233.0,213.100006,216.759995,237.036667,236.08667,235.070007,245.706665,244.919998,232.66333,228.490005,224.473328,227.263336,233.066666,231.733337,244.543335,250.763336,234.343338,233.070007,237.039993,238.313339,240.066666,240.546661,245.529999,247.5,271.706665,272.243347,268.433319,258.859985,274.820007,280.899994,297.149994,297.276672,300.58667,307.396667,308.633331,288.170013,290.42334,283.333344,294.356659,286.630005,300.029999,309.320007,306.563324,303.996674,302.869995,296.666656,289.91333,296.453339,297.09668,296.070007,288.089996,284.820007,277.700012,275.609985,277.160004,270.209991,274.420013,283.700012,289.26001,299.679993,304.420013,292.130005,302.609985,303.75,303.350006,309.070007,308.730011,300.799988,288.589996,275.329987,276.01001,282.940002,287.809998,268.209991,265.25,242.399994,249.440002,240.809998,238.130005,223.070007,222.960007,216.5,217.240005,221.720001,204.990005,219.350006,220.190002,222.039993,207.279999,214.440002,211.25,222.419998,224.639999,225.089996,228.520004,227.539993,227.820007,214.979996,215.309998,207.470001,197.080002,191.300003,177.589996,190.720001,195.970001,190.949997,194.419998,186.919998,183.169998,180.190002,167.869995,169.910004,183.199997,182.860001,182.919998,180.830002,194.699997,194.699997,194.860001,182.449997,179.820007,174.039993,173.440002,179.050003,167.820007,160.949997,156.800003,157.669998,150.229996,149.869995,137.800003,137.570007,125.349998,123.150002],\"high\":[400.356659,402.666656,390.113342,362.666656,360.309998,353.033325,358.616669,371.613342,371.866669,350.666656,356.929993,351.556671,347.220001,334.850006,311.170013,317.08667,329.230011,311.796661,285.833344,312.66333,314.566681,310.5,312.333344,312.166656,315.92334,308.763336,315.42334,314.603333,305.320007,299.626678,307.666656,308.809998,306.166656,295.623322,285.57666,278.433319,267.493347,273.166656,292.286682,296.626678,295.493347,295.480011,285.216675,288.713318,283.329987,286.853333,284.816681,281.266663,266.899994,268.523346,280.666656,291.666656,302.616669,314.283325,332.619995,346.899994,341.496674,340.600006,365.959991,371.589996,371.316681,367.713318,364.916656,383.303345,384.290009,359.666656,358.863342,349.480011,336.156677,340.396667,342.079987,337.570007,338.306671,344.980011,344.666656,364.073334,344.950012,336.206665,333.333344,306.0,300.0,311.466675,302.119995,308.026672,318.5,315.200012,296.0,281.876678,275.119995,269.92334,253.220001,262.450012,256.58667,254.82666,253.5,244.666672,240.526672,226.653336,217.973328,223.106674,239.556671,253.266663,259.600006,257.32666,264.209991,247.796661,244.866669,239.996674,249.963333,255.546661,239.5,226.633331,226.330002,235.66333,225.166672,220.970001,243.57666,246.833328,239.316666,246.066666,252.070007,249.970001,231.17334,229.456665,230.229996,233.146667,234.563339,245.363327,254.979996,253.063339,239.773331,242.059998,238.653336,243.623337,250.516663,247.139999,250.66333,273.266663,280.786682,274.146667,267.309998,275.926666,283.299988,298.320007,311.876678,307.833344,309.549988,313.606659,304.606659,305.200012,292.396667,297.51001,298.236664,300.160004,313.133331,314.666656,309.656677,306.5,300.359985,292.399994,298.82666,303.646667,302.959991,302.0,287.73999,288.480011,281.25,277.579987,282.350006,275.98999,283.839996,289.5,299.850006,305.48999,297.399994,306.0,309.119995,303.709991,309.839996,313.329987,313.799988,301.290009,284.5,284.089996,288.670013,289.0,283.649994,275.570007,255.160004,257.5,246.669998,244.580002,234.570007,226.990005,225.75,219.300003,222.990005,226.259995,221.860001,229.820007,222.929993,215.550003,214.660004,213.5,224.350006,230.600006,233.809998,228.860001,229.850006,237.399994,227.869995,221.199997,223.800003,208.899994,195.199997,195.889999,191.0,196.520004,195.729996,200.820007,192.570007,186.160004,185.190002,176.770004,170.919998,183.619995,185.199997,188.5,186.380005,194.759995,198.919998,196.25,191.270004,183.649994,179.380005,175.199997,182.5,177.369995,175.050003,161.619995,160.929993,160.990005,155.25,148.470001,141.259995,136.630005,128.619995],\"low\":[378.679993,374.350006,360.33667,340.166656,336.666656,326.666656,346.273346,357.529999,342.179993,337.793335,338.686676,331.666656,331.333344,313.5,283.823334,301.070007,302.0,276.333344,264.003326,287.350006,301.666656,296.470001,293.506653,293.723328,300.90332,298.266663,306.666656,298.899994,283.566681,284.383331,297.793335,300.40332,291.366669,279.203339,267.033325,253.520004,233.333328,260.799988,271.570007,284.593323,281.42334,277.533325,275.053345,268.190002,260.723328,277.33667,270.119995,264.589996,252.013336,252.190002,267.420013,275.23999,289.130005,302.363342,307.25,325.466675,329.600006,332.440002,351.200012,357.703339,361.333344,358.880005,355.546661,357.51001,362.433319,342.566681,340.513336,340.813324,324.880005,325.533325,324.366669,327.396667,324.470001,331.776672,325.083344,332.140015,331.333344,325.100006,291.666656,292.453339,273.899994,290.0,282.676666,296.196655,295.093323,285.899994,281.036682,260.383331,258.083344,242.399994,226.666672,250.523331,239.696671,242.949997,233.603333,231.369995,211.0,212.686661,206.856674,207.669998,217.886673,240.176666,244.743332,243.639999,242.066666,233.416672,234.350006,230.093338,239.176666,239.32666,227.91333,214.683334,211.736664,218.149994,208.693329,213.196671,224.333328,233.82666,228.636673,236.08667,242.566666,232.343338,222.273331,218.863327,222.119995,216.166672,227.186661,232.210007,241.160004,233.626663,228.369995,225.03334,229.333328,236.889999,239.603333,236.976669,243.483337,254.866669,270.713318,267.399994,256.263336,261.790009,272.799988,279.100006,295.0,292.666656,301.149994,305.0,285.543335,289.08667,279.353333,283.369995,285.833344,285.033325,301.230011,302.883331,300.033325,301.853333,292.5,286.296661,287.92334,296.5,291.600006,287.470001,280.700012,272.649994,271.809998,266.149994,269.079987,265.73999,272.269989,279.76001,291.25,300.399994,290.399994,291.640015,300.720001,295.600006,297.799988,305.579987,300.630005,285.820007,272.820007,270.309998,277.51001,277.570007,265.779999,262.470001,241.009995,242.009995,233.270004,235.350006,222.020004,218.360001,215.0,211.509995,206.220001,204.160004,209.449997,217.25,217.779999,202.0,203.800003,198.589996,210.0,218.199997,222.850006,216.350006,221.940002,227.279999,214.820007,210.139999,203.080002,196.660004,186.75,177.119995,180.029999,182.589996,186.339996,192.059998,185.660004,180.899994,176.550003,167.539993,166.190002,172.5,180.630005,179.0,178.75,180.630005,191.800003,191.110001,180.550003,175.330002,172.220001,169.059998,173.360001,167.520004,156.910004,155.309998,153.279999,150.039993,145.820007,137.660004,135.889999,122.260002,121.019997],\"open\":[382.583344,396.516663,382.216675,359.0,360.123322,333.333344,351.223328,359.616669,369.690002,339.959991,342.203339,347.236664,336.57666,332.113342,301.58667,304.733337,317.476654,311.119995,277.186676,290.90332,311.736664,309.393341,294.0,299.073334,307.929993,301.843323,311.666656,302.790009,303.209991,287.190002,300.0,304.683319,304.420013,295.333344,278.043335,276.809998,233.463333,269.743347,271.670013,289.893341,290.709991,292.92334,283.033325,285.433319,265.176666,279.82666,283.816681,280.066681,260.203339,258.42334,269.666656,276.996674,291.496674,304.993347,310.0,326.646667,336.57666,336.0,355.033325,369.329987,363.723328,364.856659,360.383331,363.126678,378.766663,357.823334,350.796661,347.736664,326.799988,332.546661,327.026672,333.09668,329.676666,335.019989,343.333344,358.243347,338.303345,326.323334,331.809998,299.526672,299.993347,300.75,286.92334,301.059998,301.313324,313.006653,295.666656,278.816681,273.103333,265.0,233.666672,257.82666,255.720001,249.119995,248.17334,235.666672,237.996674,218.339996,217.843338,207.949997,220.473328,241.083328,257.946655,251.720001,244.156662,243.226669,244.353333,234.0,240.08667,249.339996,235.156662,223.166672,218.286667,220.916672,222.736664,213.433334,224.603333,234.503326,237.906662,237.470001,249.366669,244.483337,230.5,224.509995,227.0,223.0,230.779999,233.919998,242.333328,252.103333,236.846664,225.5,234.896667,240.0,244.936661,245.0,246.78334,255.106674,276.220001,272.216675,266.513336,263.809998,280.066681,280.700012,301.276672,294.003326,305.0,311.0,302.670013,295.0,290.293335,297.066681,296.513336,289.416656,301.786682,311.666656,303.396667,306.0,299.0,291.91333,291.453339,297.563324,302.359985,297.429993,282.829987,287.869995,280.619995,272.579987,281.070007,272.679993,273.100006,281.299988,291.670013,300.720001,292.899994,292.23999,301.829987,299.609985,300.089996,306.910004,308.290009,299.859985,283.089996,271.829987,283.839996,283.079987,282.76001,266.149994,254.5,250.520004,245.009995,239.440002,233.940002,223.929993,220.949997,215.330002,208.300003,224.009995,210.039993,229.5,219.800003,208.279999,206.419998,205.820007,210.100006,219.399994,229.770004,225.399994,226.190002,234.050003,226.039993,211.360001,222.600006,208.649994,194.020004,190.779999,189.899994,186.0,192.770004,195.880005,191.509995,183.960007,185.050003,175.850006,168.630005,173.570007,185.059998,179.960007,184.990005,182.429993,197.080002,191.779999,189.440002,181.220001,175.029999,172.199997,173.839996,176.100006,174.869995,159.25,153.440002,159.639999,154.0,146.050003,139.339996,136.0,126.370003],\"showlegend\":false,\"x\":[\"2022-01-03\",\"2022-01-04\",\"2022-01-05\",\"2022-01-06\",\"2022-01-07\",\"2022-01-10\",\"2022-01-11\",\"2022-01-12\",\"2022-01-13\",\"2022-01-14\",\"2022-01-18\",\"2022-01-19\",\"2022-01-20\",\"2022-01-21\",\"2022-01-24\",\"2022-01-25\",\"2022-01-26\",\"2022-01-27\",\"2022-01-28\",\"2022-01-31\",\"2022-02-01\",\"2022-02-02\",\"2022-02-03\",\"2022-02-04\",\"2022-02-07\",\"2022-02-08\",\"2022-02-09\",\"2022-02-10\",\"2022-02-11\",\"2022-02-14\",\"2022-02-15\",\"2022-02-16\",\"2022-02-17\",\"2022-02-18\",\"2022-02-22\",\"2022-02-23\",\"2022-02-24\",\"2022-02-25\",\"2022-02-28\",\"2022-03-01\",\"2022-03-02\",\"2022-03-03\",\"2022-03-04\",\"2022-03-07\",\"2022-03-08\",\"2022-03-09\",\"2022-03-10\",\"2022-03-11\",\"2022-03-14\",\"2022-03-15\",\"2022-03-16\",\"2022-03-17\",\"2022-03-18\",\"2022-03-21\",\"2022-03-22\",\"2022-03-23\",\"2022-03-24\",\"2022-03-25\",\"2022-03-28\",\"2022-03-29\",\"2022-03-30\",\"2022-03-31\",\"2022-04-01\",\"2022-04-04\",\"2022-04-05\",\"2022-04-06\",\"2022-04-07\",\"2022-04-08\",\"2022-04-11\",\"2022-04-12\",\"2022-04-13\",\"2022-04-14\",\"2022-04-18\",\"2022-04-19\",\"2022-04-20\",\"2022-04-21\",\"2022-04-22\",\"2022-04-25\",\"2022-04-26\",\"2022-04-27\",\"2022-04-28\",\"2022-04-29\",\"2022-05-02\",\"2022-05-03\",\"2022-05-04\",\"2022-05-05\",\"2022-05-06\",\"2022-05-09\",\"2022-05-10\",\"2022-05-11\",\"2022-05-12\",\"2022-05-13\",\"2022-05-16\",\"2022-05-17\",\"2022-05-18\",\"2022-05-19\",\"2022-05-20\",\"2022-05-23\",\"2022-05-24\",\"2022-05-25\",\"2022-05-26\",\"2022-05-27\",\"2022-05-31\",\"2022-06-01\",\"2022-06-02\",\"2022-06-03\",\"2022-06-06\",\"2022-06-07\",\"2022-06-08\",\"2022-06-09\",\"2022-06-10\",\"2022-06-13\",\"2022-06-14\",\"2022-06-15\",\"2022-06-16\",\"2022-06-17\",\"2022-06-21\",\"2022-06-22\",\"2022-06-23\",\"2022-06-24\",\"2022-06-27\",\"2022-06-28\",\"2022-06-29\",\"2022-06-30\",\"2022-07-01\",\"2022-07-05\",\"2022-07-06\",\"2022-07-07\",\"2022-07-08\",\"2022-07-11\",\"2022-07-12\",\"2022-07-13\",\"2022-07-14\",\"2022-07-15\",\"2022-07-18\",\"2022-07-19\",\"2022-07-20\",\"2022-07-21\",\"2022-07-22\",\"2022-07-25\",\"2022-07-26\",\"2022-07-27\",\"2022-07-28\",\"2022-07-29\",\"2022-08-01\",\"2022-08-02\",\"2022-08-03\",\"2022-08-04\",\"2022-08-05\",\"2022-08-08\",\"2022-08-09\",\"2022-08-10\",\"2022-08-11\",\"2022-08-12\",\"2022-08-15\",\"2022-08-16\",\"2022-08-17\",\"2022-08-18\",\"2022-08-19\",\"2022-08-22\",\"2022-08-23\",\"2022-08-24\",\"2022-08-25\",\"2022-08-26\",\"2022-08-29\",\"2022-08-30\",\"2022-08-31\",\"2022-09-01\",\"2022-09-02\",\"2022-09-06\",\"2022-09-07\",\"2022-09-08\",\"2022-09-09\",\"2022-09-12\",\"2022-09-13\",\"2022-09-14\",\"2022-09-15\",\"2022-09-16\",\"2022-09-19\",\"2022-09-20\",\"2022-09-21\",\"2022-09-22\",\"2022-09-23\",\"2022-09-26\",\"2022-09-27\",\"2022-09-28\",\"2022-09-29\",\"2022-09-30\",\"2022-10-03\",\"2022-10-04\",\"2022-10-05\",\"2022-10-06\",\"2022-10-07\",\"2022-10-10\",\"2022-10-11\",\"2022-10-12\",\"2022-10-13\",\"2022-10-14\",\"2022-10-17\",\"2022-10-18\",\"2022-10-19\",\"2022-10-20\",\"2022-10-21\",\"2022-10-24\",\"2022-10-25\",\"2022-10-26\",\"2022-10-27\",\"2022-10-28\",\"2022-10-31\",\"2022-11-01\",\"2022-11-02\",\"2022-11-03\",\"2022-11-04\",\"2022-11-07\",\"2022-11-08\",\"2022-11-09\",\"2022-11-10\",\"2022-11-11\",\"2022-11-14\",\"2022-11-15\",\"2022-11-16\",\"2022-11-17\",\"2022-11-18\",\"2022-11-21\",\"2022-11-22\",\"2022-11-23\",\"2022-11-25\",\"2022-11-28\",\"2022-11-29\",\"2022-11-30\",\"2022-12-01\",\"2022-12-02\",\"2022-12-05\",\"2022-12-06\",\"2022-12-07\",\"2022-12-08\",\"2022-12-09\",\"2022-12-12\",\"2022-12-13\",\"2022-12-14\",\"2022-12-15\",\"2022-12-16\",\"2022-12-19\",\"2022-12-20\",\"2022-12-21\",\"2022-12-22\",\"2022-12-23\"],\"yaxis\":\"y2\",\"type\":\"candlestick\"}],                        {\"legend\":{\"bgcolor\":\"#F5F6F9\",\"font\":{\"color\":\"#4D5663\"}},\"paper_bgcolor\":\"#F5F6F9\",\"plot_bgcolor\":\"#F5F6F9\",\"template\":{\"data\":{\"barpolar\":[{\"marker\":{\"line\":{\"color\":\"#E5ECF6\",\"width\":0.5},\"pattern\":{\"fillmode\":\"overlay\",\"size\":10,\"solidity\":0.2}},\"type\":\"barpolar\"}],\"bar\":[{\"error_x\":{\"color\":\"#2a3f5f\"},\"error_y\":{\"color\":\"#2a3f5f\"},\"marker\":{\"line\":{\"color\":\"#E5ECF6\",\"width\":0.5},\"pattern\":{\"fillmode\":\"overlay\",\"size\":10,\"solidity\":0.2}},\"type\":\"bar\"}],\"carpet\":[{\"aaxis\":{\"endlinecolor\":\"#2a3f5f\",\"gridcolor\":\"white\",\"linecolor\":\"white\",\"minorgridcolor\":\"white\",\"startlinecolor\":\"#2a3f5f\"},\"baxis\":{\"endlinecolor\":\"#2a3f5f\",\"gridcolor\":\"white\",\"linecolor\":\"white\",\"minorgridcolor\":\"white\",\"startlinecolor\":\"#2a3f5f\"},\"type\":\"carpet\"}],\"choropleth\":[{\"colorbar\":{\"outlinewidth\":0,\"ticks\":\"\"},\"type\":\"choropleth\"}],\"contourcarpet\":[{\"colorbar\":{\"outlinewidth\":0,\"ticks\":\"\"},\"type\":\"contourcarpet\"}],\"contour\":[{\"colorbar\":{\"outlinewidth\":0,\"ticks\":\"\"},\"colorscale\":[[0.0,\"#0d0887\"],[0.1111111111111111,\"#46039f\"],[0.2222222222222222,\"#7201a8\"],[0.3333333333333333,\"#9c179e\"],[0.4444444444444444,\"#bd3786\"],[0.5555555555555556,\"#d8576b\"],[0.6666666666666666,\"#ed7953\"],[0.7777777777777778,\"#fb9f3a\"],[0.8888888888888888,\"#fdca26\"],[1.0,\"#f0f921\"]],\"type\":\"contour\"}],\"heatmapgl\":[{\"colorbar\":{\"outlinewidth\":0,\"ticks\":\"\"},\"colorscale\":[[0.0,\"#0d0887\"],[0.1111111111111111,\"#46039f\"],[0.2222222222222222,\"#7201a8\"],[0.3333333333333333,\"#9c179e\"],[0.4444444444444444,\"#bd3786\"],[0.5555555555555556,\"#d8576b\"],[0.6666666666666666,\"#ed7953\"],[0.7777777777777778,\"#fb9f3a\"],[0.8888888888888888,\"#fdca26\"],[1.0,\"#f0f921\"]],\"type\":\"heatmapgl\"}],\"heatmap\":[{\"colorbar\":{\"outlinewidth\":0,\"ticks\":\"\"},\"colorscale\":[[0.0,\"#0d0887\"],[0.1111111111111111,\"#46039f\"],[0.2222222222222222,\"#7201a8\"],[0.3333333333333333,\"#9c179e\"],[0.4444444444444444,\"#bd3786\"],[0.5555555555555556,\"#d8576b\"],[0.6666666666666666,\"#ed7953\"],[0.7777777777777778,\"#fb9f3a\"],[0.8888888888888888,\"#fdca26\"],[1.0,\"#f0f921\"]],\"type\":\"heatmap\"}],\"histogram2dcontour\":[{\"colorbar\":{\"outlinewidth\":0,\"ticks\":\"\"},\"colorscale\":[[0.0,\"#0d0887\"],[0.1111111111111111,\"#46039f\"],[0.2222222222222222,\"#7201a8\"],[0.3333333333333333,\"#9c179e\"],[0.4444444444444444,\"#bd3786\"],[0.5555555555555556,\"#d8576b\"],[0.6666666666666666,\"#ed7953\"],[0.7777777777777778,\"#fb9f3a\"],[0.8888888888888888,\"#fdca26\"],[1.0,\"#f0f921\"]],\"type\":\"histogram2dcontour\"}],\"histogram2d\":[{\"colorbar\":{\"outlinewidth\":0,\"ticks\":\"\"},\"colorscale\":[[0.0,\"#0d0887\"],[0.1111111111111111,\"#46039f\"],[0.2222222222222222,\"#7201a8\"],[0.3333333333333333,\"#9c179e\"],[0.4444444444444444,\"#bd3786\"],[0.5555555555555556,\"#d8576b\"],[0.6666666666666666,\"#ed7953\"],[0.7777777777777778,\"#fb9f3a\"],[0.8888888888888888,\"#fdca26\"],[1.0,\"#f0f921\"]],\"type\":\"histogram2d\"}],\"histogram\":[{\"marker\":{\"pattern\":{\"fillmode\":\"overlay\",\"size\":10,\"solidity\":0.2}},\"type\":\"histogram\"}],\"mesh3d\":[{\"colorbar\":{\"outlinewidth\":0,\"ticks\":\"\"},\"type\":\"mesh3d\"}],\"parcoords\":[{\"line\":{\"colorbar\":{\"outlinewidth\":0,\"ticks\":\"\"}},\"type\":\"parcoords\"}],\"pie\":[{\"automargin\":true,\"type\":\"pie\"}],\"scatter3d\":[{\"line\":{\"colorbar\":{\"outlinewidth\":0,\"ticks\":\"\"}},\"marker\":{\"colorbar\":{\"outlinewidth\":0,\"ticks\":\"\"}},\"type\":\"scatter3d\"}],\"scattercarpet\":[{\"marker\":{\"colorbar\":{\"outlinewidth\":0,\"ticks\":\"\"}},\"type\":\"scattercarpet\"}],\"scattergeo\":[{\"marker\":{\"colorbar\":{\"outlinewidth\":0,\"ticks\":\"\"}},\"type\":\"scattergeo\"}],\"scattergl\":[{\"marker\":{\"colorbar\":{\"outlinewidth\":0,\"ticks\":\"\"}},\"type\":\"scattergl\"}],\"scattermapbox\":[{\"marker\":{\"colorbar\":{\"outlinewidth\":0,\"ticks\":\"\"}},\"type\":\"scattermapbox\"}],\"scatterpolargl\":[{\"marker\":{\"colorbar\":{\"outlinewidth\":0,\"ticks\":\"\"}},\"type\":\"scatterpolargl\"}],\"scatterpolar\":[{\"marker\":{\"colorbar\":{\"outlinewidth\":0,\"ticks\":\"\"}},\"type\":\"scatterpolar\"}],\"scatter\":[{\"marker\":{\"colorbar\":{\"outlinewidth\":0,\"ticks\":\"\"}},\"type\":\"scatter\"}],\"scatterternary\":[{\"marker\":{\"colorbar\":{\"outlinewidth\":0,\"ticks\":\"\"}},\"type\":\"scatterternary\"}],\"surface\":[{\"colorbar\":{\"outlinewidth\":0,\"ticks\":\"\"},\"colorscale\":[[0.0,\"#0d0887\"],[0.1111111111111111,\"#46039f\"],[0.2222222222222222,\"#7201a8\"],[0.3333333333333333,\"#9c179e\"],[0.4444444444444444,\"#bd3786\"],[0.5555555555555556,\"#d8576b\"],[0.6666666666666666,\"#ed7953\"],[0.7777777777777778,\"#fb9f3a\"],[0.8888888888888888,\"#fdca26\"],[1.0,\"#f0f921\"]],\"type\":\"surface\"}],\"table\":[{\"cells\":{\"fill\":{\"color\":\"#EBF0F8\"},\"line\":{\"color\":\"white\"}},\"header\":{\"fill\":{\"color\":\"#C8D4E3\"},\"line\":{\"color\":\"white\"}},\"type\":\"table\"}]},\"layout\":{\"annotationdefaults\":{\"arrowcolor\":\"#2a3f5f\",\"arrowhead\":0,\"arrowwidth\":1},\"autotypenumbers\":\"strict\",\"coloraxis\":{\"colorbar\":{\"outlinewidth\":0,\"ticks\":\"\"}},\"colorscale\":{\"diverging\":[[0,\"#8e0152\"],[0.1,\"#c51b7d\"],[0.2,\"#de77ae\"],[0.3,\"#f1b6da\"],[0.4,\"#fde0ef\"],[0.5,\"#f7f7f7\"],[0.6,\"#e6f5d0\"],[0.7,\"#b8e186\"],[0.8,\"#7fbc41\"],[0.9,\"#4d9221\"],[1,\"#276419\"]],\"sequential\":[[0.0,\"#0d0887\"],[0.1111111111111111,\"#46039f\"],[0.2222222222222222,\"#7201a8\"],[0.3333333333333333,\"#9c179e\"],[0.4444444444444444,\"#bd3786\"],[0.5555555555555556,\"#d8576b\"],[0.6666666666666666,\"#ed7953\"],[0.7777777777777778,\"#fb9f3a\"],[0.8888888888888888,\"#fdca26\"],[1.0,\"#f0f921\"]],\"sequentialminus\":[[0.0,\"#0d0887\"],[0.1111111111111111,\"#46039f\"],[0.2222222222222222,\"#7201a8\"],[0.3333333333333333,\"#9c179e\"],[0.4444444444444444,\"#bd3786\"],[0.5555555555555556,\"#d8576b\"],[0.6666666666666666,\"#ed7953\"],[0.7777777777777778,\"#fb9f3a\"],[0.8888888888888888,\"#fdca26\"],[1.0,\"#f0f921\"]]},\"colorway\":[\"#636efa\",\"#EF553B\",\"#00cc96\",\"#ab63fa\",\"#FFA15A\",\"#19d3f3\",\"#FF6692\",\"#B6E880\",\"#FF97FF\",\"#FECB52\"],\"font\":{\"color\":\"#2a3f5f\"},\"geo\":{\"bgcolor\":\"white\",\"lakecolor\":\"white\",\"landcolor\":\"#E5ECF6\",\"showlakes\":true,\"showland\":true,\"subunitcolor\":\"white\"},\"hoverlabel\":{\"align\":\"left\"},\"hovermode\":\"closest\",\"mapbox\":{\"style\":\"light\"},\"paper_bgcolor\":\"white\",\"plot_bgcolor\":\"#E5ECF6\",\"polar\":{\"angularaxis\":{\"gridcolor\":\"white\",\"linecolor\":\"white\",\"ticks\":\"\"},\"bgcolor\":\"#E5ECF6\",\"radialaxis\":{\"gridcolor\":\"white\",\"linecolor\":\"white\",\"ticks\":\"\"}},\"scene\":{\"xaxis\":{\"backgroundcolor\":\"#E5ECF6\",\"gridcolor\":\"white\",\"gridwidth\":2,\"linecolor\":\"white\",\"showbackground\":true,\"ticks\":\"\",\"zerolinecolor\":\"white\"},\"yaxis\":{\"backgroundcolor\":\"#E5ECF6\",\"gridcolor\":\"white\",\"gridwidth\":2,\"linecolor\":\"white\",\"showbackground\":true,\"ticks\":\"\",\"zerolinecolor\":\"white\"},\"zaxis\":{\"backgroundcolor\":\"#E5ECF6\",\"gridcolor\":\"white\",\"gridwidth\":2,\"linecolor\":\"white\",\"showbackground\":true,\"ticks\":\"\",\"zerolinecolor\":\"white\"}},\"shapedefaults\":{\"line\":{\"color\":\"#2a3f5f\"}},\"ternary\":{\"aaxis\":{\"gridcolor\":\"white\",\"linecolor\":\"white\",\"ticks\":\"\"},\"baxis\":{\"gridcolor\":\"white\",\"linecolor\":\"white\",\"ticks\":\"\"},\"bgcolor\":\"#E5ECF6\",\"caxis\":{\"gridcolor\":\"white\",\"linecolor\":\"white\",\"ticks\":\"\"}},\"title\":{\"x\":0.05},\"xaxis\":{\"automargin\":true,\"gridcolor\":\"white\",\"linecolor\":\"white\",\"ticks\":\"\",\"title\":{\"standoff\":15},\"zerolinecolor\":\"white\",\"zerolinewidth\":2},\"yaxis\":{\"automargin\":true,\"gridcolor\":\"white\",\"linecolor\":\"white\",\"ticks\":\"\",\"title\":{\"standoff\":15},\"zerolinecolor\":\"white\",\"zerolinewidth\":2}}},\"title\":{\"font\":{\"color\":\"#4D5663\"}},\"xaxis\":{\"gridcolor\":\"#E1E5ED\",\"rangeslider\":{\"visible\":false},\"showgrid\":true,\"tickfont\":{\"color\":\"#4D5663\"},\"title\":{\"font\":{\"color\":\"#4D5663\"},\"text\":\"\"},\"zerolinecolor\":\"#E1E5ED\"},\"yaxis\":{\"gridcolor\":\"#E1E5ED\",\"showgrid\":true,\"showticklabels\":false,\"tickfont\":{\"color\":\"#4D5663\"},\"title\":{\"font\":{\"color\":\"#4D5663\"},\"text\":\"\"},\"zerolinecolor\":\"#E1E5ED\"},\"yaxis2\":{\"gridcolor\":\"#E1E5ED\",\"showgrid\":true,\"tickfont\":{\"color\":\"#4D5663\"},\"title\":{\"font\":{\"color\":\"#4D5663\"},\"text\":\"\"},\"zerolinecolor\":\"#E1E5ED\"}},                        {\"showLink\": true, \"linkText\": \"Export to plot.ly\", \"plotlyServerURL\": \"https://plot.ly\", \"responsive\": true}                    ).then(function(){\n",
       "                            \n",
       "var gd = document.getElementById('1fc37027-122b-4a1b-8c8f-ca63650815d7');\n",
       "var x = new MutationObserver(function (mutations, observer) {{\n",
       "        var display = window.getComputedStyle(gd).display;\n",
       "        if (!display || display === 'none') {{\n",
       "            console.log([gd, 'removed!']);\n",
       "            Plotly.purge(gd);\n",
       "            observer.disconnect();\n",
       "        }}\n",
       "}});\n",
       "\n",
       "// Listen for the removal of the full notebook cells\n",
       "var notebookContainer = gd.closest('#notebook-container');\n",
       "if (notebookContainer) {{\n",
       "    x.observe(notebookContainer, {childList: true});\n",
       "}}\n",
       "\n",
       "// Listen for the clearing of the current output cell\n",
       "var outputEl = gd.closest('.output');\n",
       "if (outputEl) {{\n",
       "    x.observe(outputEl, {childList: true});\n",
       "}}\n",
       "\n",
       "                        })                };                });            </script>        </div>"
      ]
     },
     "metadata": {},
     "output_type": "display_data"
    }
   ],
   "source": [
    "TS[['Open', 'High', 'Low', 'Close']]['2022-01-01':'2022-12-23'].iplot(kind='candle')\n"
   ]
  },
  {
   "cell_type": "code",
   "execution_count": 40,
   "id": "8979d134",
   "metadata": {},
   "outputs": [
    {
     "data": {
      "application/vnd.plotly.v1+json": {
       "config": {
        "linkText": "Export to plot.ly",
        "plotlyServerURL": "https://plot.ly",
        "showLink": true
       },
       "data": [
        {
         "line": {
          "color": "rgba(255, 153, 51, 1.0)",
          "dash": "solid",
          "shape": "linear",
          "width": 1.3
         },
         "mode": "lines",
         "name": "Close",
         "text": "",
         "type": "scatter",
         "x": [
          "2022-01-03",
          "2022-01-04",
          "2022-01-05",
          "2022-01-06",
          "2022-01-07",
          "2022-01-10",
          "2022-01-11",
          "2022-01-12",
          "2022-01-13",
          "2022-01-14",
          "2022-01-18",
          "2022-01-19",
          "2022-01-20",
          "2022-01-21",
          "2022-01-24",
          "2022-01-25",
          "2022-01-26",
          "2022-01-27",
          "2022-01-28",
          "2022-01-31",
          "2022-02-01",
          "2022-02-02",
          "2022-02-03",
          "2022-02-04",
          "2022-02-07",
          "2022-02-08",
          "2022-02-09",
          "2022-02-10",
          "2022-02-11",
          "2022-02-14",
          "2022-02-15",
          "2022-02-16",
          "2022-02-17",
          "2022-02-18",
          "2022-02-22",
          "2022-02-23",
          "2022-02-24",
          "2022-02-25",
          "2022-02-28",
          "2022-03-01",
          "2022-03-02",
          "2022-03-03",
          "2022-03-04",
          "2022-03-07",
          "2022-03-08",
          "2022-03-09",
          "2022-03-10",
          "2022-03-11",
          "2022-03-14",
          "2022-03-15",
          "2022-03-16",
          "2022-03-17",
          "2022-03-18",
          "2022-03-21",
          "2022-03-22",
          "2022-03-23",
          "2022-03-24",
          "2022-03-25",
          "2022-03-28",
          "2022-03-29",
          "2022-03-30",
          "2022-03-31",
          "2022-04-01",
          "2022-04-04",
          "2022-04-05",
          "2022-04-06",
          "2022-04-07",
          "2022-04-08",
          "2022-04-11",
          "2022-04-12",
          "2022-04-13",
          "2022-04-14",
          "2022-04-18",
          "2022-04-19",
          "2022-04-20",
          "2022-04-21",
          "2022-04-22",
          "2022-04-25",
          "2022-04-26",
          "2022-04-27",
          "2022-04-28",
          "2022-04-29",
          "2022-05-02",
          "2022-05-03",
          "2022-05-04",
          "2022-05-05",
          "2022-05-06",
          "2022-05-09",
          "2022-05-10",
          "2022-05-11",
          "2022-05-12",
          "2022-05-13",
          "2022-05-16",
          "2022-05-17",
          "2022-05-18",
          "2022-05-19",
          "2022-05-20",
          "2022-05-23",
          "2022-05-24",
          "2022-05-25",
          "2022-05-26",
          "2022-05-27",
          "2022-05-31",
          "2022-06-01",
          "2022-06-02",
          "2022-06-03",
          "2022-06-06",
          "2022-06-07",
          "2022-06-08",
          "2022-06-09",
          "2022-06-10",
          "2022-06-13",
          "2022-06-14",
          "2022-06-15",
          "2022-06-16",
          "2022-06-17",
          "2022-06-21",
          "2022-06-22",
          "2022-06-23",
          "2022-06-24",
          "2022-06-27",
          "2022-06-28",
          "2022-06-29",
          "2022-06-30",
          "2022-07-01",
          "2022-07-05",
          "2022-07-06",
          "2022-07-07",
          "2022-07-08",
          "2022-07-11",
          "2022-07-12",
          "2022-07-13",
          "2022-07-14",
          "2022-07-15",
          "2022-07-18",
          "2022-07-19",
          "2022-07-20",
          "2022-07-21",
          "2022-07-22",
          "2022-07-25",
          "2022-07-26",
          "2022-07-27",
          "2022-07-28",
          "2022-07-29",
          "2022-08-01",
          "2022-08-02",
          "2022-08-03",
          "2022-08-04",
          "2022-08-05",
          "2022-08-08",
          "2022-08-09",
          "2022-08-10",
          "2022-08-11",
          "2022-08-12",
          "2022-08-15",
          "2022-08-16",
          "2022-08-17",
          "2022-08-18",
          "2022-08-19",
          "2022-08-22",
          "2022-08-23",
          "2022-08-24",
          "2022-08-25",
          "2022-08-26",
          "2022-08-29",
          "2022-08-30",
          "2022-08-31",
          "2022-09-01",
          "2022-09-02",
          "2022-09-06",
          "2022-09-07",
          "2022-09-08",
          "2022-09-09",
          "2022-09-12",
          "2022-09-13",
          "2022-09-14",
          "2022-09-15",
          "2022-09-16",
          "2022-09-19",
          "2022-09-20",
          "2022-09-21",
          "2022-09-22",
          "2022-09-23",
          "2022-09-26",
          "2022-09-27",
          "2022-09-28",
          "2022-09-29",
          "2022-09-30",
          "2022-10-03",
          "2022-10-04",
          "2022-10-05",
          "2022-10-06",
          "2022-10-07",
          "2022-10-10",
          "2022-10-11",
          "2022-10-12",
          "2022-10-13",
          "2022-10-14",
          "2022-10-17",
          "2022-10-18",
          "2022-10-19",
          "2022-10-20",
          "2022-10-21",
          "2022-10-24",
          "2022-10-25",
          "2022-10-26",
          "2022-10-27",
          "2022-10-28",
          "2022-10-31",
          "2022-11-01",
          "2022-11-02",
          "2022-11-03",
          "2022-11-04",
          "2022-11-07",
          "2022-11-08",
          "2022-11-09",
          "2022-11-10",
          "2022-11-11",
          "2022-11-14",
          "2022-11-15",
          "2022-11-16",
          "2022-11-17",
          "2022-11-18",
          "2022-11-21",
          "2022-11-22",
          "2022-11-23",
          "2022-11-25",
          "2022-11-28",
          "2022-11-29",
          "2022-11-30",
          "2022-12-01",
          "2022-12-02",
          "2022-12-05",
          "2022-12-06",
          "2022-12-07",
          "2022-12-08",
          "2022-12-09",
          "2022-12-12",
          "2022-12-13",
          "2022-12-14",
          "2022-12-15",
          "2022-12-16",
          "2022-12-19",
          "2022-12-20",
          "2022-12-21",
          "2022-12-22",
          "2022-12-23"
         ],
         "y": [
          399.926666,
          383.196655,
          362.706665,
          354.899994,
          342.320007,
          352.706665,
          354.799988,
          368.73999,
          343.853333,
          349.869995,
          343.503326,
          331.883331,
          332.089996,
          314.633331,
          310,
          306.133331,
          312.470001,
          276.366669,
          282.116669,
          312.23999,
          310.416656,
          301.886658,
          297.046661,
          307.773346,
          302.446655,
          307.333344,
          310.666656,
          301.516663,
          286.666656,
          291.920013,
          307.476654,
          307.796661,
          292.116669,
          285.660004,
          273.843323,
          254.679993,
          266.92334,
          269.956665,
          290.143341,
          288.123322,
          293.296661,
          279.763336,
          279.429993,
          268.193329,
          274.799988,
          286.323334,
          279.433319,
          265.116669,
          255.456665,
          267.296661,
          280.07666,
          290.533325,
          301.796661,
          307.053345,
          331.32666,
          333.036682,
          337.973328,
          336.880005,
          363.946655,
          366.523346,
          364.66333,
          359.200012,
          361.529999,
          381.816681,
          363.753326,
          348.58667,
          352.420013,
          341.829987,
          325.309998,
          328.983337,
          340.790009,
          328.333344,
          334.763336,
          342.716675,
          325.733337,
          336.26001,
          335.016663,
          332.67334,
          292.140015,
          293.83667,
          292.503326,
          290.253326,
          300.980011,
          303.083344,
          317.540009,
          291.093323,
          288.549988,
          262.369995,
          266.679993,
          244.666672,
          242.666672,
          256.529999,
          241.456665,
          253.869995,
          236.603333,
          236.473328,
          221.300003,
          224.96666,
          209.386673,
          219.600006,
          235.910004,
          253.210007,
          252.753326,
          246.789993,
          258.333344,
          234.516663,
          238.279999,
          238.886673,
          241.866669,
          239.706665,
          232.229996,
          215.736664,
          220.889999,
          233,
          213.100006,
          216.759995,
          237.036667,
          236.08667,
          235.070007,
          245.706665,
          244.919998,
          232.66333,
          228.490005,
          224.473328,
          227.263336,
          233.066666,
          231.733337,
          244.543335,
          250.763336,
          234.343338,
          233.070007,
          237.039993,
          238.313339,
          240.066666,
          240.546661,
          245.529999,
          247.5,
          271.706665,
          272.243347,
          268.433319,
          258.859985,
          274.820007,
          280.899994,
          297.149994,
          297.276672,
          300.58667,
          307.396667,
          308.633331,
          288.170013,
          290.42334,
          283.333344,
          294.356659,
          286.630005,
          300.029999,
          309.320007,
          306.563324,
          303.996674,
          302.869995,
          296.666656,
          289.91333,
          296.453339,
          297.09668,
          296.070007,
          288.089996,
          284.820007,
          277.700012,
          275.609985,
          277.160004,
          270.209991,
          274.420013,
          283.700012,
          289.26001,
          299.679993,
          304.420013,
          292.130005,
          302.609985,
          303.75,
          303.350006,
          309.070007,
          308.730011,
          300.799988,
          288.589996,
          275.329987,
          276.01001,
          282.940002,
          287.809998,
          268.209991,
          265.25,
          242.399994,
          249.440002,
          240.809998,
          238.130005,
          223.070007,
          222.960007,
          216.5,
          217.240005,
          221.720001,
          204.990005,
          219.350006,
          220.190002,
          222.039993,
          207.279999,
          214.440002,
          211.25,
          222.419998,
          224.639999,
          225.089996,
          228.520004,
          227.539993,
          227.820007,
          214.979996,
          215.309998,
          207.470001,
          197.080002,
          191.300003,
          177.589996,
          190.720001,
          195.970001,
          190.949997,
          194.419998,
          186.919998,
          183.169998,
          180.190002,
          167.869995,
          169.910004,
          183.199997,
          182.860001,
          182.919998,
          180.830002,
          194.699997,
          194.699997,
          194.860001,
          182.449997,
          179.820007,
          174.039993,
          173.440002,
          179.050003,
          167.820007,
          160.949997,
          156.800003,
          157.669998,
          150.229996,
          149.869995,
          137.800003,
          137.570007,
          125.349998,
          123.150002
         ]
        },
        {
         "line": {
          "color": "rgba(55, 128, 191, 1.0)",
          "dash": "solid",
          "shape": "linear",
          "width": 1.3
         },
         "mode": "lines",
         "name": "SMA(13)",
         "text": "",
         "type": "scatter",
         "x": [
          "2022-01-03",
          "2022-01-04",
          "2022-01-05",
          "2022-01-06",
          "2022-01-07",
          "2022-01-10",
          "2022-01-11",
          "2022-01-12",
          "2022-01-13",
          "2022-01-14",
          "2022-01-18",
          "2022-01-19",
          "2022-01-20",
          "2022-01-21",
          "2022-01-24",
          "2022-01-25",
          "2022-01-26",
          "2022-01-27",
          "2022-01-28",
          "2022-01-31",
          "2022-02-01",
          "2022-02-02",
          "2022-02-03",
          "2022-02-04",
          "2022-02-07",
          "2022-02-08",
          "2022-02-09",
          "2022-02-10",
          "2022-02-11",
          "2022-02-14",
          "2022-02-15",
          "2022-02-16",
          "2022-02-17",
          "2022-02-18",
          "2022-02-22",
          "2022-02-23",
          "2022-02-24",
          "2022-02-25",
          "2022-02-28",
          "2022-03-01",
          "2022-03-02",
          "2022-03-03",
          "2022-03-04",
          "2022-03-07",
          "2022-03-08",
          "2022-03-09",
          "2022-03-10",
          "2022-03-11",
          "2022-03-14",
          "2022-03-15",
          "2022-03-16",
          "2022-03-17",
          "2022-03-18",
          "2022-03-21",
          "2022-03-22",
          "2022-03-23",
          "2022-03-24",
          "2022-03-25",
          "2022-03-28",
          "2022-03-29",
          "2022-03-30",
          "2022-03-31",
          "2022-04-01",
          "2022-04-04",
          "2022-04-05",
          "2022-04-06",
          "2022-04-07",
          "2022-04-08",
          "2022-04-11",
          "2022-04-12",
          "2022-04-13",
          "2022-04-14",
          "2022-04-18",
          "2022-04-19",
          "2022-04-20",
          "2022-04-21",
          "2022-04-22",
          "2022-04-25",
          "2022-04-26",
          "2022-04-27",
          "2022-04-28",
          "2022-04-29",
          "2022-05-02",
          "2022-05-03",
          "2022-05-04",
          "2022-05-05",
          "2022-05-06",
          "2022-05-09",
          "2022-05-10",
          "2022-05-11",
          "2022-05-12",
          "2022-05-13",
          "2022-05-16",
          "2022-05-17",
          "2022-05-18",
          "2022-05-19",
          "2022-05-20",
          "2022-05-23",
          "2022-05-24",
          "2022-05-25",
          "2022-05-26",
          "2022-05-27",
          "2022-05-31",
          "2022-06-01",
          "2022-06-02",
          "2022-06-03",
          "2022-06-06",
          "2022-06-07",
          "2022-06-08",
          "2022-06-09",
          "2022-06-10",
          "2022-06-13",
          "2022-06-14",
          "2022-06-15",
          "2022-06-16",
          "2022-06-17",
          "2022-06-21",
          "2022-06-22",
          "2022-06-23",
          "2022-06-24",
          "2022-06-27",
          "2022-06-28",
          "2022-06-29",
          "2022-06-30",
          "2022-07-01",
          "2022-07-05",
          "2022-07-06",
          "2022-07-07",
          "2022-07-08",
          "2022-07-11",
          "2022-07-12",
          "2022-07-13",
          "2022-07-14",
          "2022-07-15",
          "2022-07-18",
          "2022-07-19",
          "2022-07-20",
          "2022-07-21",
          "2022-07-22",
          "2022-07-25",
          "2022-07-26",
          "2022-07-27",
          "2022-07-28",
          "2022-07-29",
          "2022-08-01",
          "2022-08-02",
          "2022-08-03",
          "2022-08-04",
          "2022-08-05",
          "2022-08-08",
          "2022-08-09",
          "2022-08-10",
          "2022-08-11",
          "2022-08-12",
          "2022-08-15",
          "2022-08-16",
          "2022-08-17",
          "2022-08-18",
          "2022-08-19",
          "2022-08-22",
          "2022-08-23",
          "2022-08-24",
          "2022-08-25",
          "2022-08-26",
          "2022-08-29",
          "2022-08-30",
          "2022-08-31",
          "2022-09-01",
          "2022-09-02",
          "2022-09-06",
          "2022-09-07",
          "2022-09-08",
          "2022-09-09",
          "2022-09-12",
          "2022-09-13",
          "2022-09-14",
          "2022-09-15",
          "2022-09-16",
          "2022-09-19",
          "2022-09-20",
          "2022-09-21",
          "2022-09-22",
          "2022-09-23",
          "2022-09-26",
          "2022-09-27",
          "2022-09-28",
          "2022-09-29",
          "2022-09-30",
          "2022-10-03",
          "2022-10-04",
          "2022-10-05",
          "2022-10-06",
          "2022-10-07",
          "2022-10-10",
          "2022-10-11",
          "2022-10-12",
          "2022-10-13",
          "2022-10-14",
          "2022-10-17",
          "2022-10-18",
          "2022-10-19",
          "2022-10-20",
          "2022-10-21",
          "2022-10-24",
          "2022-10-25",
          "2022-10-26",
          "2022-10-27",
          "2022-10-28",
          "2022-10-31",
          "2022-11-01",
          "2022-11-02",
          "2022-11-03",
          "2022-11-04",
          "2022-11-07",
          "2022-11-08",
          "2022-11-09",
          "2022-11-10",
          "2022-11-11",
          "2022-11-14",
          "2022-11-15",
          "2022-11-16",
          "2022-11-17",
          "2022-11-18",
          "2022-11-21",
          "2022-11-22",
          "2022-11-23",
          "2022-11-25",
          "2022-11-28",
          "2022-11-29",
          "2022-11-30",
          "2022-12-01",
          "2022-12-02",
          "2022-12-05",
          "2022-12-06",
          "2022-12-07",
          "2022-12-08",
          "2022-12-09",
          "2022-12-12",
          "2022-12-13",
          "2022-12-14",
          "2022-12-15",
          "2022-12-16",
          "2022-12-19",
          "2022-12-20",
          "2022-12-21",
          "2022-12-22",
          "2022-12-23"
         ],
         "y": [
          "",
          "",
          "",
          "",
          "",
          "",
          "",
          "",
          "",
          "",
          "",
          "",
          355.4228162307692,
          348.8617904615384,
          343.2312785384615,
          338.87948361538463,
          335.615638,
          330.5423043076923,
          325.11230461538463,
          321.83845861538464,
          317.3520483076923,
          314.12384253846153,
          310.06050915384617,
          307.31204915384615,
          305.0476894615385,
          303.1433316153846,
          302.83820276923075,
          302.18563838461534,
          300.68820184615385,
          299.1074335384615,
          301.50050930769225,
          303.4758933076923,
          301.92794553846153,
          300.0235876923077,
          297.86640807692305,
          294.60743361538465,
          291.4651254615385,
          288.9658954615385,
          287.64358753846153,
          285.90948492307695,
          285.27717707692307,
          284.7461524615385,
          283.7853816923077,
          280.7635874615384,
          278.2253818461538,
          277.77974069230766,
          277.30076492307694,
          276.62948384615385,
          276.6892278461538,
          276.71794484615384,
          277.496406,
          277.52640476923074,
          278.57820007692305,
          279.63640653846153,
          283.6028160769231,
          287.7264075384615,
          293.09409976923075,
          297.86948569230765,
          303.8405103846154,
          310.5397432307692,
          318.1971786923077,
          326.17743615384614,
          333.42615446153843,
          341.25230992307695,
          346.8846176923077,
          350.48384915384617,
          353.97359284615385,
          354.781541076923,
          354.18718076923074,
          353.495643,
          353.7964125384615,
          351.0569270769231,
          348.6138493846154,
          346.9256451538461,
          344.3512855384615,
          342.4074402307693,
          338.8074388461539,
          336.41667069230766,
          332.0746203076923,
          327.5682093076923,
          323.77385076923076,
          321.0771836923077,
          318.9230816923077,
          316.02256900000003,
          315.19231246153845,
          311.8330806923077,
          307.66641246153847,
          302.79230923076926,
          297.4400002307693,
          290.49000092307693,
          283.5664110769231,
          280.8271790769231,
          276.7979479230769,
          273.8261532307692,
          269.69923069230765,
          264.7371781538462,
          258.4461519230769,
          251.32512507692306,
          245.03999815384617,
          239.7361533846154,
          237.70076946153844,
          236.6646166923077,
          237.286667,
          237.60384553846154,
          237.7425643846154,
          237.20871807692308,
          236.00948761538464,
          236.18512915384616,
          236.60000153846156,
          238.01589861538463,
          238.57461676923077,
          239.06307761538463,
          239.16230784615385,
          238.93846138461538,
          235.8530766923077,
          233.0843589230769,
          232.33410307692307,
          230.62282046153845,
          230.6653853846154,
          231.23666738461537,
          231.7007693076923,
          230.99282015384614,
          230.13000015384617,
          229.53333338461542,
          230.42000046153848,
          231.35666715384616,
          231.25923153846153,
          233.67794915384613,
          236.29359076923078,
          236.08641161538463,
          235.8543606153846,
          236.005898,
          235.43718061538462,
          235.0638473846154,
          235.67025746153845,
          236.9810262307692,
          238.75230869230765,
          242.1710263076923,
          245.18461715384618,
          248.0076926923077,
          249.10897346153845,
          250.95948661538463,
          254.54076784615384,
          259.4699976153846,
          264.1035883076923,
          268.89384453846156,
          274.0730753846154,
          279.3105115384615,
          282.59051261538457,
          285.892308,
          286.7866679230769,
          288.4876919230769,
          289.887437,
          293.0543611538461,
          295.7082073076923,
          297.6823096153846,
          298.2089773076923,
          298.6392329230769,
          298.33769338461536,
          296.9928213076923,
          296.05589884615387,
          296.7425655384616,
          297.17692453846155,
          297.54282084615386,
          296.8092322307692,
          296.1223096923077,
          294.24384707692303,
          291.7700006923077,
          288.97359046153844,
          286.69846269230766,
          285.2238486153846,
          284.6541066153846,
          285.4053883846154,
          286.01820946153845,
          285.6361575384616,
          286.1392327692308,
          287.34384846153847,
          288.769233,
          291.18230953846154,
          293.73000384615386,
          295.5484641538461,
          296.9623106923077,
          297.0323086923077,
          296.44077007692306,
          295.9546156153846,
          295.0415390769231,
          292.25615276923077,
          290.18846007692304,
          285.55692230769233,
          281.37923015384615,
          276.56846030769236,
          271.11153707692307,
          264.522306,
          258.5346151538462,
          252.98923084615384,
          248.52077069230765,
          244.34461615384615,
          238.34846253846155,
          233.0823093076923,
          229.388464,
          226.06461730769232,
          223.36307923076927,
          220.67077153846154,
          218.39692553846152,
          217.18846346153845,
          217.30923207692305,
          217.47307738461538,
          218.39769307692308,
          219.18999984615385,
          219.65923107692308,
          220.42769192307694,
          220.11692207692306,
          219.13846046153847,
          217.21846115384616,
          215.98923069230767,
          213.15461484615386,
          211.5753841538462,
          209.540769,
          206.94923038461542,
          204.58999976923076,
          201.3899993076923,
          197.97692276923078,
          194.3130762307692,
          190.68922999999998,
          187.19692276923075,
          185.32999938461538,
          184.23615315384615,
          183.59153738461538,
          183.8407686153846,
          184.14692215384613,
          184.04922953846153,
          184.34999907692307,
          183.42922976923077,
          182.88307661538462,
          182.18076853846154,
          181.66153776923076,
          182.52153838461538,
          182.3607693846154,
          180.6492309230769,
          178.6446156923077,
          176.70230800000002,
          174.34846138461538,
          170.8999996923077,
          166.52307707692307,
          162.11615446153849,
          157.72384684615386,
          153.3646156923077
         ]
        },
        {
         "line": {
          "color": "rgba(55, 128, 191, 0.8999999999999999)",
          "dash": "solid",
          "shape": "linear",
          "width": 1.3
         },
         "mode": "lines",
         "name": "SMA(21)",
         "text": "",
         "type": "scatter",
         "x": [
          "2022-01-03",
          "2022-01-04",
          "2022-01-05",
          "2022-01-06",
          "2022-01-07",
          "2022-01-10",
          "2022-01-11",
          "2022-01-12",
          "2022-01-13",
          "2022-01-14",
          "2022-01-18",
          "2022-01-19",
          "2022-01-20",
          "2022-01-21",
          "2022-01-24",
          "2022-01-25",
          "2022-01-26",
          "2022-01-27",
          "2022-01-28",
          "2022-01-31",
          "2022-02-01",
          "2022-02-02",
          "2022-02-03",
          "2022-02-04",
          "2022-02-07",
          "2022-02-08",
          "2022-02-09",
          "2022-02-10",
          "2022-02-11",
          "2022-02-14",
          "2022-02-15",
          "2022-02-16",
          "2022-02-17",
          "2022-02-18",
          "2022-02-22",
          "2022-02-23",
          "2022-02-24",
          "2022-02-25",
          "2022-02-28",
          "2022-03-01",
          "2022-03-02",
          "2022-03-03",
          "2022-03-04",
          "2022-03-07",
          "2022-03-08",
          "2022-03-09",
          "2022-03-10",
          "2022-03-11",
          "2022-03-14",
          "2022-03-15",
          "2022-03-16",
          "2022-03-17",
          "2022-03-18",
          "2022-03-21",
          "2022-03-22",
          "2022-03-23",
          "2022-03-24",
          "2022-03-25",
          "2022-03-28",
          "2022-03-29",
          "2022-03-30",
          "2022-03-31",
          "2022-04-01",
          "2022-04-04",
          "2022-04-05",
          "2022-04-06",
          "2022-04-07",
          "2022-04-08",
          "2022-04-11",
          "2022-04-12",
          "2022-04-13",
          "2022-04-14",
          "2022-04-18",
          "2022-04-19",
          "2022-04-20",
          "2022-04-21",
          "2022-04-22",
          "2022-04-25",
          "2022-04-26",
          "2022-04-27",
          "2022-04-28",
          "2022-04-29",
          "2022-05-02",
          "2022-05-03",
          "2022-05-04",
          "2022-05-05",
          "2022-05-06",
          "2022-05-09",
          "2022-05-10",
          "2022-05-11",
          "2022-05-12",
          "2022-05-13",
          "2022-05-16",
          "2022-05-17",
          "2022-05-18",
          "2022-05-19",
          "2022-05-20",
          "2022-05-23",
          "2022-05-24",
          "2022-05-25",
          "2022-05-26",
          "2022-05-27",
          "2022-05-31",
          "2022-06-01",
          "2022-06-02",
          "2022-06-03",
          "2022-06-06",
          "2022-06-07",
          "2022-06-08",
          "2022-06-09",
          "2022-06-10",
          "2022-06-13",
          "2022-06-14",
          "2022-06-15",
          "2022-06-16",
          "2022-06-17",
          "2022-06-21",
          "2022-06-22",
          "2022-06-23",
          "2022-06-24",
          "2022-06-27",
          "2022-06-28",
          "2022-06-29",
          "2022-06-30",
          "2022-07-01",
          "2022-07-05",
          "2022-07-06",
          "2022-07-07",
          "2022-07-08",
          "2022-07-11",
          "2022-07-12",
          "2022-07-13",
          "2022-07-14",
          "2022-07-15",
          "2022-07-18",
          "2022-07-19",
          "2022-07-20",
          "2022-07-21",
          "2022-07-22",
          "2022-07-25",
          "2022-07-26",
          "2022-07-27",
          "2022-07-28",
          "2022-07-29",
          "2022-08-01",
          "2022-08-02",
          "2022-08-03",
          "2022-08-04",
          "2022-08-05",
          "2022-08-08",
          "2022-08-09",
          "2022-08-10",
          "2022-08-11",
          "2022-08-12",
          "2022-08-15",
          "2022-08-16",
          "2022-08-17",
          "2022-08-18",
          "2022-08-19",
          "2022-08-22",
          "2022-08-23",
          "2022-08-24",
          "2022-08-25",
          "2022-08-26",
          "2022-08-29",
          "2022-08-30",
          "2022-08-31",
          "2022-09-01",
          "2022-09-02",
          "2022-09-06",
          "2022-09-07",
          "2022-09-08",
          "2022-09-09",
          "2022-09-12",
          "2022-09-13",
          "2022-09-14",
          "2022-09-15",
          "2022-09-16",
          "2022-09-19",
          "2022-09-20",
          "2022-09-21",
          "2022-09-22",
          "2022-09-23",
          "2022-09-26",
          "2022-09-27",
          "2022-09-28",
          "2022-09-29",
          "2022-09-30",
          "2022-10-03",
          "2022-10-04",
          "2022-10-05",
          "2022-10-06",
          "2022-10-07",
          "2022-10-10",
          "2022-10-11",
          "2022-10-12",
          "2022-10-13",
          "2022-10-14",
          "2022-10-17",
          "2022-10-18",
          "2022-10-19",
          "2022-10-20",
          "2022-10-21",
          "2022-10-24",
          "2022-10-25",
          "2022-10-26",
          "2022-10-27",
          "2022-10-28",
          "2022-10-31",
          "2022-11-01",
          "2022-11-02",
          "2022-11-03",
          "2022-11-04",
          "2022-11-07",
          "2022-11-08",
          "2022-11-09",
          "2022-11-10",
          "2022-11-11",
          "2022-11-14",
          "2022-11-15",
          "2022-11-16",
          "2022-11-17",
          "2022-11-18",
          "2022-11-21",
          "2022-11-22",
          "2022-11-23",
          "2022-11-25",
          "2022-11-28",
          "2022-11-29",
          "2022-11-30",
          "2022-12-01",
          "2022-12-02",
          "2022-12-05",
          "2022-12-06",
          "2022-12-07",
          "2022-12-08",
          "2022-12-09",
          "2022-12-12",
          "2022-12-13",
          "2022-12-14",
          "2022-12-15",
          "2022-12-16",
          "2022-12-19",
          "2022-12-20",
          "2022-12-21",
          "2022-12-22",
          "2022-12-23"
         ],
         "y": [
          "",
          "",
          "",
          "",
          "",
          "",
          "",
          "",
          "",
          "",
          "",
          "",
          "",
          "",
          "",
          "",
          "",
          "",
          "",
          "",
          335.47015514285715,
          330.8015833333333,
          326.6992026666667,
          324.0833303333334,
          321.5855522857143,
          319.9195207142857,
          317.9176155238095,
          315.38031433333333,
          311.47206033333333,
          308.9990450952381,
          306.98031457142855,
          305.2799971904762,
          303.38634661904763,
          301.17539461904767,
          299.23301328571426,
          296.59872723809525,
          294.7315848095238,
          292.70714023809523,
          293.3631722380952,
          293.6492033333333,
          292.74714004761904,
          291.28745814285713,
          290.21809314285713,
          288.8441249523809,
          287.273965047619,
          286.50618785714283,
          285.1776152380952,
          283.0085682380952,
          280.815235,
          279.8928542857143,
          279.3288850952381,
          278.5220599047619,
          278.2363456190476,
          278.9476159047619,
          281.12221857142856,
          283.94094995238095,
          287.9072992380952,
          291.238569,
          295.71428280952375,
          299.35142590476187,
          302.9961881904762,
          306.13444300000003,
          310.0280936190476,
          314.9036501904762,
          319.4541262380952,
          322.96777776190476,
          326.1152386666667,
          329.08650857142857,
          331.9528575714286,
          335.45412766666664,
          338.95381090476195,
          341.2517482380952,
          343.35793923809524,
          345.30651133333333,
          346.19603476190474,
          346.4309561904762,
          346.525241,
          346.2728606190476,
          344.1423849047619,
          340.8038141904762,
          337.27905133333337,
          333.7357178095238,
          330.9633368095238,
          328.1801627619048,
          325.11936885714283,
          321.65936871428573,
          318.8004790952381,
          314.51238299999994,
          310.93381185714287,
          307.09365347619047,
          302.9833360952381,
          298.97095466666667,
          294.833969952381,
          290.9819060952381,
          285.9288898095238,
          281.6784131904762,
          276.20412714285715,
          270.9636508095238,
          265.09285714285716,
          261.638571,
          258.8801583333333,
          257.00904790476187,
          255.22333361904762,
          252.64285657142858,
          250.51190419047617,
          246.55841152380955,
          244.04349133333332,
          241.67857157142856,
          240.7022227142857,
          239.41777852380952,
          238.8255558571429,
          237.54317452380954,
          235.84603166666668,
          235.44333333333336,
          233.5019052857143,
          232.55698442857144,
          232.58381009523808,
          233.2879370952381,
          233.76904885714282,
          235.4985722857143,
          236.70428619047618,
          236.54968266666665,
          235.3725397142857,
          234.02587314285714,
          233.0960323333333,
          231.8928571904762,
          231.76031785714284,
          232.058571952381,
          232.62412733333335,
          232.26587347619048,
          231.94984214285714,
          232.1788896190476,
          233.25396938095236,
          234.16714399999995,
          234.5265088095238,
          236.0707941904762,
          237.53460395238093,
          239.18555623809524,
          240.90730276190473,
          242.49603190476194,
          243.12238047619047,
          244.54619042857144,
          246.84317442857142,
          250.11269771428573,
          253.57952361904765,
          257.071110952381,
          260.6106348095238,
          264.2725392857143,
          266.35000014285714,
          268.2385717619048,
          270.5714291904762,
          273.48984119047617,
          275.85127033333333,
          278.79015890476194,
          282.08793704761905,
          285.23158766666666,
          288.01571504761904,
          290.6523814761905,
          291.84095247619047,
          292.6823802380952,
          294.01666690476185,
          295.8374619047619,
          296.84936666666664,
          297.1917477142857,
          296.60460547619044,
          295.67238357142855,
          294.4830176190476,
          293.0431765238095,
          291.21349366666664,
          290.55873176190477,
          290.23857328571427,
          290.5207954761905,
          290.77428757142854,
          291.6214308095238,
          291.2452406190476,
          290.92571576190477,
          290.79174795238094,
          290.7609542380952,
          291.0561929047619,
          291.6306383809524,
          292.14905066666665,
          291.77460576190475,
          290.73809657142857,
          289.7828586190476,
          289.5376208095238,
          289.68000133333334,
          289.2280955714286,
          288.73476295238095,
          287.07952438095236,
          286.0904772857143,
          284.4900003809524,
          282.32000004761903,
          279.16809514285717,
          275.51476247619047,
          271.3280951904762,
          267.7619047142857,
          263.91000071428573,
          259.2071438095238,
          255.2071438095238,
          250.97476261904765,
          246.84666652380952,
          242.39333371428572,
          238.86238161904762,
          235.8109536666667,
          233.25904833333334,
          230.4828577142857,
          227.49619095238094,
          225.60619157142858,
          223.81047695238092,
          223.11619185714287,
          221.4752391904762,
          220.26095347619048,
          218.80095328571431,
          217.563334,
          216.0557147619048,
          214.20285742857146,
          212.94000009523808,
          211.71380961904765,
          211.04523780952383,
          209.85809457142858,
          208.27380866666664,
          206.42285652380954,
          205.13285666666667,
          202.91523728571428,
          200.94666604761906,
          199.079046952381,
          197.08952323809527,
          195.0814280952381,
          192.81047561904762,
          191.2466662857143,
          189.66952295238093,
          188.71142795238094,
          187.146666,
          185.8299996190476,
          184.73285633333333,
          183.8823800952381,
          183.9519042380952,
          182.86142833333335,
          181.1938090952381,
          179.5676189047619,
          177.8176189047619,
          176.07047595238095,
          174.4847615238095,
          172.46619014285713,
          171.02333357142857,
          168.90142852380953,
          166.04190495238095
         ]
        },
        {
         "line": {
          "color": "rgba(55, 128, 191, 0.7999999999999998)",
          "dash": "solid",
          "shape": "linear",
          "width": 1.3
         },
         "mode": "lines",
         "name": "SMA(55)",
         "text": "",
         "type": "scatter",
         "x": [
          "2022-01-03",
          "2022-01-04",
          "2022-01-05",
          "2022-01-06",
          "2022-01-07",
          "2022-01-10",
          "2022-01-11",
          "2022-01-12",
          "2022-01-13",
          "2022-01-14",
          "2022-01-18",
          "2022-01-19",
          "2022-01-20",
          "2022-01-21",
          "2022-01-24",
          "2022-01-25",
          "2022-01-26",
          "2022-01-27",
          "2022-01-28",
          "2022-01-31",
          "2022-02-01",
          "2022-02-02",
          "2022-02-03",
          "2022-02-04",
          "2022-02-07",
          "2022-02-08",
          "2022-02-09",
          "2022-02-10",
          "2022-02-11",
          "2022-02-14",
          "2022-02-15",
          "2022-02-16",
          "2022-02-17",
          "2022-02-18",
          "2022-02-22",
          "2022-02-23",
          "2022-02-24",
          "2022-02-25",
          "2022-02-28",
          "2022-03-01",
          "2022-03-02",
          "2022-03-03",
          "2022-03-04",
          "2022-03-07",
          "2022-03-08",
          "2022-03-09",
          "2022-03-10",
          "2022-03-11",
          "2022-03-14",
          "2022-03-15",
          "2022-03-16",
          "2022-03-17",
          "2022-03-18",
          "2022-03-21",
          "2022-03-22",
          "2022-03-23",
          "2022-03-24",
          "2022-03-25",
          "2022-03-28",
          "2022-03-29",
          "2022-03-30",
          "2022-03-31",
          "2022-04-01",
          "2022-04-04",
          "2022-04-05",
          "2022-04-06",
          "2022-04-07",
          "2022-04-08",
          "2022-04-11",
          "2022-04-12",
          "2022-04-13",
          "2022-04-14",
          "2022-04-18",
          "2022-04-19",
          "2022-04-20",
          "2022-04-21",
          "2022-04-22",
          "2022-04-25",
          "2022-04-26",
          "2022-04-27",
          "2022-04-28",
          "2022-04-29",
          "2022-05-02",
          "2022-05-03",
          "2022-05-04",
          "2022-05-05",
          "2022-05-06",
          "2022-05-09",
          "2022-05-10",
          "2022-05-11",
          "2022-05-12",
          "2022-05-13",
          "2022-05-16",
          "2022-05-17",
          "2022-05-18",
          "2022-05-19",
          "2022-05-20",
          "2022-05-23",
          "2022-05-24",
          "2022-05-25",
          "2022-05-26",
          "2022-05-27",
          "2022-05-31",
          "2022-06-01",
          "2022-06-02",
          "2022-06-03",
          "2022-06-06",
          "2022-06-07",
          "2022-06-08",
          "2022-06-09",
          "2022-06-10",
          "2022-06-13",
          "2022-06-14",
          "2022-06-15",
          "2022-06-16",
          "2022-06-17",
          "2022-06-21",
          "2022-06-22",
          "2022-06-23",
          "2022-06-24",
          "2022-06-27",
          "2022-06-28",
          "2022-06-29",
          "2022-06-30",
          "2022-07-01",
          "2022-07-05",
          "2022-07-06",
          "2022-07-07",
          "2022-07-08",
          "2022-07-11",
          "2022-07-12",
          "2022-07-13",
          "2022-07-14",
          "2022-07-15",
          "2022-07-18",
          "2022-07-19",
          "2022-07-20",
          "2022-07-21",
          "2022-07-22",
          "2022-07-25",
          "2022-07-26",
          "2022-07-27",
          "2022-07-28",
          "2022-07-29",
          "2022-08-01",
          "2022-08-02",
          "2022-08-03",
          "2022-08-04",
          "2022-08-05",
          "2022-08-08",
          "2022-08-09",
          "2022-08-10",
          "2022-08-11",
          "2022-08-12",
          "2022-08-15",
          "2022-08-16",
          "2022-08-17",
          "2022-08-18",
          "2022-08-19",
          "2022-08-22",
          "2022-08-23",
          "2022-08-24",
          "2022-08-25",
          "2022-08-26",
          "2022-08-29",
          "2022-08-30",
          "2022-08-31",
          "2022-09-01",
          "2022-09-02",
          "2022-09-06",
          "2022-09-07",
          "2022-09-08",
          "2022-09-09",
          "2022-09-12",
          "2022-09-13",
          "2022-09-14",
          "2022-09-15",
          "2022-09-16",
          "2022-09-19",
          "2022-09-20",
          "2022-09-21",
          "2022-09-22",
          "2022-09-23",
          "2022-09-26",
          "2022-09-27",
          "2022-09-28",
          "2022-09-29",
          "2022-09-30",
          "2022-10-03",
          "2022-10-04",
          "2022-10-05",
          "2022-10-06",
          "2022-10-07",
          "2022-10-10",
          "2022-10-11",
          "2022-10-12",
          "2022-10-13",
          "2022-10-14",
          "2022-10-17",
          "2022-10-18",
          "2022-10-19",
          "2022-10-20",
          "2022-10-21",
          "2022-10-24",
          "2022-10-25",
          "2022-10-26",
          "2022-10-27",
          "2022-10-28",
          "2022-10-31",
          "2022-11-01",
          "2022-11-02",
          "2022-11-03",
          "2022-11-04",
          "2022-11-07",
          "2022-11-08",
          "2022-11-09",
          "2022-11-10",
          "2022-11-11",
          "2022-11-14",
          "2022-11-15",
          "2022-11-16",
          "2022-11-17",
          "2022-11-18",
          "2022-11-21",
          "2022-11-22",
          "2022-11-23",
          "2022-11-25",
          "2022-11-28",
          "2022-11-29",
          "2022-11-30",
          "2022-12-01",
          "2022-12-02",
          "2022-12-05",
          "2022-12-06",
          "2022-12-07",
          "2022-12-08",
          "2022-12-09",
          "2022-12-12",
          "2022-12-13",
          "2022-12-14",
          "2022-12-15",
          "2022-12-16",
          "2022-12-19",
          "2022-12-20",
          "2022-12-21",
          "2022-12-22",
          "2022-12-23"
         ],
         "y": [
          "",
          "",
          "",
          "",
          "",
          "",
          "",
          "",
          "",
          "",
          "",
          "",
          "",
          "",
          "",
          "",
          "",
          "",
          "",
          "",
          "",
          "",
          "",
          "",
          "",
          "",
          "",
          "",
          "",
          "",
          "",
          "",
          "",
          "",
          "",
          "",
          "",
          "",
          "",
          "",
          "",
          "",
          "",
          "",
          "",
          "",
          "",
          "",
          "",
          "",
          "",
          "",
          "",
          "",
          306.34084523636363,
          305.1246637090909,
          304.3024214,
          303.8328457636363,
          303.99733050909094,
          304.43739121818186,
          304.65478512727276,
          304.7347855636363,
          304.60369481818185,
          305.2939375090909,
          305.5463617090909,
          305.6387861454545,
          306.0121803636363,
          306.1892711090909,
          306.3833923272727,
          306.7285439090909,
          307.3586653272727,
          307.64708974545454,
          308.70884732727274,
          309.8106656181819,
          310.05599920000003,
          310.5258783636363,
          311.12824209090905,
          311.7759998909091,
          311.4917575090909,
          311.33521232727276,
          311.0655756363636,
          310.6944241818182,
          310.68466687272723,
          310.9831521090909,
          311.4489702181818,
          311.1510914727273,
          310.80115196363636,
          310.2603033454546,
          309.9152122363636,
          309.38472767272725,
          309.16630365454546,
          308.9773338181818,
          308.459152,
          307.7996366181818,
          306.86290954545456,
          305.8297580363636,
          304.76678834545453,
          303.77654592727276,
          302.707334,
          301.7036979636364,
          300.7870919636363,
          300.3103044727273,
          300.0855164181818,
          299.92794056363635,
          299.76497116363635,
          298.93660758181824,
          297.9865471090909,
          296.84272914545454,
          295.65751685454546,
          293.99169876363635,
          292.1588499272727,
          289.9363651272727,
          287.82745592727275,
          285.44660765454546,
          282.6570923818182,
          279.9679408363636,
          277.7467891090909,
          275.4660013090909,
          272.7978799636364,
          270.6515770363636,
          268.76672845454544,
          266.5893342181818,
          264.5286072727273,
          262.6952132727273,
          260.84575870909094,
          258.8871524727273,
          257.1307887090909,
          255.49042505454543,
          253.81854616363634,
          252.15690981818182,
          250.28072794545454,
          248.49933394545454,
          246.7836975636364,
          245.8369094,
          244.86800014545454,
          244.01393965454548,
          243.23660645454547,
          242.70436379999998,
          242.14363658181819,
          241.25078767272726,
          240.66472698181818,
          240.41509096363637,
          240.75200003636363,
          241.30600005454545,
          242.2625455090909,
          243.31563638181817,
          244.24048489090913,
          245.4618788181818,
          246.08551550909092,
          247.06406109090912,
          247.91606138181822,
          249.24436421818183,
          250.36551594545458,
          252.0135764181818,
          253.64484916363637,
          254.92945498181817,
          255.85284892727273,
          256.7640610909091,
          257.6709095090909,
          258.24509107272723,
          259.37121245454546,
          260.44060665454543,
          261.48030363636366,
          262.32072776363634,
          263.14097034545455,
          263.96769790909093,
          265.05630374545456,
          266.0793947454545,
          266.75594003636365,
          267.8708492545455,
          269.08794047272727,
          270.0374558,
          271.1936980363636,
          272.45460723636364,
          273.2986679636364,
          274.34757681818184,
          275.6400617272727,
          277.0011526545454,
          278.5392740909091,
          280.02048636363634,
          281.2520013090909,
          282.28575874545453,
          282.8455160545455,
          283.3045464909091,
          284.1881222,
          285.1833947636364,
          285.750122,
          286.23987947272724,
          286.2823036181818,
          286.44400072727274,
          286.35818252727273,
          286.18781898181817,
          285.3035161090909,
          284.4074553818182,
          283.46321321818186,
          282.7064863090909,
          281.74103165454545,
          280.3608500363636,
          278.9463048,
          277.5447289818182,
          276.1166075818182,
          274.2963045272727,
          272.5836985454545,
          271.18515285454544,
          269.94872845454546,
          268.8815767272727,
          267.6221828545455,
          266.5656373818182,
          265.2476372727273,
          263.7658190909091,
          262.10066767272724,
          260.4881826545454,
          258.7536373090909,
          256.94297087272724,
          255.1500012909091,
          252.98884959999998,
          251.05472816363638,
          249.23472805454546,
          247.46854625454546,
          245.82490972727274,
          244.17436401818182,
          242.49363698181818,
          240.73054603636365,
          238.86981883636363,
          236.96963685454546,
          235.14236385454547,
          233.20781823636366,
          231.08490923636361,
          228.83781812727275,
          227.06636343636362,
          225.10436365454547,
          223.1245454909091,
          220.92636350909092,
          218.57636350909092,
          216.12745409090908,
          213.81181798181817,
          211.82018174545456,
          209.8654548363636,
          207.7734546,
          205.48000007272725,
          203.11381825454546,
          200.96872743636365,
          198.87090916363636,
          196.96909114545454,
          194.93509123636366,
          192.8358185090909,
          190.745273
         ]
        }
       ],
       "layout": {
        "legend": {
         "bgcolor": "#F5F6F9",
         "font": {
          "color": "#4D5663"
         }
        },
        "paper_bgcolor": "#F5F6F9",
        "plot_bgcolor": "#F5F6F9",
        "template": {
         "data": {
          "bar": [
           {
            "error_x": {
             "color": "#2a3f5f"
            },
            "error_y": {
             "color": "#2a3f5f"
            },
            "marker": {
             "line": {
              "color": "#E5ECF6",
              "width": 0.5
             },
             "pattern": {
              "fillmode": "overlay",
              "size": 10,
              "solidity": 0.2
             }
            },
            "type": "bar"
           }
          ],
          "barpolar": [
           {
            "marker": {
             "line": {
              "color": "#E5ECF6",
              "width": 0.5
             },
             "pattern": {
              "fillmode": "overlay",
              "size": 10,
              "solidity": 0.2
             }
            },
            "type": "barpolar"
           }
          ],
          "carpet": [
           {
            "aaxis": {
             "endlinecolor": "#2a3f5f",
             "gridcolor": "white",
             "linecolor": "white",
             "minorgridcolor": "white",
             "startlinecolor": "#2a3f5f"
            },
            "baxis": {
             "endlinecolor": "#2a3f5f",
             "gridcolor": "white",
             "linecolor": "white",
             "minorgridcolor": "white",
             "startlinecolor": "#2a3f5f"
            },
            "type": "carpet"
           }
          ],
          "choropleth": [
           {
            "colorbar": {
             "outlinewidth": 0,
             "ticks": ""
            },
            "type": "choropleth"
           }
          ],
          "contour": [
           {
            "colorbar": {
             "outlinewidth": 0,
             "ticks": ""
            },
            "colorscale": [
             [
              0,
              "#0d0887"
             ],
             [
              0.1111111111111111,
              "#46039f"
             ],
             [
              0.2222222222222222,
              "#7201a8"
             ],
             [
              0.3333333333333333,
              "#9c179e"
             ],
             [
              0.4444444444444444,
              "#bd3786"
             ],
             [
              0.5555555555555556,
              "#d8576b"
             ],
             [
              0.6666666666666666,
              "#ed7953"
             ],
             [
              0.7777777777777778,
              "#fb9f3a"
             ],
             [
              0.8888888888888888,
              "#fdca26"
             ],
             [
              1,
              "#f0f921"
             ]
            ],
            "type": "contour"
           }
          ],
          "contourcarpet": [
           {
            "colorbar": {
             "outlinewidth": 0,
             "ticks": ""
            },
            "type": "contourcarpet"
           }
          ],
          "heatmap": [
           {
            "colorbar": {
             "outlinewidth": 0,
             "ticks": ""
            },
            "colorscale": [
             [
              0,
              "#0d0887"
             ],
             [
              0.1111111111111111,
              "#46039f"
             ],
             [
              0.2222222222222222,
              "#7201a8"
             ],
             [
              0.3333333333333333,
              "#9c179e"
             ],
             [
              0.4444444444444444,
              "#bd3786"
             ],
             [
              0.5555555555555556,
              "#d8576b"
             ],
             [
              0.6666666666666666,
              "#ed7953"
             ],
             [
              0.7777777777777778,
              "#fb9f3a"
             ],
             [
              0.8888888888888888,
              "#fdca26"
             ],
             [
              1,
              "#f0f921"
             ]
            ],
            "type": "heatmap"
           }
          ],
          "heatmapgl": [
           {
            "colorbar": {
             "outlinewidth": 0,
             "ticks": ""
            },
            "colorscale": [
             [
              0,
              "#0d0887"
             ],
             [
              0.1111111111111111,
              "#46039f"
             ],
             [
              0.2222222222222222,
              "#7201a8"
             ],
             [
              0.3333333333333333,
              "#9c179e"
             ],
             [
              0.4444444444444444,
              "#bd3786"
             ],
             [
              0.5555555555555556,
              "#d8576b"
             ],
             [
              0.6666666666666666,
              "#ed7953"
             ],
             [
              0.7777777777777778,
              "#fb9f3a"
             ],
             [
              0.8888888888888888,
              "#fdca26"
             ],
             [
              1,
              "#f0f921"
             ]
            ],
            "type": "heatmapgl"
           }
          ],
          "histogram": [
           {
            "marker": {
             "pattern": {
              "fillmode": "overlay",
              "size": 10,
              "solidity": 0.2
             }
            },
            "type": "histogram"
           }
          ],
          "histogram2d": [
           {
            "colorbar": {
             "outlinewidth": 0,
             "ticks": ""
            },
            "colorscale": [
             [
              0,
              "#0d0887"
             ],
             [
              0.1111111111111111,
              "#46039f"
             ],
             [
              0.2222222222222222,
              "#7201a8"
             ],
             [
              0.3333333333333333,
              "#9c179e"
             ],
             [
              0.4444444444444444,
              "#bd3786"
             ],
             [
              0.5555555555555556,
              "#d8576b"
             ],
             [
              0.6666666666666666,
              "#ed7953"
             ],
             [
              0.7777777777777778,
              "#fb9f3a"
             ],
             [
              0.8888888888888888,
              "#fdca26"
             ],
             [
              1,
              "#f0f921"
             ]
            ],
            "type": "histogram2d"
           }
          ],
          "histogram2dcontour": [
           {
            "colorbar": {
             "outlinewidth": 0,
             "ticks": ""
            },
            "colorscale": [
             [
              0,
              "#0d0887"
             ],
             [
              0.1111111111111111,
              "#46039f"
             ],
             [
              0.2222222222222222,
              "#7201a8"
             ],
             [
              0.3333333333333333,
              "#9c179e"
             ],
             [
              0.4444444444444444,
              "#bd3786"
             ],
             [
              0.5555555555555556,
              "#d8576b"
             ],
             [
              0.6666666666666666,
              "#ed7953"
             ],
             [
              0.7777777777777778,
              "#fb9f3a"
             ],
             [
              0.8888888888888888,
              "#fdca26"
             ],
             [
              1,
              "#f0f921"
             ]
            ],
            "type": "histogram2dcontour"
           }
          ],
          "mesh3d": [
           {
            "colorbar": {
             "outlinewidth": 0,
             "ticks": ""
            },
            "type": "mesh3d"
           }
          ],
          "parcoords": [
           {
            "line": {
             "colorbar": {
              "outlinewidth": 0,
              "ticks": ""
             }
            },
            "type": "parcoords"
           }
          ],
          "pie": [
           {
            "automargin": true,
            "type": "pie"
           }
          ],
          "scatter": [
           {
            "marker": {
             "colorbar": {
              "outlinewidth": 0,
              "ticks": ""
             }
            },
            "type": "scatter"
           }
          ],
          "scatter3d": [
           {
            "line": {
             "colorbar": {
              "outlinewidth": 0,
              "ticks": ""
             }
            },
            "marker": {
             "colorbar": {
              "outlinewidth": 0,
              "ticks": ""
             }
            },
            "type": "scatter3d"
           }
          ],
          "scattercarpet": [
           {
            "marker": {
             "colorbar": {
              "outlinewidth": 0,
              "ticks": ""
             }
            },
            "type": "scattercarpet"
           }
          ],
          "scattergeo": [
           {
            "marker": {
             "colorbar": {
              "outlinewidth": 0,
              "ticks": ""
             }
            },
            "type": "scattergeo"
           }
          ],
          "scattergl": [
           {
            "marker": {
             "colorbar": {
              "outlinewidth": 0,
              "ticks": ""
             }
            },
            "type": "scattergl"
           }
          ],
          "scattermapbox": [
           {
            "marker": {
             "colorbar": {
              "outlinewidth": 0,
              "ticks": ""
             }
            },
            "type": "scattermapbox"
           }
          ],
          "scatterpolar": [
           {
            "marker": {
             "colorbar": {
              "outlinewidth": 0,
              "ticks": ""
             }
            },
            "type": "scatterpolar"
           }
          ],
          "scatterpolargl": [
           {
            "marker": {
             "colorbar": {
              "outlinewidth": 0,
              "ticks": ""
             }
            },
            "type": "scatterpolargl"
           }
          ],
          "scatterternary": [
           {
            "marker": {
             "colorbar": {
              "outlinewidth": 0,
              "ticks": ""
             }
            },
            "type": "scatterternary"
           }
          ],
          "surface": [
           {
            "colorbar": {
             "outlinewidth": 0,
             "ticks": ""
            },
            "colorscale": [
             [
              0,
              "#0d0887"
             ],
             [
              0.1111111111111111,
              "#46039f"
             ],
             [
              0.2222222222222222,
              "#7201a8"
             ],
             [
              0.3333333333333333,
              "#9c179e"
             ],
             [
              0.4444444444444444,
              "#bd3786"
             ],
             [
              0.5555555555555556,
              "#d8576b"
             ],
             [
              0.6666666666666666,
              "#ed7953"
             ],
             [
              0.7777777777777778,
              "#fb9f3a"
             ],
             [
              0.8888888888888888,
              "#fdca26"
             ],
             [
              1,
              "#f0f921"
             ]
            ],
            "type": "surface"
           }
          ],
          "table": [
           {
            "cells": {
             "fill": {
              "color": "#EBF0F8"
             },
             "line": {
              "color": "white"
             }
            },
            "header": {
             "fill": {
              "color": "#C8D4E3"
             },
             "line": {
              "color": "white"
             }
            },
            "type": "table"
           }
          ]
         },
         "layout": {
          "annotationdefaults": {
           "arrowcolor": "#2a3f5f",
           "arrowhead": 0,
           "arrowwidth": 1
          },
          "autotypenumbers": "strict",
          "coloraxis": {
           "colorbar": {
            "outlinewidth": 0,
            "ticks": ""
           }
          },
          "colorscale": {
           "diverging": [
            [
             0,
             "#8e0152"
            ],
            [
             0.1,
             "#c51b7d"
            ],
            [
             0.2,
             "#de77ae"
            ],
            [
             0.3,
             "#f1b6da"
            ],
            [
             0.4,
             "#fde0ef"
            ],
            [
             0.5,
             "#f7f7f7"
            ],
            [
             0.6,
             "#e6f5d0"
            ],
            [
             0.7,
             "#b8e186"
            ],
            [
             0.8,
             "#7fbc41"
            ],
            [
             0.9,
             "#4d9221"
            ],
            [
             1,
             "#276419"
            ]
           ],
           "sequential": [
            [
             0,
             "#0d0887"
            ],
            [
             0.1111111111111111,
             "#46039f"
            ],
            [
             0.2222222222222222,
             "#7201a8"
            ],
            [
             0.3333333333333333,
             "#9c179e"
            ],
            [
             0.4444444444444444,
             "#bd3786"
            ],
            [
             0.5555555555555556,
             "#d8576b"
            ],
            [
             0.6666666666666666,
             "#ed7953"
            ],
            [
             0.7777777777777778,
             "#fb9f3a"
            ],
            [
             0.8888888888888888,
             "#fdca26"
            ],
            [
             1,
             "#f0f921"
            ]
           ],
           "sequentialminus": [
            [
             0,
             "#0d0887"
            ],
            [
             0.1111111111111111,
             "#46039f"
            ],
            [
             0.2222222222222222,
             "#7201a8"
            ],
            [
             0.3333333333333333,
             "#9c179e"
            ],
            [
             0.4444444444444444,
             "#bd3786"
            ],
            [
             0.5555555555555556,
             "#d8576b"
            ],
            [
             0.6666666666666666,
             "#ed7953"
            ],
            [
             0.7777777777777778,
             "#fb9f3a"
            ],
            [
             0.8888888888888888,
             "#fdca26"
            ],
            [
             1,
             "#f0f921"
            ]
           ]
          },
          "colorway": [
           "#636efa",
           "#EF553B",
           "#00cc96",
           "#ab63fa",
           "#FFA15A",
           "#19d3f3",
           "#FF6692",
           "#B6E880",
           "#FF97FF",
           "#FECB52"
          ],
          "font": {
           "color": "#2a3f5f"
          },
          "geo": {
           "bgcolor": "white",
           "lakecolor": "white",
           "landcolor": "#E5ECF6",
           "showlakes": true,
           "showland": true,
           "subunitcolor": "white"
          },
          "hoverlabel": {
           "align": "left"
          },
          "hovermode": "closest",
          "mapbox": {
           "style": "light"
          },
          "paper_bgcolor": "white",
          "plot_bgcolor": "#E5ECF6",
          "polar": {
           "angularaxis": {
            "gridcolor": "white",
            "linecolor": "white",
            "ticks": ""
           },
           "bgcolor": "#E5ECF6",
           "radialaxis": {
            "gridcolor": "white",
            "linecolor": "white",
            "ticks": ""
           }
          },
          "scene": {
           "xaxis": {
            "backgroundcolor": "#E5ECF6",
            "gridcolor": "white",
            "gridwidth": 2,
            "linecolor": "white",
            "showbackground": true,
            "ticks": "",
            "zerolinecolor": "white"
           },
           "yaxis": {
            "backgroundcolor": "#E5ECF6",
            "gridcolor": "white",
            "gridwidth": 2,
            "linecolor": "white",
            "showbackground": true,
            "ticks": "",
            "zerolinecolor": "white"
           },
           "zaxis": {
            "backgroundcolor": "#E5ECF6",
            "gridcolor": "white",
            "gridwidth": 2,
            "linecolor": "white",
            "showbackground": true,
            "ticks": "",
            "zerolinecolor": "white"
           }
          },
          "shapedefaults": {
           "line": {
            "color": "#2a3f5f"
           }
          },
          "ternary": {
           "aaxis": {
            "gridcolor": "white",
            "linecolor": "white",
            "ticks": ""
           },
           "baxis": {
            "gridcolor": "white",
            "linecolor": "white",
            "ticks": ""
           },
           "bgcolor": "#E5ECF6",
           "caxis": {
            "gridcolor": "white",
            "linecolor": "white",
            "ticks": ""
           }
          },
          "title": {
           "x": 0.05
          },
          "xaxis": {
           "automargin": true,
           "gridcolor": "white",
           "linecolor": "white",
           "ticks": "",
           "title": {
            "standoff": 15
           },
           "zerolinecolor": "white",
           "zerolinewidth": 2
          },
          "yaxis": {
           "automargin": true,
           "gridcolor": "white",
           "linecolor": "white",
           "ticks": "",
           "title": {
            "standoff": 15
           },
           "zerolinecolor": "white",
           "zerolinewidth": 2
          }
         }
        },
        "title": {
         "font": {
          "color": "#4D5663"
         }
        },
        "xaxis": {
         "gridcolor": "#E1E5ED",
         "showgrid": true,
         "tickfont": {
          "color": "#4D5663"
         },
         "title": {
          "font": {
           "color": "#4D5663"
          },
          "text": ""
         },
         "zerolinecolor": "#E1E5ED"
        },
        "yaxis": {
         "gridcolor": "#E1E5ED",
         "showgrid": true,
         "tickfont": {
          "color": "#4D5663"
         },
         "title": {
          "font": {
           "color": "#4D5663"
          },
          "text": ""
         },
         "zerolinecolor": "#E1E5ED"
        }
       }
      },
      "text/html": [
       "<div>                            <div id=\"6042a43b-5473-4ea1-8651-5a7306be3e3a\" class=\"plotly-graph-div\" style=\"height:525px; width:100%;\"></div>            <script type=\"text/javascript\">                require([\"plotly\"], function(Plotly) {                    window.PLOTLYENV=window.PLOTLYENV || {};\n",
       "                    window.PLOTLYENV.BASE_URL='https://plot.ly';                                    if (document.getElementById(\"6042a43b-5473-4ea1-8651-5a7306be3e3a\")) {                    Plotly.newPlot(                        \"6042a43b-5473-4ea1-8651-5a7306be3e3a\",                        [{\"line\":{\"color\":\"rgba(255, 153, 51, 1.0)\",\"dash\":\"solid\",\"shape\":\"linear\",\"width\":1.3},\"mode\":\"lines\",\"name\":\"Close\",\"text\":\"\",\"x\":[\"2022-01-03\",\"2022-01-04\",\"2022-01-05\",\"2022-01-06\",\"2022-01-07\",\"2022-01-10\",\"2022-01-11\",\"2022-01-12\",\"2022-01-13\",\"2022-01-14\",\"2022-01-18\",\"2022-01-19\",\"2022-01-20\",\"2022-01-21\",\"2022-01-24\",\"2022-01-25\",\"2022-01-26\",\"2022-01-27\",\"2022-01-28\",\"2022-01-31\",\"2022-02-01\",\"2022-02-02\",\"2022-02-03\",\"2022-02-04\",\"2022-02-07\",\"2022-02-08\",\"2022-02-09\",\"2022-02-10\",\"2022-02-11\",\"2022-02-14\",\"2022-02-15\",\"2022-02-16\",\"2022-02-17\",\"2022-02-18\",\"2022-02-22\",\"2022-02-23\",\"2022-02-24\",\"2022-02-25\",\"2022-02-28\",\"2022-03-01\",\"2022-03-02\",\"2022-03-03\",\"2022-03-04\",\"2022-03-07\",\"2022-03-08\",\"2022-03-09\",\"2022-03-10\",\"2022-03-11\",\"2022-03-14\",\"2022-03-15\",\"2022-03-16\",\"2022-03-17\",\"2022-03-18\",\"2022-03-21\",\"2022-03-22\",\"2022-03-23\",\"2022-03-24\",\"2022-03-25\",\"2022-03-28\",\"2022-03-29\",\"2022-03-30\",\"2022-03-31\",\"2022-04-01\",\"2022-04-04\",\"2022-04-05\",\"2022-04-06\",\"2022-04-07\",\"2022-04-08\",\"2022-04-11\",\"2022-04-12\",\"2022-04-13\",\"2022-04-14\",\"2022-04-18\",\"2022-04-19\",\"2022-04-20\",\"2022-04-21\",\"2022-04-22\",\"2022-04-25\",\"2022-04-26\",\"2022-04-27\",\"2022-04-28\",\"2022-04-29\",\"2022-05-02\",\"2022-05-03\",\"2022-05-04\",\"2022-05-05\",\"2022-05-06\",\"2022-05-09\",\"2022-05-10\",\"2022-05-11\",\"2022-05-12\",\"2022-05-13\",\"2022-05-16\",\"2022-05-17\",\"2022-05-18\",\"2022-05-19\",\"2022-05-20\",\"2022-05-23\",\"2022-05-24\",\"2022-05-25\",\"2022-05-26\",\"2022-05-27\",\"2022-05-31\",\"2022-06-01\",\"2022-06-02\",\"2022-06-03\",\"2022-06-06\",\"2022-06-07\",\"2022-06-08\",\"2022-06-09\",\"2022-06-10\",\"2022-06-13\",\"2022-06-14\",\"2022-06-15\",\"2022-06-16\",\"2022-06-17\",\"2022-06-21\",\"2022-06-22\",\"2022-06-23\",\"2022-06-24\",\"2022-06-27\",\"2022-06-28\",\"2022-06-29\",\"2022-06-30\",\"2022-07-01\",\"2022-07-05\",\"2022-07-06\",\"2022-07-07\",\"2022-07-08\",\"2022-07-11\",\"2022-07-12\",\"2022-07-13\",\"2022-07-14\",\"2022-07-15\",\"2022-07-18\",\"2022-07-19\",\"2022-07-20\",\"2022-07-21\",\"2022-07-22\",\"2022-07-25\",\"2022-07-26\",\"2022-07-27\",\"2022-07-28\",\"2022-07-29\",\"2022-08-01\",\"2022-08-02\",\"2022-08-03\",\"2022-08-04\",\"2022-08-05\",\"2022-08-08\",\"2022-08-09\",\"2022-08-10\",\"2022-08-11\",\"2022-08-12\",\"2022-08-15\",\"2022-08-16\",\"2022-08-17\",\"2022-08-18\",\"2022-08-19\",\"2022-08-22\",\"2022-08-23\",\"2022-08-24\",\"2022-08-25\",\"2022-08-26\",\"2022-08-29\",\"2022-08-30\",\"2022-08-31\",\"2022-09-01\",\"2022-09-02\",\"2022-09-06\",\"2022-09-07\",\"2022-09-08\",\"2022-09-09\",\"2022-09-12\",\"2022-09-13\",\"2022-09-14\",\"2022-09-15\",\"2022-09-16\",\"2022-09-19\",\"2022-09-20\",\"2022-09-21\",\"2022-09-22\",\"2022-09-23\",\"2022-09-26\",\"2022-09-27\",\"2022-09-28\",\"2022-09-29\",\"2022-09-30\",\"2022-10-03\",\"2022-10-04\",\"2022-10-05\",\"2022-10-06\",\"2022-10-07\",\"2022-10-10\",\"2022-10-11\",\"2022-10-12\",\"2022-10-13\",\"2022-10-14\",\"2022-10-17\",\"2022-10-18\",\"2022-10-19\",\"2022-10-20\",\"2022-10-21\",\"2022-10-24\",\"2022-10-25\",\"2022-10-26\",\"2022-10-27\",\"2022-10-28\",\"2022-10-31\",\"2022-11-01\",\"2022-11-02\",\"2022-11-03\",\"2022-11-04\",\"2022-11-07\",\"2022-11-08\",\"2022-11-09\",\"2022-11-10\",\"2022-11-11\",\"2022-11-14\",\"2022-11-15\",\"2022-11-16\",\"2022-11-17\",\"2022-11-18\",\"2022-11-21\",\"2022-11-22\",\"2022-11-23\",\"2022-11-25\",\"2022-11-28\",\"2022-11-29\",\"2022-11-30\",\"2022-12-01\",\"2022-12-02\",\"2022-12-05\",\"2022-12-06\",\"2022-12-07\",\"2022-12-08\",\"2022-12-09\",\"2022-12-12\",\"2022-12-13\",\"2022-12-14\",\"2022-12-15\",\"2022-12-16\",\"2022-12-19\",\"2022-12-20\",\"2022-12-21\",\"2022-12-22\",\"2022-12-23\"],\"y\":[399.926666,383.196655,362.706665,354.899994,342.320007,352.706665,354.799988,368.73999,343.853333,349.869995,343.503326,331.883331,332.089996,314.633331,310.0,306.133331,312.470001,276.366669,282.116669,312.23999,310.416656,301.886658,297.046661,307.773346,302.446655,307.333344,310.666656,301.516663,286.666656,291.920013,307.476654,307.796661,292.116669,285.660004,273.843323,254.679993,266.92334,269.956665,290.143341,288.123322,293.296661,279.763336,279.429993,268.193329,274.799988,286.323334,279.433319,265.116669,255.456665,267.296661,280.07666,290.533325,301.796661,307.053345,331.32666,333.036682,337.973328,336.880005,363.946655,366.523346,364.66333,359.200012,361.529999,381.816681,363.753326,348.58667,352.420013,341.829987,325.309998,328.983337,340.790009,328.333344,334.763336,342.716675,325.733337,336.26001,335.016663,332.67334,292.140015,293.83667,292.503326,290.253326,300.980011,303.083344,317.540009,291.093323,288.549988,262.369995,266.679993,244.666672,242.666672,256.529999,241.456665,253.869995,236.603333,236.473328,221.300003,224.96666,209.386673,219.600006,235.910004,253.210007,252.753326,246.789993,258.333344,234.516663,238.279999,238.886673,241.866669,239.706665,232.229996,215.736664,220.889999,233.0,213.100006,216.759995,237.036667,236.08667,235.070007,245.706665,244.919998,232.66333,228.490005,224.473328,227.263336,233.066666,231.733337,244.543335,250.763336,234.343338,233.070007,237.039993,238.313339,240.066666,240.546661,245.529999,247.5,271.706665,272.243347,268.433319,258.859985,274.820007,280.899994,297.149994,297.276672,300.58667,307.396667,308.633331,288.170013,290.42334,283.333344,294.356659,286.630005,300.029999,309.320007,306.563324,303.996674,302.869995,296.666656,289.91333,296.453339,297.09668,296.070007,288.089996,284.820007,277.700012,275.609985,277.160004,270.209991,274.420013,283.700012,289.26001,299.679993,304.420013,292.130005,302.609985,303.75,303.350006,309.070007,308.730011,300.799988,288.589996,275.329987,276.01001,282.940002,287.809998,268.209991,265.25,242.399994,249.440002,240.809998,238.130005,223.070007,222.960007,216.5,217.240005,221.720001,204.990005,219.350006,220.190002,222.039993,207.279999,214.440002,211.25,222.419998,224.639999,225.089996,228.520004,227.539993,227.820007,214.979996,215.309998,207.470001,197.080002,191.300003,177.589996,190.720001,195.970001,190.949997,194.419998,186.919998,183.169998,180.190002,167.869995,169.910004,183.199997,182.860001,182.919998,180.830002,194.699997,194.699997,194.860001,182.449997,179.820007,174.039993,173.440002,179.050003,167.820007,160.949997,156.800003,157.669998,150.229996,149.869995,137.800003,137.570007,125.349998,123.150002],\"type\":\"scatter\"},{\"line\":{\"color\":\"rgba(55, 128, 191, 1.0)\",\"dash\":\"solid\",\"shape\":\"linear\",\"width\":1.3},\"mode\":\"lines\",\"name\":\"SMA(13)\",\"text\":\"\",\"x\":[\"2022-01-03\",\"2022-01-04\",\"2022-01-05\",\"2022-01-06\",\"2022-01-07\",\"2022-01-10\",\"2022-01-11\",\"2022-01-12\",\"2022-01-13\",\"2022-01-14\",\"2022-01-18\",\"2022-01-19\",\"2022-01-20\",\"2022-01-21\",\"2022-01-24\",\"2022-01-25\",\"2022-01-26\",\"2022-01-27\",\"2022-01-28\",\"2022-01-31\",\"2022-02-01\",\"2022-02-02\",\"2022-02-03\",\"2022-02-04\",\"2022-02-07\",\"2022-02-08\",\"2022-02-09\",\"2022-02-10\",\"2022-02-11\",\"2022-02-14\",\"2022-02-15\",\"2022-02-16\",\"2022-02-17\",\"2022-02-18\",\"2022-02-22\",\"2022-02-23\",\"2022-02-24\",\"2022-02-25\",\"2022-02-28\",\"2022-03-01\",\"2022-03-02\",\"2022-03-03\",\"2022-03-04\",\"2022-03-07\",\"2022-03-08\",\"2022-03-09\",\"2022-03-10\",\"2022-03-11\",\"2022-03-14\",\"2022-03-15\",\"2022-03-16\",\"2022-03-17\",\"2022-03-18\",\"2022-03-21\",\"2022-03-22\",\"2022-03-23\",\"2022-03-24\",\"2022-03-25\",\"2022-03-28\",\"2022-03-29\",\"2022-03-30\",\"2022-03-31\",\"2022-04-01\",\"2022-04-04\",\"2022-04-05\",\"2022-04-06\",\"2022-04-07\",\"2022-04-08\",\"2022-04-11\",\"2022-04-12\",\"2022-04-13\",\"2022-04-14\",\"2022-04-18\",\"2022-04-19\",\"2022-04-20\",\"2022-04-21\",\"2022-04-22\",\"2022-04-25\",\"2022-04-26\",\"2022-04-27\",\"2022-04-28\",\"2022-04-29\",\"2022-05-02\",\"2022-05-03\",\"2022-05-04\",\"2022-05-05\",\"2022-05-06\",\"2022-05-09\",\"2022-05-10\",\"2022-05-11\",\"2022-05-12\",\"2022-05-13\",\"2022-05-16\",\"2022-05-17\",\"2022-05-18\",\"2022-05-19\",\"2022-05-20\",\"2022-05-23\",\"2022-05-24\",\"2022-05-25\",\"2022-05-26\",\"2022-05-27\",\"2022-05-31\",\"2022-06-01\",\"2022-06-02\",\"2022-06-03\",\"2022-06-06\",\"2022-06-07\",\"2022-06-08\",\"2022-06-09\",\"2022-06-10\",\"2022-06-13\",\"2022-06-14\",\"2022-06-15\",\"2022-06-16\",\"2022-06-17\",\"2022-06-21\",\"2022-06-22\",\"2022-06-23\",\"2022-06-24\",\"2022-06-27\",\"2022-06-28\",\"2022-06-29\",\"2022-06-30\",\"2022-07-01\",\"2022-07-05\",\"2022-07-06\",\"2022-07-07\",\"2022-07-08\",\"2022-07-11\",\"2022-07-12\",\"2022-07-13\",\"2022-07-14\",\"2022-07-15\",\"2022-07-18\",\"2022-07-19\",\"2022-07-20\",\"2022-07-21\",\"2022-07-22\",\"2022-07-25\",\"2022-07-26\",\"2022-07-27\",\"2022-07-28\",\"2022-07-29\",\"2022-08-01\",\"2022-08-02\",\"2022-08-03\",\"2022-08-04\",\"2022-08-05\",\"2022-08-08\",\"2022-08-09\",\"2022-08-10\",\"2022-08-11\",\"2022-08-12\",\"2022-08-15\",\"2022-08-16\",\"2022-08-17\",\"2022-08-18\",\"2022-08-19\",\"2022-08-22\",\"2022-08-23\",\"2022-08-24\",\"2022-08-25\",\"2022-08-26\",\"2022-08-29\",\"2022-08-30\",\"2022-08-31\",\"2022-09-01\",\"2022-09-02\",\"2022-09-06\",\"2022-09-07\",\"2022-09-08\",\"2022-09-09\",\"2022-09-12\",\"2022-09-13\",\"2022-09-14\",\"2022-09-15\",\"2022-09-16\",\"2022-09-19\",\"2022-09-20\",\"2022-09-21\",\"2022-09-22\",\"2022-09-23\",\"2022-09-26\",\"2022-09-27\",\"2022-09-28\",\"2022-09-29\",\"2022-09-30\",\"2022-10-03\",\"2022-10-04\",\"2022-10-05\",\"2022-10-06\",\"2022-10-07\",\"2022-10-10\",\"2022-10-11\",\"2022-10-12\",\"2022-10-13\",\"2022-10-14\",\"2022-10-17\",\"2022-10-18\",\"2022-10-19\",\"2022-10-20\",\"2022-10-21\",\"2022-10-24\",\"2022-10-25\",\"2022-10-26\",\"2022-10-27\",\"2022-10-28\",\"2022-10-31\",\"2022-11-01\",\"2022-11-02\",\"2022-11-03\",\"2022-11-04\",\"2022-11-07\",\"2022-11-08\",\"2022-11-09\",\"2022-11-10\",\"2022-11-11\",\"2022-11-14\",\"2022-11-15\",\"2022-11-16\",\"2022-11-17\",\"2022-11-18\",\"2022-11-21\",\"2022-11-22\",\"2022-11-23\",\"2022-11-25\",\"2022-11-28\",\"2022-11-29\",\"2022-11-30\",\"2022-12-01\",\"2022-12-02\",\"2022-12-05\",\"2022-12-06\",\"2022-12-07\",\"2022-12-08\",\"2022-12-09\",\"2022-12-12\",\"2022-12-13\",\"2022-12-14\",\"2022-12-15\",\"2022-12-16\",\"2022-12-19\",\"2022-12-20\",\"2022-12-21\",\"2022-12-22\",\"2022-12-23\"],\"y\":[\"\",\"\",\"\",\"\",\"\",\"\",\"\",\"\",\"\",\"\",\"\",\"\",355.4228162307692,348.8617904615384,343.2312785384615,338.87948361538463,335.615638,330.5423043076923,325.11230461538463,321.83845861538464,317.3520483076923,314.12384253846153,310.06050915384617,307.31204915384615,305.0476894615385,303.1433316153846,302.83820276923075,302.18563838461534,300.68820184615385,299.1074335384615,301.50050930769225,303.4758933076923,301.92794553846153,300.0235876923077,297.86640807692305,294.60743361538465,291.4651254615385,288.9658954615385,287.64358753846153,285.90948492307695,285.27717707692307,284.7461524615385,283.7853816923077,280.7635874615384,278.2253818461538,277.77974069230766,277.30076492307694,276.62948384615385,276.6892278461538,276.71794484615384,277.496406,277.52640476923074,278.57820007692305,279.63640653846153,283.6028160769231,287.7264075384615,293.09409976923075,297.86948569230765,303.8405103846154,310.5397432307692,318.1971786923077,326.17743615384614,333.42615446153843,341.25230992307695,346.8846176923077,350.48384915384617,353.97359284615385,354.781541076923,354.18718076923074,353.495643,353.7964125384615,351.0569270769231,348.6138493846154,346.9256451538461,344.3512855384615,342.4074402307693,338.8074388461539,336.41667069230766,332.0746203076923,327.5682093076923,323.77385076923076,321.0771836923077,318.9230816923077,316.02256900000003,315.19231246153845,311.8330806923077,307.66641246153847,302.79230923076926,297.4400002307693,290.49000092307693,283.5664110769231,280.8271790769231,276.7979479230769,273.8261532307692,269.69923069230765,264.7371781538462,258.4461519230769,251.32512507692306,245.03999815384617,239.7361533846154,237.70076946153844,236.6646166923077,237.286667,237.60384553846154,237.7425643846154,237.20871807692308,236.00948761538464,236.18512915384616,236.60000153846156,238.01589861538463,238.57461676923077,239.06307761538463,239.16230784615385,238.93846138461538,235.8530766923077,233.0843589230769,232.33410307692307,230.62282046153845,230.6653853846154,231.23666738461537,231.7007693076923,230.99282015384614,230.13000015384617,229.53333338461542,230.42000046153848,231.35666715384616,231.25923153846153,233.67794915384613,236.29359076923078,236.08641161538463,235.8543606153846,236.005898,235.43718061538462,235.0638473846154,235.67025746153845,236.9810262307692,238.75230869230765,242.1710263076923,245.18461715384618,248.0076926923077,249.10897346153845,250.95948661538463,254.54076784615384,259.4699976153846,264.1035883076923,268.89384453846156,274.0730753846154,279.3105115384615,282.59051261538457,285.892308,286.7866679230769,288.4876919230769,289.887437,293.0543611538461,295.7082073076923,297.6823096153846,298.2089773076923,298.6392329230769,298.33769338461536,296.9928213076923,296.05589884615387,296.7425655384616,297.17692453846155,297.54282084615386,296.8092322307692,296.1223096923077,294.24384707692303,291.7700006923077,288.97359046153844,286.69846269230766,285.2238486153846,284.6541066153846,285.4053883846154,286.01820946153845,285.6361575384616,286.1392327692308,287.34384846153847,288.769233,291.18230953846154,293.73000384615386,295.5484641538461,296.9623106923077,297.0323086923077,296.44077007692306,295.9546156153846,295.0415390769231,292.25615276923077,290.18846007692304,285.55692230769233,281.37923015384615,276.56846030769236,271.11153707692307,264.522306,258.5346151538462,252.98923084615384,248.52077069230765,244.34461615384615,238.34846253846155,233.0823093076923,229.388464,226.06461730769232,223.36307923076927,220.67077153846154,218.39692553846152,217.18846346153845,217.30923207692305,217.47307738461538,218.39769307692308,219.18999984615385,219.65923107692308,220.42769192307694,220.11692207692306,219.13846046153847,217.21846115384616,215.98923069230767,213.15461484615386,211.5753841538462,209.540769,206.94923038461542,204.58999976923076,201.3899993076923,197.97692276923078,194.3130762307692,190.68922999999998,187.19692276923075,185.32999938461538,184.23615315384615,183.59153738461538,183.8407686153846,184.14692215384613,184.04922953846153,184.34999907692307,183.42922976923077,182.88307661538462,182.18076853846154,181.66153776923076,182.52153838461538,182.3607693846154,180.6492309230769,178.6446156923077,176.70230800000002,174.34846138461538,170.8999996923077,166.52307707692307,162.11615446153849,157.72384684615386,153.3646156923077],\"type\":\"scatter\"},{\"line\":{\"color\":\"rgba(55, 128, 191, 0.8999999999999999)\",\"dash\":\"solid\",\"shape\":\"linear\",\"width\":1.3},\"mode\":\"lines\",\"name\":\"SMA(21)\",\"text\":\"\",\"x\":[\"2022-01-03\",\"2022-01-04\",\"2022-01-05\",\"2022-01-06\",\"2022-01-07\",\"2022-01-10\",\"2022-01-11\",\"2022-01-12\",\"2022-01-13\",\"2022-01-14\",\"2022-01-18\",\"2022-01-19\",\"2022-01-20\",\"2022-01-21\",\"2022-01-24\",\"2022-01-25\",\"2022-01-26\",\"2022-01-27\",\"2022-01-28\",\"2022-01-31\",\"2022-02-01\",\"2022-02-02\",\"2022-02-03\",\"2022-02-04\",\"2022-02-07\",\"2022-02-08\",\"2022-02-09\",\"2022-02-10\",\"2022-02-11\",\"2022-02-14\",\"2022-02-15\",\"2022-02-16\",\"2022-02-17\",\"2022-02-18\",\"2022-02-22\",\"2022-02-23\",\"2022-02-24\",\"2022-02-25\",\"2022-02-28\",\"2022-03-01\",\"2022-03-02\",\"2022-03-03\",\"2022-03-04\",\"2022-03-07\",\"2022-03-08\",\"2022-03-09\",\"2022-03-10\",\"2022-03-11\",\"2022-03-14\",\"2022-03-15\",\"2022-03-16\",\"2022-03-17\",\"2022-03-18\",\"2022-03-21\",\"2022-03-22\",\"2022-03-23\",\"2022-03-24\",\"2022-03-25\",\"2022-03-28\",\"2022-03-29\",\"2022-03-30\",\"2022-03-31\",\"2022-04-01\",\"2022-04-04\",\"2022-04-05\",\"2022-04-06\",\"2022-04-07\",\"2022-04-08\",\"2022-04-11\",\"2022-04-12\",\"2022-04-13\",\"2022-04-14\",\"2022-04-18\",\"2022-04-19\",\"2022-04-20\",\"2022-04-21\",\"2022-04-22\",\"2022-04-25\",\"2022-04-26\",\"2022-04-27\",\"2022-04-28\",\"2022-04-29\",\"2022-05-02\",\"2022-05-03\",\"2022-05-04\",\"2022-05-05\",\"2022-05-06\",\"2022-05-09\",\"2022-05-10\",\"2022-05-11\",\"2022-05-12\",\"2022-05-13\",\"2022-05-16\",\"2022-05-17\",\"2022-05-18\",\"2022-05-19\",\"2022-05-20\",\"2022-05-23\",\"2022-05-24\",\"2022-05-25\",\"2022-05-26\",\"2022-05-27\",\"2022-05-31\",\"2022-06-01\",\"2022-06-02\",\"2022-06-03\",\"2022-06-06\",\"2022-06-07\",\"2022-06-08\",\"2022-06-09\",\"2022-06-10\",\"2022-06-13\",\"2022-06-14\",\"2022-06-15\",\"2022-06-16\",\"2022-06-17\",\"2022-06-21\",\"2022-06-22\",\"2022-06-23\",\"2022-06-24\",\"2022-06-27\",\"2022-06-28\",\"2022-06-29\",\"2022-06-30\",\"2022-07-01\",\"2022-07-05\",\"2022-07-06\",\"2022-07-07\",\"2022-07-08\",\"2022-07-11\",\"2022-07-12\",\"2022-07-13\",\"2022-07-14\",\"2022-07-15\",\"2022-07-18\",\"2022-07-19\",\"2022-07-20\",\"2022-07-21\",\"2022-07-22\",\"2022-07-25\",\"2022-07-26\",\"2022-07-27\",\"2022-07-28\",\"2022-07-29\",\"2022-08-01\",\"2022-08-02\",\"2022-08-03\",\"2022-08-04\",\"2022-08-05\",\"2022-08-08\",\"2022-08-09\",\"2022-08-10\",\"2022-08-11\",\"2022-08-12\",\"2022-08-15\",\"2022-08-16\",\"2022-08-17\",\"2022-08-18\",\"2022-08-19\",\"2022-08-22\",\"2022-08-23\",\"2022-08-24\",\"2022-08-25\",\"2022-08-26\",\"2022-08-29\",\"2022-08-30\",\"2022-08-31\",\"2022-09-01\",\"2022-09-02\",\"2022-09-06\",\"2022-09-07\",\"2022-09-08\",\"2022-09-09\",\"2022-09-12\",\"2022-09-13\",\"2022-09-14\",\"2022-09-15\",\"2022-09-16\",\"2022-09-19\",\"2022-09-20\",\"2022-09-21\",\"2022-09-22\",\"2022-09-23\",\"2022-09-26\",\"2022-09-27\",\"2022-09-28\",\"2022-09-29\",\"2022-09-30\",\"2022-10-03\",\"2022-10-04\",\"2022-10-05\",\"2022-10-06\",\"2022-10-07\",\"2022-10-10\",\"2022-10-11\",\"2022-10-12\",\"2022-10-13\",\"2022-10-14\",\"2022-10-17\",\"2022-10-18\",\"2022-10-19\",\"2022-10-20\",\"2022-10-21\",\"2022-10-24\",\"2022-10-25\",\"2022-10-26\",\"2022-10-27\",\"2022-10-28\",\"2022-10-31\",\"2022-11-01\",\"2022-11-02\",\"2022-11-03\",\"2022-11-04\",\"2022-11-07\",\"2022-11-08\",\"2022-11-09\",\"2022-11-10\",\"2022-11-11\",\"2022-11-14\",\"2022-11-15\",\"2022-11-16\",\"2022-11-17\",\"2022-11-18\",\"2022-11-21\",\"2022-11-22\",\"2022-11-23\",\"2022-11-25\",\"2022-11-28\",\"2022-11-29\",\"2022-11-30\",\"2022-12-01\",\"2022-12-02\",\"2022-12-05\",\"2022-12-06\",\"2022-12-07\",\"2022-12-08\",\"2022-12-09\",\"2022-12-12\",\"2022-12-13\",\"2022-12-14\",\"2022-12-15\",\"2022-12-16\",\"2022-12-19\",\"2022-12-20\",\"2022-12-21\",\"2022-12-22\",\"2022-12-23\"],\"y\":[\"\",\"\",\"\",\"\",\"\",\"\",\"\",\"\",\"\",\"\",\"\",\"\",\"\",\"\",\"\",\"\",\"\",\"\",\"\",\"\",335.47015514285715,330.8015833333333,326.6992026666667,324.0833303333334,321.5855522857143,319.9195207142857,317.9176155238095,315.38031433333333,311.47206033333333,308.9990450952381,306.98031457142855,305.2799971904762,303.38634661904763,301.17539461904767,299.23301328571426,296.59872723809525,294.7315848095238,292.70714023809523,293.3631722380952,293.6492033333333,292.74714004761904,291.28745814285713,290.21809314285713,288.8441249523809,287.273965047619,286.50618785714283,285.1776152380952,283.0085682380952,280.815235,279.8928542857143,279.3288850952381,278.5220599047619,278.2363456190476,278.9476159047619,281.12221857142856,283.94094995238095,287.9072992380952,291.238569,295.71428280952375,299.35142590476187,302.9961881904762,306.13444300000003,310.0280936190476,314.9036501904762,319.4541262380952,322.96777776190476,326.1152386666667,329.08650857142857,331.9528575714286,335.45412766666664,338.95381090476195,341.2517482380952,343.35793923809524,345.30651133333333,346.19603476190474,346.4309561904762,346.525241,346.2728606190476,344.1423849047619,340.8038141904762,337.27905133333337,333.7357178095238,330.9633368095238,328.1801627619048,325.11936885714283,321.65936871428573,318.8004790952381,314.51238299999994,310.93381185714287,307.09365347619047,302.9833360952381,298.97095466666667,294.833969952381,290.9819060952381,285.9288898095238,281.6784131904762,276.20412714285715,270.9636508095238,265.09285714285716,261.638571,258.8801583333333,257.00904790476187,255.22333361904762,252.64285657142858,250.51190419047617,246.55841152380955,244.04349133333332,241.67857157142856,240.7022227142857,239.41777852380952,238.8255558571429,237.54317452380954,235.84603166666668,235.44333333333336,233.5019052857143,232.55698442857144,232.58381009523808,233.2879370952381,233.76904885714282,235.4985722857143,236.70428619047618,236.54968266666665,235.3725397142857,234.02587314285714,233.0960323333333,231.8928571904762,231.76031785714284,232.058571952381,232.62412733333335,232.26587347619048,231.94984214285714,232.1788896190476,233.25396938095236,234.16714399999995,234.5265088095238,236.0707941904762,237.53460395238093,239.18555623809524,240.90730276190473,242.49603190476194,243.12238047619047,244.54619042857144,246.84317442857142,250.11269771428573,253.57952361904765,257.071110952381,260.6106348095238,264.2725392857143,266.35000014285714,268.2385717619048,270.5714291904762,273.48984119047617,275.85127033333333,278.79015890476194,282.08793704761905,285.23158766666666,288.01571504761904,290.6523814761905,291.84095247619047,292.6823802380952,294.01666690476185,295.8374619047619,296.84936666666664,297.1917477142857,296.60460547619044,295.67238357142855,294.4830176190476,293.0431765238095,291.21349366666664,290.55873176190477,290.23857328571427,290.5207954761905,290.77428757142854,291.6214308095238,291.2452406190476,290.92571576190477,290.79174795238094,290.7609542380952,291.0561929047619,291.6306383809524,292.14905066666665,291.77460576190475,290.73809657142857,289.7828586190476,289.5376208095238,289.68000133333334,289.2280955714286,288.73476295238095,287.07952438095236,286.0904772857143,284.4900003809524,282.32000004761903,279.16809514285717,275.51476247619047,271.3280951904762,267.7619047142857,263.91000071428573,259.2071438095238,255.2071438095238,250.97476261904765,246.84666652380952,242.39333371428572,238.86238161904762,235.8109536666667,233.25904833333334,230.4828577142857,227.49619095238094,225.60619157142858,223.81047695238092,223.11619185714287,221.4752391904762,220.26095347619048,218.80095328571431,217.563334,216.0557147619048,214.20285742857146,212.94000009523808,211.71380961904765,211.04523780952383,209.85809457142858,208.27380866666664,206.42285652380954,205.13285666666667,202.91523728571428,200.94666604761906,199.079046952381,197.08952323809527,195.0814280952381,192.81047561904762,191.2466662857143,189.66952295238093,188.71142795238094,187.146666,185.8299996190476,184.73285633333333,183.8823800952381,183.9519042380952,182.86142833333335,181.1938090952381,179.5676189047619,177.8176189047619,176.07047595238095,174.4847615238095,172.46619014285713,171.02333357142857,168.90142852380953,166.04190495238095],\"type\":\"scatter\"},{\"line\":{\"color\":\"rgba(55, 128, 191, 0.7999999999999998)\",\"dash\":\"solid\",\"shape\":\"linear\",\"width\":1.3},\"mode\":\"lines\",\"name\":\"SMA(55)\",\"text\":\"\",\"x\":[\"2022-01-03\",\"2022-01-04\",\"2022-01-05\",\"2022-01-06\",\"2022-01-07\",\"2022-01-10\",\"2022-01-11\",\"2022-01-12\",\"2022-01-13\",\"2022-01-14\",\"2022-01-18\",\"2022-01-19\",\"2022-01-20\",\"2022-01-21\",\"2022-01-24\",\"2022-01-25\",\"2022-01-26\",\"2022-01-27\",\"2022-01-28\",\"2022-01-31\",\"2022-02-01\",\"2022-02-02\",\"2022-02-03\",\"2022-02-04\",\"2022-02-07\",\"2022-02-08\",\"2022-02-09\",\"2022-02-10\",\"2022-02-11\",\"2022-02-14\",\"2022-02-15\",\"2022-02-16\",\"2022-02-17\",\"2022-02-18\",\"2022-02-22\",\"2022-02-23\",\"2022-02-24\",\"2022-02-25\",\"2022-02-28\",\"2022-03-01\",\"2022-03-02\",\"2022-03-03\",\"2022-03-04\",\"2022-03-07\",\"2022-03-08\",\"2022-03-09\",\"2022-03-10\",\"2022-03-11\",\"2022-03-14\",\"2022-03-15\",\"2022-03-16\",\"2022-03-17\",\"2022-03-18\",\"2022-03-21\",\"2022-03-22\",\"2022-03-23\",\"2022-03-24\",\"2022-03-25\",\"2022-03-28\",\"2022-03-29\",\"2022-03-30\",\"2022-03-31\",\"2022-04-01\",\"2022-04-04\",\"2022-04-05\",\"2022-04-06\",\"2022-04-07\",\"2022-04-08\",\"2022-04-11\",\"2022-04-12\",\"2022-04-13\",\"2022-04-14\",\"2022-04-18\",\"2022-04-19\",\"2022-04-20\",\"2022-04-21\",\"2022-04-22\",\"2022-04-25\",\"2022-04-26\",\"2022-04-27\",\"2022-04-28\",\"2022-04-29\",\"2022-05-02\",\"2022-05-03\",\"2022-05-04\",\"2022-05-05\",\"2022-05-06\",\"2022-05-09\",\"2022-05-10\",\"2022-05-11\",\"2022-05-12\",\"2022-05-13\",\"2022-05-16\",\"2022-05-17\",\"2022-05-18\",\"2022-05-19\",\"2022-05-20\",\"2022-05-23\",\"2022-05-24\",\"2022-05-25\",\"2022-05-26\",\"2022-05-27\",\"2022-05-31\",\"2022-06-01\",\"2022-06-02\",\"2022-06-03\",\"2022-06-06\",\"2022-06-07\",\"2022-06-08\",\"2022-06-09\",\"2022-06-10\",\"2022-06-13\",\"2022-06-14\",\"2022-06-15\",\"2022-06-16\",\"2022-06-17\",\"2022-06-21\",\"2022-06-22\",\"2022-06-23\",\"2022-06-24\",\"2022-06-27\",\"2022-06-28\",\"2022-06-29\",\"2022-06-30\",\"2022-07-01\",\"2022-07-05\",\"2022-07-06\",\"2022-07-07\",\"2022-07-08\",\"2022-07-11\",\"2022-07-12\",\"2022-07-13\",\"2022-07-14\",\"2022-07-15\",\"2022-07-18\",\"2022-07-19\",\"2022-07-20\",\"2022-07-21\",\"2022-07-22\",\"2022-07-25\",\"2022-07-26\",\"2022-07-27\",\"2022-07-28\",\"2022-07-29\",\"2022-08-01\",\"2022-08-02\",\"2022-08-03\",\"2022-08-04\",\"2022-08-05\",\"2022-08-08\",\"2022-08-09\",\"2022-08-10\",\"2022-08-11\",\"2022-08-12\",\"2022-08-15\",\"2022-08-16\",\"2022-08-17\",\"2022-08-18\",\"2022-08-19\",\"2022-08-22\",\"2022-08-23\",\"2022-08-24\",\"2022-08-25\",\"2022-08-26\",\"2022-08-29\",\"2022-08-30\",\"2022-08-31\",\"2022-09-01\",\"2022-09-02\",\"2022-09-06\",\"2022-09-07\",\"2022-09-08\",\"2022-09-09\",\"2022-09-12\",\"2022-09-13\",\"2022-09-14\",\"2022-09-15\",\"2022-09-16\",\"2022-09-19\",\"2022-09-20\",\"2022-09-21\",\"2022-09-22\",\"2022-09-23\",\"2022-09-26\",\"2022-09-27\",\"2022-09-28\",\"2022-09-29\",\"2022-09-30\",\"2022-10-03\",\"2022-10-04\",\"2022-10-05\",\"2022-10-06\",\"2022-10-07\",\"2022-10-10\",\"2022-10-11\",\"2022-10-12\",\"2022-10-13\",\"2022-10-14\",\"2022-10-17\",\"2022-10-18\",\"2022-10-19\",\"2022-10-20\",\"2022-10-21\",\"2022-10-24\",\"2022-10-25\",\"2022-10-26\",\"2022-10-27\",\"2022-10-28\",\"2022-10-31\",\"2022-11-01\",\"2022-11-02\",\"2022-11-03\",\"2022-11-04\",\"2022-11-07\",\"2022-11-08\",\"2022-11-09\",\"2022-11-10\",\"2022-11-11\",\"2022-11-14\",\"2022-11-15\",\"2022-11-16\",\"2022-11-17\",\"2022-11-18\",\"2022-11-21\",\"2022-11-22\",\"2022-11-23\",\"2022-11-25\",\"2022-11-28\",\"2022-11-29\",\"2022-11-30\",\"2022-12-01\",\"2022-12-02\",\"2022-12-05\",\"2022-12-06\",\"2022-12-07\",\"2022-12-08\",\"2022-12-09\",\"2022-12-12\",\"2022-12-13\",\"2022-12-14\",\"2022-12-15\",\"2022-12-16\",\"2022-12-19\",\"2022-12-20\",\"2022-12-21\",\"2022-12-22\",\"2022-12-23\"],\"y\":[\"\",\"\",\"\",\"\",\"\",\"\",\"\",\"\",\"\",\"\",\"\",\"\",\"\",\"\",\"\",\"\",\"\",\"\",\"\",\"\",\"\",\"\",\"\",\"\",\"\",\"\",\"\",\"\",\"\",\"\",\"\",\"\",\"\",\"\",\"\",\"\",\"\",\"\",\"\",\"\",\"\",\"\",\"\",\"\",\"\",\"\",\"\",\"\",\"\",\"\",\"\",\"\",\"\",\"\",306.34084523636363,305.1246637090909,304.3024214,303.8328457636363,303.99733050909094,304.43739121818186,304.65478512727276,304.7347855636363,304.60369481818185,305.2939375090909,305.5463617090909,305.6387861454545,306.0121803636363,306.1892711090909,306.3833923272727,306.7285439090909,307.3586653272727,307.64708974545454,308.70884732727274,309.8106656181819,310.05599920000003,310.5258783636363,311.12824209090905,311.7759998909091,311.4917575090909,311.33521232727276,311.0655756363636,310.6944241818182,310.68466687272723,310.9831521090909,311.4489702181818,311.1510914727273,310.80115196363636,310.2603033454546,309.9152122363636,309.38472767272725,309.16630365454546,308.9773338181818,308.459152,307.7996366181818,306.86290954545456,305.8297580363636,304.76678834545453,303.77654592727276,302.707334,301.7036979636364,300.7870919636363,300.3103044727273,300.0855164181818,299.92794056363635,299.76497116363635,298.93660758181824,297.9865471090909,296.84272914545454,295.65751685454546,293.99169876363635,292.1588499272727,289.9363651272727,287.82745592727275,285.44660765454546,282.6570923818182,279.9679408363636,277.7467891090909,275.4660013090909,272.7978799636364,270.6515770363636,268.76672845454544,266.5893342181818,264.5286072727273,262.6952132727273,260.84575870909094,258.8871524727273,257.1307887090909,255.49042505454543,253.81854616363634,252.15690981818182,250.28072794545454,248.49933394545454,246.7836975636364,245.8369094,244.86800014545454,244.01393965454548,243.23660645454547,242.70436379999998,242.14363658181819,241.25078767272726,240.66472698181818,240.41509096363637,240.75200003636363,241.30600005454545,242.2625455090909,243.31563638181817,244.24048489090913,245.4618788181818,246.08551550909092,247.06406109090912,247.91606138181822,249.24436421818183,250.36551594545458,252.0135764181818,253.64484916363637,254.92945498181817,255.85284892727273,256.7640610909091,257.6709095090909,258.24509107272723,259.37121245454546,260.44060665454543,261.48030363636366,262.32072776363634,263.14097034545455,263.96769790909093,265.05630374545456,266.0793947454545,266.75594003636365,267.8708492545455,269.08794047272727,270.0374558,271.1936980363636,272.45460723636364,273.2986679636364,274.34757681818184,275.6400617272727,277.0011526545454,278.5392740909091,280.02048636363634,281.2520013090909,282.28575874545453,282.8455160545455,283.3045464909091,284.1881222,285.1833947636364,285.750122,286.23987947272724,286.2823036181818,286.44400072727274,286.35818252727273,286.18781898181817,285.3035161090909,284.4074553818182,283.46321321818186,282.7064863090909,281.74103165454545,280.3608500363636,278.9463048,277.5447289818182,276.1166075818182,274.2963045272727,272.5836985454545,271.18515285454544,269.94872845454546,268.8815767272727,267.6221828545455,266.5656373818182,265.2476372727273,263.7658190909091,262.10066767272724,260.4881826545454,258.7536373090909,256.94297087272724,255.1500012909091,252.98884959999998,251.05472816363638,249.23472805454546,247.46854625454546,245.82490972727274,244.17436401818182,242.49363698181818,240.73054603636365,238.86981883636363,236.96963685454546,235.14236385454547,233.20781823636366,231.08490923636361,228.83781812727275,227.06636343636362,225.10436365454547,223.1245454909091,220.92636350909092,218.57636350909092,216.12745409090908,213.81181798181817,211.82018174545456,209.8654548363636,207.7734546,205.48000007272725,203.11381825454546,200.96872743636365,198.87090916363636,196.96909114545454,194.93509123636366,192.8358185090909,190.745273],\"type\":\"scatter\"}],                        {\"legend\":{\"bgcolor\":\"#F5F6F9\",\"font\":{\"color\":\"#4D5663\"}},\"paper_bgcolor\":\"#F5F6F9\",\"plot_bgcolor\":\"#F5F6F9\",\"template\":{\"data\":{\"barpolar\":[{\"marker\":{\"line\":{\"color\":\"#E5ECF6\",\"width\":0.5},\"pattern\":{\"fillmode\":\"overlay\",\"size\":10,\"solidity\":0.2}},\"type\":\"barpolar\"}],\"bar\":[{\"error_x\":{\"color\":\"#2a3f5f\"},\"error_y\":{\"color\":\"#2a3f5f\"},\"marker\":{\"line\":{\"color\":\"#E5ECF6\",\"width\":0.5},\"pattern\":{\"fillmode\":\"overlay\",\"size\":10,\"solidity\":0.2}},\"type\":\"bar\"}],\"carpet\":[{\"aaxis\":{\"endlinecolor\":\"#2a3f5f\",\"gridcolor\":\"white\",\"linecolor\":\"white\",\"minorgridcolor\":\"white\",\"startlinecolor\":\"#2a3f5f\"},\"baxis\":{\"endlinecolor\":\"#2a3f5f\",\"gridcolor\":\"white\",\"linecolor\":\"white\",\"minorgridcolor\":\"white\",\"startlinecolor\":\"#2a3f5f\"},\"type\":\"carpet\"}],\"choropleth\":[{\"colorbar\":{\"outlinewidth\":0,\"ticks\":\"\"},\"type\":\"choropleth\"}],\"contourcarpet\":[{\"colorbar\":{\"outlinewidth\":0,\"ticks\":\"\"},\"type\":\"contourcarpet\"}],\"contour\":[{\"colorbar\":{\"outlinewidth\":0,\"ticks\":\"\"},\"colorscale\":[[0.0,\"#0d0887\"],[0.1111111111111111,\"#46039f\"],[0.2222222222222222,\"#7201a8\"],[0.3333333333333333,\"#9c179e\"],[0.4444444444444444,\"#bd3786\"],[0.5555555555555556,\"#d8576b\"],[0.6666666666666666,\"#ed7953\"],[0.7777777777777778,\"#fb9f3a\"],[0.8888888888888888,\"#fdca26\"],[1.0,\"#f0f921\"]],\"type\":\"contour\"}],\"heatmapgl\":[{\"colorbar\":{\"outlinewidth\":0,\"ticks\":\"\"},\"colorscale\":[[0.0,\"#0d0887\"],[0.1111111111111111,\"#46039f\"],[0.2222222222222222,\"#7201a8\"],[0.3333333333333333,\"#9c179e\"],[0.4444444444444444,\"#bd3786\"],[0.5555555555555556,\"#d8576b\"],[0.6666666666666666,\"#ed7953\"],[0.7777777777777778,\"#fb9f3a\"],[0.8888888888888888,\"#fdca26\"],[1.0,\"#f0f921\"]],\"type\":\"heatmapgl\"}],\"heatmap\":[{\"colorbar\":{\"outlinewidth\":0,\"ticks\":\"\"},\"colorscale\":[[0.0,\"#0d0887\"],[0.1111111111111111,\"#46039f\"],[0.2222222222222222,\"#7201a8\"],[0.3333333333333333,\"#9c179e\"],[0.4444444444444444,\"#bd3786\"],[0.5555555555555556,\"#d8576b\"],[0.6666666666666666,\"#ed7953\"],[0.7777777777777778,\"#fb9f3a\"],[0.8888888888888888,\"#fdca26\"],[1.0,\"#f0f921\"]],\"type\":\"heatmap\"}],\"histogram2dcontour\":[{\"colorbar\":{\"outlinewidth\":0,\"ticks\":\"\"},\"colorscale\":[[0.0,\"#0d0887\"],[0.1111111111111111,\"#46039f\"],[0.2222222222222222,\"#7201a8\"],[0.3333333333333333,\"#9c179e\"],[0.4444444444444444,\"#bd3786\"],[0.5555555555555556,\"#d8576b\"],[0.6666666666666666,\"#ed7953\"],[0.7777777777777778,\"#fb9f3a\"],[0.8888888888888888,\"#fdca26\"],[1.0,\"#f0f921\"]],\"type\":\"histogram2dcontour\"}],\"histogram2d\":[{\"colorbar\":{\"outlinewidth\":0,\"ticks\":\"\"},\"colorscale\":[[0.0,\"#0d0887\"],[0.1111111111111111,\"#46039f\"],[0.2222222222222222,\"#7201a8\"],[0.3333333333333333,\"#9c179e\"],[0.4444444444444444,\"#bd3786\"],[0.5555555555555556,\"#d8576b\"],[0.6666666666666666,\"#ed7953\"],[0.7777777777777778,\"#fb9f3a\"],[0.8888888888888888,\"#fdca26\"],[1.0,\"#f0f921\"]],\"type\":\"histogram2d\"}],\"histogram\":[{\"marker\":{\"pattern\":{\"fillmode\":\"overlay\",\"size\":10,\"solidity\":0.2}},\"type\":\"histogram\"}],\"mesh3d\":[{\"colorbar\":{\"outlinewidth\":0,\"ticks\":\"\"},\"type\":\"mesh3d\"}],\"parcoords\":[{\"line\":{\"colorbar\":{\"outlinewidth\":0,\"ticks\":\"\"}},\"type\":\"parcoords\"}],\"pie\":[{\"automargin\":true,\"type\":\"pie\"}],\"scatter3d\":[{\"line\":{\"colorbar\":{\"outlinewidth\":0,\"ticks\":\"\"}},\"marker\":{\"colorbar\":{\"outlinewidth\":0,\"ticks\":\"\"}},\"type\":\"scatter3d\"}],\"scattercarpet\":[{\"marker\":{\"colorbar\":{\"outlinewidth\":0,\"ticks\":\"\"}},\"type\":\"scattercarpet\"}],\"scattergeo\":[{\"marker\":{\"colorbar\":{\"outlinewidth\":0,\"ticks\":\"\"}},\"type\":\"scattergeo\"}],\"scattergl\":[{\"marker\":{\"colorbar\":{\"outlinewidth\":0,\"ticks\":\"\"}},\"type\":\"scattergl\"}],\"scattermapbox\":[{\"marker\":{\"colorbar\":{\"outlinewidth\":0,\"ticks\":\"\"}},\"type\":\"scattermapbox\"}],\"scatterpolargl\":[{\"marker\":{\"colorbar\":{\"outlinewidth\":0,\"ticks\":\"\"}},\"type\":\"scatterpolargl\"}],\"scatterpolar\":[{\"marker\":{\"colorbar\":{\"outlinewidth\":0,\"ticks\":\"\"}},\"type\":\"scatterpolar\"}],\"scatter\":[{\"marker\":{\"colorbar\":{\"outlinewidth\":0,\"ticks\":\"\"}},\"type\":\"scatter\"}],\"scatterternary\":[{\"marker\":{\"colorbar\":{\"outlinewidth\":0,\"ticks\":\"\"}},\"type\":\"scatterternary\"}],\"surface\":[{\"colorbar\":{\"outlinewidth\":0,\"ticks\":\"\"},\"colorscale\":[[0.0,\"#0d0887\"],[0.1111111111111111,\"#46039f\"],[0.2222222222222222,\"#7201a8\"],[0.3333333333333333,\"#9c179e\"],[0.4444444444444444,\"#bd3786\"],[0.5555555555555556,\"#d8576b\"],[0.6666666666666666,\"#ed7953\"],[0.7777777777777778,\"#fb9f3a\"],[0.8888888888888888,\"#fdca26\"],[1.0,\"#f0f921\"]],\"type\":\"surface\"}],\"table\":[{\"cells\":{\"fill\":{\"color\":\"#EBF0F8\"},\"line\":{\"color\":\"white\"}},\"header\":{\"fill\":{\"color\":\"#C8D4E3\"},\"line\":{\"color\":\"white\"}},\"type\":\"table\"}]},\"layout\":{\"annotationdefaults\":{\"arrowcolor\":\"#2a3f5f\",\"arrowhead\":0,\"arrowwidth\":1},\"autotypenumbers\":\"strict\",\"coloraxis\":{\"colorbar\":{\"outlinewidth\":0,\"ticks\":\"\"}},\"colorscale\":{\"diverging\":[[0,\"#8e0152\"],[0.1,\"#c51b7d\"],[0.2,\"#de77ae\"],[0.3,\"#f1b6da\"],[0.4,\"#fde0ef\"],[0.5,\"#f7f7f7\"],[0.6,\"#e6f5d0\"],[0.7,\"#b8e186\"],[0.8,\"#7fbc41\"],[0.9,\"#4d9221\"],[1,\"#276419\"]],\"sequential\":[[0.0,\"#0d0887\"],[0.1111111111111111,\"#46039f\"],[0.2222222222222222,\"#7201a8\"],[0.3333333333333333,\"#9c179e\"],[0.4444444444444444,\"#bd3786\"],[0.5555555555555556,\"#d8576b\"],[0.6666666666666666,\"#ed7953\"],[0.7777777777777778,\"#fb9f3a\"],[0.8888888888888888,\"#fdca26\"],[1.0,\"#f0f921\"]],\"sequentialminus\":[[0.0,\"#0d0887\"],[0.1111111111111111,\"#46039f\"],[0.2222222222222222,\"#7201a8\"],[0.3333333333333333,\"#9c179e\"],[0.4444444444444444,\"#bd3786\"],[0.5555555555555556,\"#d8576b\"],[0.6666666666666666,\"#ed7953\"],[0.7777777777777778,\"#fb9f3a\"],[0.8888888888888888,\"#fdca26\"],[1.0,\"#f0f921\"]]},\"colorway\":[\"#636efa\",\"#EF553B\",\"#00cc96\",\"#ab63fa\",\"#FFA15A\",\"#19d3f3\",\"#FF6692\",\"#B6E880\",\"#FF97FF\",\"#FECB52\"],\"font\":{\"color\":\"#2a3f5f\"},\"geo\":{\"bgcolor\":\"white\",\"lakecolor\":\"white\",\"landcolor\":\"#E5ECF6\",\"showlakes\":true,\"showland\":true,\"subunitcolor\":\"white\"},\"hoverlabel\":{\"align\":\"left\"},\"hovermode\":\"closest\",\"mapbox\":{\"style\":\"light\"},\"paper_bgcolor\":\"white\",\"plot_bgcolor\":\"#E5ECF6\",\"polar\":{\"angularaxis\":{\"gridcolor\":\"white\",\"linecolor\":\"white\",\"ticks\":\"\"},\"bgcolor\":\"#E5ECF6\",\"radialaxis\":{\"gridcolor\":\"white\",\"linecolor\":\"white\",\"ticks\":\"\"}},\"scene\":{\"xaxis\":{\"backgroundcolor\":\"#E5ECF6\",\"gridcolor\":\"white\",\"gridwidth\":2,\"linecolor\":\"white\",\"showbackground\":true,\"ticks\":\"\",\"zerolinecolor\":\"white\"},\"yaxis\":{\"backgroundcolor\":\"#E5ECF6\",\"gridcolor\":\"white\",\"gridwidth\":2,\"linecolor\":\"white\",\"showbackground\":true,\"ticks\":\"\",\"zerolinecolor\":\"white\"},\"zaxis\":{\"backgroundcolor\":\"#E5ECF6\",\"gridcolor\":\"white\",\"gridwidth\":2,\"linecolor\":\"white\",\"showbackground\":true,\"ticks\":\"\",\"zerolinecolor\":\"white\"}},\"shapedefaults\":{\"line\":{\"color\":\"#2a3f5f\"}},\"ternary\":{\"aaxis\":{\"gridcolor\":\"white\",\"linecolor\":\"white\",\"ticks\":\"\"},\"baxis\":{\"gridcolor\":\"white\",\"linecolor\":\"white\",\"ticks\":\"\"},\"bgcolor\":\"#E5ECF6\",\"caxis\":{\"gridcolor\":\"white\",\"linecolor\":\"white\",\"ticks\":\"\"}},\"title\":{\"x\":0.05},\"xaxis\":{\"automargin\":true,\"gridcolor\":\"white\",\"linecolor\":\"white\",\"ticks\":\"\",\"title\":{\"standoff\":15},\"zerolinecolor\":\"white\",\"zerolinewidth\":2},\"yaxis\":{\"automargin\":true,\"gridcolor\":\"white\",\"linecolor\":\"white\",\"ticks\":\"\",\"title\":{\"standoff\":15},\"zerolinecolor\":\"white\",\"zerolinewidth\":2}}},\"title\":{\"font\":{\"color\":\"#4D5663\"}},\"xaxis\":{\"gridcolor\":\"#E1E5ED\",\"showgrid\":true,\"tickfont\":{\"color\":\"#4D5663\"},\"title\":{\"font\":{\"color\":\"#4D5663\"},\"text\":\"\"},\"zerolinecolor\":\"#E1E5ED\"},\"yaxis\":{\"gridcolor\":\"#E1E5ED\",\"showgrid\":true,\"tickfont\":{\"color\":\"#4D5663\"},\"title\":{\"font\":{\"color\":\"#4D5663\"},\"text\":\"\"},\"zerolinecolor\":\"#E1E5ED\"}},                        {\"showLink\": true, \"linkText\": \"Export to plot.ly\", \"plotlyServerURL\": \"https://plot.ly\", \"responsive\": true}                    ).then(function(){\n",
       "                            \n",
       "var gd = document.getElementById('6042a43b-5473-4ea1-8651-5a7306be3e3a');\n",
       "var x = new MutationObserver(function (mutations, observer) {{\n",
       "        var display = window.getComputedStyle(gd).display;\n",
       "        if (!display || display === 'none') {{\n",
       "            console.log([gd, 'removed!']);\n",
       "            Plotly.purge(gd);\n",
       "            observer.disconnect();\n",
       "        }}\n",
       "}});\n",
       "\n",
       "// Listen for the removal of the full notebook cells\n",
       "var notebookContainer = gd.closest('#notebook-container');\n",
       "if (notebookContainer) {{\n",
       "    x.observe(notebookContainer, {childList: true});\n",
       "}}\n",
       "\n",
       "// Listen for the clearing of the current output cell\n",
       "var outputEl = gd.closest('.output');\n",
       "if (outputEl) {{\n",
       "    x.observe(outputEl, {childList: true});\n",
       "}}\n",
       "\n",
       "                        })                };                });            </script>        </div>"
      ]
     },
     "metadata": {},
     "output_type": "display_data"
    }
   ],
   "source": [
    "TS['Close']['2022-01-01':'2022-12-23'].ta_plot(study='sma',periods=[13,21,55],title='Simple Moving Averages')"
   ]
  },
  {
   "cell_type": "code",
   "execution_count": 42,
   "id": "8a625fd8",
   "metadata": {},
   "outputs": [
    {
     "data": {
      "application/vnd.plotly.v1+json": {
       "config": {
        "linkText": "Export to plot.ly",
        "plotlyServerURL": "https://plot.ly",
        "showLink": true
       },
       "data": [
        {
         "line": {
          "color": "rgba(255, 153, 51, 1.0)",
          "dash": "solid",
          "shape": "linear",
          "width": 1.3
         },
         "mode": "lines",
         "name": "Close",
         "text": "",
         "type": "scatter",
         "x": [
          "2022-01-03",
          "2022-01-04",
          "2022-01-05",
          "2022-01-06",
          "2022-01-07",
          "2022-01-10",
          "2022-01-11",
          "2022-01-12",
          "2022-01-13",
          "2022-01-14",
          "2022-01-18",
          "2022-01-19",
          "2022-01-20",
          "2022-01-21",
          "2022-01-24",
          "2022-01-25",
          "2022-01-26",
          "2022-01-27",
          "2022-01-28",
          "2022-01-31",
          "2022-02-01",
          "2022-02-02",
          "2022-02-03",
          "2022-02-04",
          "2022-02-07",
          "2022-02-08",
          "2022-02-09",
          "2022-02-10",
          "2022-02-11",
          "2022-02-14",
          "2022-02-15",
          "2022-02-16",
          "2022-02-17",
          "2022-02-18",
          "2022-02-22",
          "2022-02-23",
          "2022-02-24",
          "2022-02-25",
          "2022-02-28",
          "2022-03-01",
          "2022-03-02",
          "2022-03-03",
          "2022-03-04",
          "2022-03-07",
          "2022-03-08",
          "2022-03-09",
          "2022-03-10",
          "2022-03-11",
          "2022-03-14",
          "2022-03-15",
          "2022-03-16",
          "2022-03-17",
          "2022-03-18",
          "2022-03-21",
          "2022-03-22",
          "2022-03-23",
          "2022-03-24",
          "2022-03-25",
          "2022-03-28",
          "2022-03-29",
          "2022-03-30",
          "2022-03-31",
          "2022-04-01",
          "2022-04-04",
          "2022-04-05",
          "2022-04-06",
          "2022-04-07",
          "2022-04-08",
          "2022-04-11",
          "2022-04-12",
          "2022-04-13",
          "2022-04-14",
          "2022-04-18",
          "2022-04-19",
          "2022-04-20",
          "2022-04-21",
          "2022-04-22",
          "2022-04-25",
          "2022-04-26",
          "2022-04-27",
          "2022-04-28",
          "2022-04-29",
          "2022-05-02",
          "2022-05-03",
          "2022-05-04",
          "2022-05-05",
          "2022-05-06",
          "2022-05-09",
          "2022-05-10",
          "2022-05-11",
          "2022-05-12",
          "2022-05-13",
          "2022-05-16",
          "2022-05-17",
          "2022-05-18",
          "2022-05-19",
          "2022-05-20",
          "2022-05-23",
          "2022-05-24",
          "2022-05-25",
          "2022-05-26",
          "2022-05-27",
          "2022-05-31",
          "2022-06-01",
          "2022-06-02",
          "2022-06-03",
          "2022-06-06",
          "2022-06-07",
          "2022-06-08",
          "2022-06-09",
          "2022-06-10",
          "2022-06-13",
          "2022-06-14",
          "2022-06-15",
          "2022-06-16",
          "2022-06-17",
          "2022-06-21",
          "2022-06-22",
          "2022-06-23",
          "2022-06-24",
          "2022-06-27",
          "2022-06-28",
          "2022-06-29",
          "2022-06-30",
          "2022-07-01",
          "2022-07-05",
          "2022-07-06",
          "2022-07-07",
          "2022-07-08",
          "2022-07-11",
          "2022-07-12",
          "2022-07-13",
          "2022-07-14",
          "2022-07-15",
          "2022-07-18",
          "2022-07-19",
          "2022-07-20",
          "2022-07-21",
          "2022-07-22",
          "2022-07-25",
          "2022-07-26",
          "2022-07-27",
          "2022-07-28",
          "2022-07-29",
          "2022-08-01",
          "2022-08-02",
          "2022-08-03",
          "2022-08-04",
          "2022-08-05",
          "2022-08-08",
          "2022-08-09",
          "2022-08-10",
          "2022-08-11",
          "2022-08-12",
          "2022-08-15",
          "2022-08-16",
          "2022-08-17",
          "2022-08-18",
          "2022-08-19",
          "2022-08-22",
          "2022-08-23",
          "2022-08-24",
          "2022-08-25",
          "2022-08-26",
          "2022-08-29",
          "2022-08-30",
          "2022-08-31",
          "2022-09-01",
          "2022-09-02",
          "2022-09-06",
          "2022-09-07",
          "2022-09-08",
          "2022-09-09",
          "2022-09-12",
          "2022-09-13",
          "2022-09-14",
          "2022-09-15",
          "2022-09-16",
          "2022-09-19",
          "2022-09-20",
          "2022-09-21",
          "2022-09-22",
          "2022-09-23",
          "2022-09-26",
          "2022-09-27",
          "2022-09-28",
          "2022-09-29",
          "2022-09-30",
          "2022-10-03",
          "2022-10-04",
          "2022-10-05",
          "2022-10-06",
          "2022-10-07",
          "2022-10-10",
          "2022-10-11",
          "2022-10-12",
          "2022-10-13",
          "2022-10-14",
          "2022-10-17",
          "2022-10-18",
          "2022-10-19",
          "2022-10-20",
          "2022-10-21",
          "2022-10-24",
          "2022-10-25",
          "2022-10-26",
          "2022-10-27",
          "2022-10-28",
          "2022-10-31",
          "2022-11-01",
          "2022-11-02",
          "2022-11-03",
          "2022-11-04",
          "2022-11-07",
          "2022-11-08",
          "2022-11-09",
          "2022-11-10",
          "2022-11-11",
          "2022-11-14",
          "2022-11-15",
          "2022-11-16",
          "2022-11-17",
          "2022-11-18",
          "2022-11-21",
          "2022-11-22",
          "2022-11-23",
          "2022-11-25",
          "2022-11-28",
          "2022-11-29",
          "2022-11-30",
          "2022-12-01",
          "2022-12-02",
          "2022-12-05",
          "2022-12-06",
          "2022-12-07",
          "2022-12-08",
          "2022-12-09",
          "2022-12-12",
          "2022-12-13",
          "2022-12-14",
          "2022-12-15",
          "2022-12-16",
          "2022-12-19",
          "2022-12-20",
          "2022-12-21",
          "2022-12-22",
          "2022-12-23"
         ],
         "y": [
          399.926666,
          383.196655,
          362.706665,
          354.899994,
          342.320007,
          352.706665,
          354.799988,
          368.73999,
          343.853333,
          349.869995,
          343.503326,
          331.883331,
          332.089996,
          314.633331,
          310,
          306.133331,
          312.470001,
          276.366669,
          282.116669,
          312.23999,
          310.416656,
          301.886658,
          297.046661,
          307.773346,
          302.446655,
          307.333344,
          310.666656,
          301.516663,
          286.666656,
          291.920013,
          307.476654,
          307.796661,
          292.116669,
          285.660004,
          273.843323,
          254.679993,
          266.92334,
          269.956665,
          290.143341,
          288.123322,
          293.296661,
          279.763336,
          279.429993,
          268.193329,
          274.799988,
          286.323334,
          279.433319,
          265.116669,
          255.456665,
          267.296661,
          280.07666,
          290.533325,
          301.796661,
          307.053345,
          331.32666,
          333.036682,
          337.973328,
          336.880005,
          363.946655,
          366.523346,
          364.66333,
          359.200012,
          361.529999,
          381.816681,
          363.753326,
          348.58667,
          352.420013,
          341.829987,
          325.309998,
          328.983337,
          340.790009,
          328.333344,
          334.763336,
          342.716675,
          325.733337,
          336.26001,
          335.016663,
          332.67334,
          292.140015,
          293.83667,
          292.503326,
          290.253326,
          300.980011,
          303.083344,
          317.540009,
          291.093323,
          288.549988,
          262.369995,
          266.679993,
          244.666672,
          242.666672,
          256.529999,
          241.456665,
          253.869995,
          236.603333,
          236.473328,
          221.300003,
          224.96666,
          209.386673,
          219.600006,
          235.910004,
          253.210007,
          252.753326,
          246.789993,
          258.333344,
          234.516663,
          238.279999,
          238.886673,
          241.866669,
          239.706665,
          232.229996,
          215.736664,
          220.889999,
          233,
          213.100006,
          216.759995,
          237.036667,
          236.08667,
          235.070007,
          245.706665,
          244.919998,
          232.66333,
          228.490005,
          224.473328,
          227.263336,
          233.066666,
          231.733337,
          244.543335,
          250.763336,
          234.343338,
          233.070007,
          237.039993,
          238.313339,
          240.066666,
          240.546661,
          245.529999,
          247.5,
          271.706665,
          272.243347,
          268.433319,
          258.859985,
          274.820007,
          280.899994,
          297.149994,
          297.276672,
          300.58667,
          307.396667,
          308.633331,
          288.170013,
          290.42334,
          283.333344,
          294.356659,
          286.630005,
          300.029999,
          309.320007,
          306.563324,
          303.996674,
          302.869995,
          296.666656,
          289.91333,
          296.453339,
          297.09668,
          296.070007,
          288.089996,
          284.820007,
          277.700012,
          275.609985,
          277.160004,
          270.209991,
          274.420013,
          283.700012,
          289.26001,
          299.679993,
          304.420013,
          292.130005,
          302.609985,
          303.75,
          303.350006,
          309.070007,
          308.730011,
          300.799988,
          288.589996,
          275.329987,
          276.01001,
          282.940002,
          287.809998,
          268.209991,
          265.25,
          242.399994,
          249.440002,
          240.809998,
          238.130005,
          223.070007,
          222.960007,
          216.5,
          217.240005,
          221.720001,
          204.990005,
          219.350006,
          220.190002,
          222.039993,
          207.279999,
          214.440002,
          211.25,
          222.419998,
          224.639999,
          225.089996,
          228.520004,
          227.539993,
          227.820007,
          214.979996,
          215.309998,
          207.470001,
          197.080002,
          191.300003,
          177.589996,
          190.720001,
          195.970001,
          190.949997,
          194.419998,
          186.919998,
          183.169998,
          180.190002,
          167.869995,
          169.910004,
          183.199997,
          182.860001,
          182.919998,
          180.830002,
          194.699997,
          194.699997,
          194.860001,
          182.449997,
          179.820007,
          174.039993,
          173.440002,
          179.050003,
          167.820007,
          160.949997,
          156.800003,
          157.669998,
          150.229996,
          149.869995,
          137.800003,
          137.570007,
          125.349998,
          123.150002
         ]
        },
        {
         "line": {
          "color": "rgba(55, 128, 191, 1.0)",
          "dash": "solid",
          "shape": "linear",
          "width": 1.3
         },
         "mode": "lines",
         "name": "SMA(14)",
         "text": "",
         "type": "scatter",
         "x": [
          "2022-01-03",
          "2022-01-04",
          "2022-01-05",
          "2022-01-06",
          "2022-01-07",
          "2022-01-10",
          "2022-01-11",
          "2022-01-12",
          "2022-01-13",
          "2022-01-14",
          "2022-01-18",
          "2022-01-19",
          "2022-01-20",
          "2022-01-21",
          "2022-01-24",
          "2022-01-25",
          "2022-01-26",
          "2022-01-27",
          "2022-01-28",
          "2022-01-31",
          "2022-02-01",
          "2022-02-02",
          "2022-02-03",
          "2022-02-04",
          "2022-02-07",
          "2022-02-08",
          "2022-02-09",
          "2022-02-10",
          "2022-02-11",
          "2022-02-14",
          "2022-02-15",
          "2022-02-16",
          "2022-02-17",
          "2022-02-18",
          "2022-02-22",
          "2022-02-23",
          "2022-02-24",
          "2022-02-25",
          "2022-02-28",
          "2022-03-01",
          "2022-03-02",
          "2022-03-03",
          "2022-03-04",
          "2022-03-07",
          "2022-03-08",
          "2022-03-09",
          "2022-03-10",
          "2022-03-11",
          "2022-03-14",
          "2022-03-15",
          "2022-03-16",
          "2022-03-17",
          "2022-03-18",
          "2022-03-21",
          "2022-03-22",
          "2022-03-23",
          "2022-03-24",
          "2022-03-25",
          "2022-03-28",
          "2022-03-29",
          "2022-03-30",
          "2022-03-31",
          "2022-04-01",
          "2022-04-04",
          "2022-04-05",
          "2022-04-06",
          "2022-04-07",
          "2022-04-08",
          "2022-04-11",
          "2022-04-12",
          "2022-04-13",
          "2022-04-14",
          "2022-04-18",
          "2022-04-19",
          "2022-04-20",
          "2022-04-21",
          "2022-04-22",
          "2022-04-25",
          "2022-04-26",
          "2022-04-27",
          "2022-04-28",
          "2022-04-29",
          "2022-05-02",
          "2022-05-03",
          "2022-05-04",
          "2022-05-05",
          "2022-05-06",
          "2022-05-09",
          "2022-05-10",
          "2022-05-11",
          "2022-05-12",
          "2022-05-13",
          "2022-05-16",
          "2022-05-17",
          "2022-05-18",
          "2022-05-19",
          "2022-05-20",
          "2022-05-23",
          "2022-05-24",
          "2022-05-25",
          "2022-05-26",
          "2022-05-27",
          "2022-05-31",
          "2022-06-01",
          "2022-06-02",
          "2022-06-03",
          "2022-06-06",
          "2022-06-07",
          "2022-06-08",
          "2022-06-09",
          "2022-06-10",
          "2022-06-13",
          "2022-06-14",
          "2022-06-15",
          "2022-06-16",
          "2022-06-17",
          "2022-06-21",
          "2022-06-22",
          "2022-06-23",
          "2022-06-24",
          "2022-06-27",
          "2022-06-28",
          "2022-06-29",
          "2022-06-30",
          "2022-07-01",
          "2022-07-05",
          "2022-07-06",
          "2022-07-07",
          "2022-07-08",
          "2022-07-11",
          "2022-07-12",
          "2022-07-13",
          "2022-07-14",
          "2022-07-15",
          "2022-07-18",
          "2022-07-19",
          "2022-07-20",
          "2022-07-21",
          "2022-07-22",
          "2022-07-25",
          "2022-07-26",
          "2022-07-27",
          "2022-07-28",
          "2022-07-29",
          "2022-08-01",
          "2022-08-02",
          "2022-08-03",
          "2022-08-04",
          "2022-08-05",
          "2022-08-08",
          "2022-08-09",
          "2022-08-10",
          "2022-08-11",
          "2022-08-12",
          "2022-08-15",
          "2022-08-16",
          "2022-08-17",
          "2022-08-18",
          "2022-08-19",
          "2022-08-22",
          "2022-08-23",
          "2022-08-24",
          "2022-08-25",
          "2022-08-26",
          "2022-08-29",
          "2022-08-30",
          "2022-08-31",
          "2022-09-01",
          "2022-09-02",
          "2022-09-06",
          "2022-09-07",
          "2022-09-08",
          "2022-09-09",
          "2022-09-12",
          "2022-09-13",
          "2022-09-14",
          "2022-09-15",
          "2022-09-16",
          "2022-09-19",
          "2022-09-20",
          "2022-09-21",
          "2022-09-22",
          "2022-09-23",
          "2022-09-26",
          "2022-09-27",
          "2022-09-28",
          "2022-09-29",
          "2022-09-30",
          "2022-10-03",
          "2022-10-04",
          "2022-10-05",
          "2022-10-06",
          "2022-10-07",
          "2022-10-10",
          "2022-10-11",
          "2022-10-12",
          "2022-10-13",
          "2022-10-14",
          "2022-10-17",
          "2022-10-18",
          "2022-10-19",
          "2022-10-20",
          "2022-10-21",
          "2022-10-24",
          "2022-10-25",
          "2022-10-26",
          "2022-10-27",
          "2022-10-28",
          "2022-10-31",
          "2022-11-01",
          "2022-11-02",
          "2022-11-03",
          "2022-11-04",
          "2022-11-07",
          "2022-11-08",
          "2022-11-09",
          "2022-11-10",
          "2022-11-11",
          "2022-11-14",
          "2022-11-15",
          "2022-11-16",
          "2022-11-17",
          "2022-11-18",
          "2022-11-21",
          "2022-11-22",
          "2022-11-23",
          "2022-11-25",
          "2022-11-28",
          "2022-11-29",
          "2022-11-30",
          "2022-12-01",
          "2022-12-02",
          "2022-12-05",
          "2022-12-06",
          "2022-12-07",
          "2022-12-08",
          "2022-12-09",
          "2022-12-12",
          "2022-12-13",
          "2022-12-14",
          "2022-12-15",
          "2022-12-16",
          "2022-12-19",
          "2022-12-20",
          "2022-12-21",
          "2022-12-22",
          "2022-12-23"
         ],
         "y": [
          "",
          "",
          "",
          "",
          "",
          "",
          "",
          "",
          "",
          "",
          "",
          "",
          "",
          352.5092815714285,
          346.0859482857142,
          340.5814251428571,
          336.99309200000005,
          331.3835687857143,
          327.08333035714287,
          324.1928535714286,
          321.02261557142856,
          316.24737757142856,
          312.9040438571429,
          309.89714035714286,
          306.964521,
          305.21095049999997,
          303.68071192857144,
          302.74380707142853,
          301.07713964285716,
          300.06190264285715,
          299.70523499999996,
          301.95023442857143,
          302.66452014285716,
          300.76594971428574,
          298.1535687857143,
          294.78166414285715,
          292.6299983571429,
          289.9288068571429,
          289.0499987142857,
          287.67785428571426,
          286.4371403571428,
          284.8833312857143,
          284.3664267857143,
          282.67166364285714,
          280.33761607142856,
          278.80380699999995,
          277.8978534285714,
          276.43047235714283,
          275.1171396428571,
          276.0183302142857,
          276.95785307142853,
          278.4276145,
          279.2599945,
          280.61213899999996,
          283.3285675,
          287.1338065,
          291.3154732857143,
          296.2216644285714,
          302.58928349999996,
          308.31785578571424,
          314.4057137142857,
          321.1259525,
          328.70261921428573,
          336.88262064285715,
          342.8595253571429,
          347.0061928571428,
          350.6221465714285,
          353.10619242857143,
          352.67643085714286,
          352.3869062142857,
          352.5880977142857,
          351.97762192857147,
          349.8930991428571,
          348.19262264285715,
          345.4119088571428,
          343.7733372857143,
          341.8795275714286,
          338.3692889285714,
          333.2540524285714,
          329.34333814285714,
          325.06357478571425,
          321.3795275714286,
          319.6416713571429,
          317.79167185714283,
          316.1309575714286,
          313.4709560714286,
          310.1700026428571,
          304.4309540714286,
          300.21285807142857,
          293.67047678571424,
          287.0740488571429,
          281.63523878571425,
          278.0149995,
          275.160237,
          271.16738035714286,
          267.32595192857144,
          261.6345227857143,
          256.05475964285716,
          248.32952135714282,
          243.22285585714286,
          239.46285699999999,
          238.80857214285714,
          237.8138102142857,
          237.965476,
          239.08452400000002,
          237.51214285714283,
          237.28523814285717,
          236.21500085714288,
          236.59095342857145,
          236.82190607142857,
          237.60261985714286,
          236.94333442857143,
          237.76500057142857,
          238.722143,
          237.09285742857145,
          234.48928514285714,
          233.36666664285713,
          232.60214357142857,
          230.94047664285716,
          231.7397625,
          232.21404814285714,
          231.76952364285714,
          230.81404764285713,
          229.72595214285715,
          229.37119071428575,
          230.609048,
          231.38357214285716,
          232.20809607142857,
          234.89833392857142,
          236.154287,
          235.8709541428572,
          235.93904864285716,
          236.1707152142857,
          235.76785814285716,
          235.45547692857141,
          236.37452471428574,
          237.73238149999997,
          241.10619128571426,
          244.3190492142857,
          246.8452387142857,
          248.78285642857142,
          250.94547585714287,
          253.0980942857143,
          257.58428399999997,
          262.17047435714284,
          266.7095227142857,
          271.6440461428571,
          276.54166507142855,
          279.9433330714286,
          283.15000028571427,
          285.7095248571428,
          287.3273815714286,
          288.35499999999996,
          290.6119057142857,
          294.21619300000003,
          296.4835727857143,
          298.13333564285716,
          298.54190714285716,
          298.4983345714286,
          297.7359531428571,
          296.95428685714285,
          296.1302403571429,
          296.6945256428571,
          296.5278582142857,
          296.6340484285714,
          295.44428792857144,
          294.65714364285714,
          293.0235725714286,
          290.22999999999996,
          287.93404921428566,
          286.4842876428571,
          285.51214585714285,
          285.72738421428573,
          286.7635758571429,
          286.4547662857143,
          286.84857378571434,
          287.39714471428573,
          288.4871454285714,
          290.2192882857143,
          292.4357167857143,
          294.2350027142857,
          295.0514307142857,
          295.4171447142857,
          295.5307159285714,
          295.4764295,
          295.3728572142857,
          293.1249999285714,
          290.32714185714286,
          286.77499821428574,
          282.97714228571425,
          278.4814278571429,
          273.8228563571429,
          267.6799992142857,
          261.55357035714286,
          255.53214264285717,
          250.4357147142857,
          246.60643,
          241.5335725,
          236.99142992857145,
          232.1614302142857,
          228.8635732142857,
          224.72285885714288,
          222.7257165714286,
          219.99785928571427,
          218.68428785714283,
          217.72071599999998,
          217.86500092857142,
          218.26214357142857,
          219.05071449999997,
          219.80642892857145,
          219.32500000000002,
          220.06214235714285,
          219.21357057142856,
          217.5628562857143,
          215.36714271428573,
          213.24642821428571,
          211.55214242857144,
          210.46071392857144,
          208.21285671428572,
          206.05428521428573,
          203.32785678571426,
          200.08857064285715,
          196.70642842857143,
          192.4242847142857,
          189.20499957142854,
          186.9114280714286,
          185.15357092857144,
          184.14214207142854,
          183.39428485714285,
          184.61642778571428,
          184.90071321428573,
          184.8214275,
          184.21428464285714,
          183.17142814285714,
          182.2514277857143,
          181.55642807142857,
          181.47499957142855,
          181.471429,
          180.8314285,
          178.94571464285715,
          177.14642871428572,
          174.8114285714286,
          172.5999995,
          168.5357142142857,
          164.45500064285716,
          159.49000042857142,
          155.2542865
         ]
        },
        {
         "line": {
          "color": "rgba(55, 128, 191, 0.8999999999999999)",
          "dash": "solid",
          "shape": "linear",
          "width": 1.3
         },
         "mode": "lines",
         "name": "UPPER(14)",
         "text": "",
         "type": "scatter",
         "x": [
          "2022-01-03",
          "2022-01-04",
          "2022-01-05",
          "2022-01-06",
          "2022-01-07",
          "2022-01-10",
          "2022-01-11",
          "2022-01-12",
          "2022-01-13",
          "2022-01-14",
          "2022-01-18",
          "2022-01-19",
          "2022-01-20",
          "2022-01-21",
          "2022-01-24",
          "2022-01-25",
          "2022-01-26",
          "2022-01-27",
          "2022-01-28",
          "2022-01-31",
          "2022-02-01",
          "2022-02-02",
          "2022-02-03",
          "2022-02-04",
          "2022-02-07",
          "2022-02-08",
          "2022-02-09",
          "2022-02-10",
          "2022-02-11",
          "2022-02-14",
          "2022-02-15",
          "2022-02-16",
          "2022-02-17",
          "2022-02-18",
          "2022-02-22",
          "2022-02-23",
          "2022-02-24",
          "2022-02-25",
          "2022-02-28",
          "2022-03-01",
          "2022-03-02",
          "2022-03-03",
          "2022-03-04",
          "2022-03-07",
          "2022-03-08",
          "2022-03-09",
          "2022-03-10",
          "2022-03-11",
          "2022-03-14",
          "2022-03-15",
          "2022-03-16",
          "2022-03-17",
          "2022-03-18",
          "2022-03-21",
          "2022-03-22",
          "2022-03-23",
          "2022-03-24",
          "2022-03-25",
          "2022-03-28",
          "2022-03-29",
          "2022-03-30",
          "2022-03-31",
          "2022-04-01",
          "2022-04-04",
          "2022-04-05",
          "2022-04-06",
          "2022-04-07",
          "2022-04-08",
          "2022-04-11",
          "2022-04-12",
          "2022-04-13",
          "2022-04-14",
          "2022-04-18",
          "2022-04-19",
          "2022-04-20",
          "2022-04-21",
          "2022-04-22",
          "2022-04-25",
          "2022-04-26",
          "2022-04-27",
          "2022-04-28",
          "2022-04-29",
          "2022-05-02",
          "2022-05-03",
          "2022-05-04",
          "2022-05-05",
          "2022-05-06",
          "2022-05-09",
          "2022-05-10",
          "2022-05-11",
          "2022-05-12",
          "2022-05-13",
          "2022-05-16",
          "2022-05-17",
          "2022-05-18",
          "2022-05-19",
          "2022-05-20",
          "2022-05-23",
          "2022-05-24",
          "2022-05-25",
          "2022-05-26",
          "2022-05-27",
          "2022-05-31",
          "2022-06-01",
          "2022-06-02",
          "2022-06-03",
          "2022-06-06",
          "2022-06-07",
          "2022-06-08",
          "2022-06-09",
          "2022-06-10",
          "2022-06-13",
          "2022-06-14",
          "2022-06-15",
          "2022-06-16",
          "2022-06-17",
          "2022-06-21",
          "2022-06-22",
          "2022-06-23",
          "2022-06-24",
          "2022-06-27",
          "2022-06-28",
          "2022-06-29",
          "2022-06-30",
          "2022-07-01",
          "2022-07-05",
          "2022-07-06",
          "2022-07-07",
          "2022-07-08",
          "2022-07-11",
          "2022-07-12",
          "2022-07-13",
          "2022-07-14",
          "2022-07-15",
          "2022-07-18",
          "2022-07-19",
          "2022-07-20",
          "2022-07-21",
          "2022-07-22",
          "2022-07-25",
          "2022-07-26",
          "2022-07-27",
          "2022-07-28",
          "2022-07-29",
          "2022-08-01",
          "2022-08-02",
          "2022-08-03",
          "2022-08-04",
          "2022-08-05",
          "2022-08-08",
          "2022-08-09",
          "2022-08-10",
          "2022-08-11",
          "2022-08-12",
          "2022-08-15",
          "2022-08-16",
          "2022-08-17",
          "2022-08-18",
          "2022-08-19",
          "2022-08-22",
          "2022-08-23",
          "2022-08-24",
          "2022-08-25",
          "2022-08-26",
          "2022-08-29",
          "2022-08-30",
          "2022-08-31",
          "2022-09-01",
          "2022-09-02",
          "2022-09-06",
          "2022-09-07",
          "2022-09-08",
          "2022-09-09",
          "2022-09-12",
          "2022-09-13",
          "2022-09-14",
          "2022-09-15",
          "2022-09-16",
          "2022-09-19",
          "2022-09-20",
          "2022-09-21",
          "2022-09-22",
          "2022-09-23",
          "2022-09-26",
          "2022-09-27",
          "2022-09-28",
          "2022-09-29",
          "2022-09-30",
          "2022-10-03",
          "2022-10-04",
          "2022-10-05",
          "2022-10-06",
          "2022-10-07",
          "2022-10-10",
          "2022-10-11",
          "2022-10-12",
          "2022-10-13",
          "2022-10-14",
          "2022-10-17",
          "2022-10-18",
          "2022-10-19",
          "2022-10-20",
          "2022-10-21",
          "2022-10-24",
          "2022-10-25",
          "2022-10-26",
          "2022-10-27",
          "2022-10-28",
          "2022-10-31",
          "2022-11-01",
          "2022-11-02",
          "2022-11-03",
          "2022-11-04",
          "2022-11-07",
          "2022-11-08",
          "2022-11-09",
          "2022-11-10",
          "2022-11-11",
          "2022-11-14",
          "2022-11-15",
          "2022-11-16",
          "2022-11-17",
          "2022-11-18",
          "2022-11-21",
          "2022-11-22",
          "2022-11-23",
          "2022-11-25",
          "2022-11-28",
          "2022-11-29",
          "2022-11-30",
          "2022-12-01",
          "2022-12-02",
          "2022-12-05",
          "2022-12-06",
          "2022-12-07",
          "2022-12-08",
          "2022-12-09",
          "2022-12-12",
          "2022-12-13",
          "2022-12-14",
          "2022-12-15",
          "2022-12-16",
          "2022-12-19",
          "2022-12-20",
          "2022-12-21",
          "2022-12-22",
          "2022-12-23"
         ],
         "y": [
          "",
          "",
          "",
          "",
          "",
          "",
          "",
          "",
          "",
          "",
          "",
          "",
          "",
          395.8765222533631,
          385.67356799330497,
          379.3634353878474,
          376.2500524911967,
          380.75804239811,
          382.4748282349097,
          378.0259578011301,
          372.2559920925225,
          360.2780934415698,
          354.96947356008053,
          346.2041143754533,
          337.79841148618544,
          332.5324405696328,
          326.55499192965715,
          324.7433902939068,
          324.21468108323137,
          323.48924983617786,
          322.46125605426187,
          320.6230513963841,
          318.639275594982,
          318.0986809479556,
          319.7265207168191,
          326.3038872802314,
          327.42834043341327,
          325.5253233548261,
          323.91523909557026,
          320.9176372040166,
          317.18377288009424,
          314.5260874744683,
          314.1273729026353,
          313.27016304050534,
          307.58733519714724,
          301.41879224555424,
          299.1931799428092,
          298.2465449068911,
          299.6488633658069,
          298.12284193418645,
          298.5083235184359,
          300.7153002759818,
          304.15090814923036,
          309.33831453924773,
          322.51112854389515,
          334.3488806900285,
          345.45377192743064,
          353.6809691365744,
          368.8991438339698,
          382.01952844279975,
          391.8165489653289,
          396.4105985916126,
          396.4955792516237,
          400.25032796713634,
          398.4549201853308,
          393.74374745825367,
          389.45770824013067,
          383.4596364809107,
          384.49332163384037,
          385.03652239226864,
          384.8879513202182,
          385.84157206421787,
          384.17354313070723,
          381.25985949973295,
          379.05514633473,
          376.7517720584839,
          373.48183939648584,
          360.29972213655725,
          362.02126177879387,
          363.5106835683639,
          361.7002469740002,
          361.00441746521795,
          360.6344974894355,
          359.3028745908575,
          355.48287302090097,
          354.27740148868725,
          351.03349229669857,
          348.0776894566242,
          346.3351796357551,
          343.59462189395487,
          337.86189352305996,
          327.45287478530884,
          328.07054667976087,
          325.8830841692889,
          324.7304989333666,
          322.6768239734198,
          318.445643123373,
          310.63015792550834,
          295.5344915907553,
          285.7345911211487,
          273.08774443392514,
          270.8316952735907,
          266.83156440993275,
          267.159183424809,
          270.1927857914828,
          267.0053506525557,
          266.6964855588508,
          264.07616498356657,
          264.6162513535576,
          264.8962764112585,
          264.3962835418544,
          265.47425523404826,
          263.39210030418525,
          262.3496646460141,
          264.4129884128703,
          262.1383418991807,
          259.02596549510974,
          257.15242821689094,
          250.66292230356524,
          252.93827843953798,
          254.3205745846222,
          253.5458810768979,
          251.84299093400557,
          250.34524287528066,
          249.97579439504236,
          249.71273794852942,
          249.65078814548772,
          251.78473128241296,
          253.49030578190974,
          251.57280168732888,
          251.3652184694629,
          251.44577115813888,
          251.718364950182,
          250.52322296369357,
          249.54640925779665,
          251.33268731268117,
          253.05430385921656,
          263.1695084613829,
          270.42799742470623,
          275.02591859888963,
          276.20779352075954,
          281.5239804540515,
          287.6112504075899,
          297.5008498065658,
          304.6273362080568,
          311.1348210815951,
          317.79573699905893,
          322.81075496975865,
          321.58381830823333,
          320.01510788102723,
          316.3652422741758,
          317.1798943298936,
          316.9340936160603,
          317.34480923074057,
          315.5742582595693,
          315.5930392283024,
          315.3406933481173,
          315.9194764079492,
          315.8926208658177,
          315.66339569442044,
          313.9998327647532,
          311.80386378118317,
          311.6876891068034,
          311.86915349805315,
          311.5978567040226,
          313.5144024490511,
          315.17545081093385,
          315.2681956254383,
          313.45998486184124,
          310.55591334967306,
          307.19234798844906,
          304.0731440443076,
          304.905222666068,
          308.3340425621116,
          307.5461303597685,
          308.9763002738475,
          310.8507208899782,
          313.4493234871488,
          317.3560383069278,
          320.2286279356876,
          320.5583236001832,
          319.75247228188675,
          318.64130645677517,
          318.3241174554346,
          318.39448762248134,
          318.4246492743051,
          320.1607679169871,
          320.27775558428374,
          326.12545768704456,
          325.84981189446796,
          325.0144930654373,
          322.6341700592818,
          318.96644515939164,
          312.2040587165975,
          306.12773541531385,
          301.06120715505676,
          297.23064462985724,
          293.6760342911706,
          284.46612419538747,
          270.18230704779336,
          260.96361251371326,
          251.03858744459677,
          247.45874066095143,
          240.01293215718502,
          234.86143480708975,
          230.0602866328921,
          230.51728780742425,
          231.9129882597701,
          233.51436224517292,
          234.9520498413065,
          234.63618063136704,
          233.24634824034777,
          234.0241647444662,
          236.48531308216025,
          238.67702475710783,
          243.9541639137597,
          244.51115285733366,
          244.45844241606295,
          242.95764732896936,
          240.15170879499615,
          236.96966389282193,
          231.968391587233,
          225.98113653271895,
          219.55387850011144,
          215.48800291544777,
          208.5804800212216,
          203.35355965620278,
          201.0122879350272,
          199.8199791076913,
          201.71415272596573,
          202.558772617892,
          202.2741612523781,
          201.33689074721593,
          199.36994872797794,
          198.9869813475706,
          198.9238693693489,
          198.88068629945147,
          198.88915443917602,
          200.58143518067803,
          202.41301066185585,
          203.0565152918428,
          204.14589238978695,
          204.5328425754334,
          202.75409917770025,
          198.85800713021968,
          195.0350413469543,
          193.07356735222703
         ]
        },
        {
         "line": {
          "color": "rgba(55, 128, 191, 0.7999999999999998)",
          "dash": "solid",
          "shape": "linear",
          "width": 1.3
         },
         "mode": "lines",
         "name": "LOWER(14)",
         "text": "",
         "type": "scatter",
         "x": [
          "2022-01-03",
          "2022-01-04",
          "2022-01-05",
          "2022-01-06",
          "2022-01-07",
          "2022-01-10",
          "2022-01-11",
          "2022-01-12",
          "2022-01-13",
          "2022-01-14",
          "2022-01-18",
          "2022-01-19",
          "2022-01-20",
          "2022-01-21",
          "2022-01-24",
          "2022-01-25",
          "2022-01-26",
          "2022-01-27",
          "2022-01-28",
          "2022-01-31",
          "2022-02-01",
          "2022-02-02",
          "2022-02-03",
          "2022-02-04",
          "2022-02-07",
          "2022-02-08",
          "2022-02-09",
          "2022-02-10",
          "2022-02-11",
          "2022-02-14",
          "2022-02-15",
          "2022-02-16",
          "2022-02-17",
          "2022-02-18",
          "2022-02-22",
          "2022-02-23",
          "2022-02-24",
          "2022-02-25",
          "2022-02-28",
          "2022-03-01",
          "2022-03-02",
          "2022-03-03",
          "2022-03-04",
          "2022-03-07",
          "2022-03-08",
          "2022-03-09",
          "2022-03-10",
          "2022-03-11",
          "2022-03-14",
          "2022-03-15",
          "2022-03-16",
          "2022-03-17",
          "2022-03-18",
          "2022-03-21",
          "2022-03-22",
          "2022-03-23",
          "2022-03-24",
          "2022-03-25",
          "2022-03-28",
          "2022-03-29",
          "2022-03-30",
          "2022-03-31",
          "2022-04-01",
          "2022-04-04",
          "2022-04-05",
          "2022-04-06",
          "2022-04-07",
          "2022-04-08",
          "2022-04-11",
          "2022-04-12",
          "2022-04-13",
          "2022-04-14",
          "2022-04-18",
          "2022-04-19",
          "2022-04-20",
          "2022-04-21",
          "2022-04-22",
          "2022-04-25",
          "2022-04-26",
          "2022-04-27",
          "2022-04-28",
          "2022-04-29",
          "2022-05-02",
          "2022-05-03",
          "2022-05-04",
          "2022-05-05",
          "2022-05-06",
          "2022-05-09",
          "2022-05-10",
          "2022-05-11",
          "2022-05-12",
          "2022-05-13",
          "2022-05-16",
          "2022-05-17",
          "2022-05-18",
          "2022-05-19",
          "2022-05-20",
          "2022-05-23",
          "2022-05-24",
          "2022-05-25",
          "2022-05-26",
          "2022-05-27",
          "2022-05-31",
          "2022-06-01",
          "2022-06-02",
          "2022-06-03",
          "2022-06-06",
          "2022-06-07",
          "2022-06-08",
          "2022-06-09",
          "2022-06-10",
          "2022-06-13",
          "2022-06-14",
          "2022-06-15",
          "2022-06-16",
          "2022-06-17",
          "2022-06-21",
          "2022-06-22",
          "2022-06-23",
          "2022-06-24",
          "2022-06-27",
          "2022-06-28",
          "2022-06-29",
          "2022-06-30",
          "2022-07-01",
          "2022-07-05",
          "2022-07-06",
          "2022-07-07",
          "2022-07-08",
          "2022-07-11",
          "2022-07-12",
          "2022-07-13",
          "2022-07-14",
          "2022-07-15",
          "2022-07-18",
          "2022-07-19",
          "2022-07-20",
          "2022-07-21",
          "2022-07-22",
          "2022-07-25",
          "2022-07-26",
          "2022-07-27",
          "2022-07-28",
          "2022-07-29",
          "2022-08-01",
          "2022-08-02",
          "2022-08-03",
          "2022-08-04",
          "2022-08-05",
          "2022-08-08",
          "2022-08-09",
          "2022-08-10",
          "2022-08-11",
          "2022-08-12",
          "2022-08-15",
          "2022-08-16",
          "2022-08-17",
          "2022-08-18",
          "2022-08-19",
          "2022-08-22",
          "2022-08-23",
          "2022-08-24",
          "2022-08-25",
          "2022-08-26",
          "2022-08-29",
          "2022-08-30",
          "2022-08-31",
          "2022-09-01",
          "2022-09-02",
          "2022-09-06",
          "2022-09-07",
          "2022-09-08",
          "2022-09-09",
          "2022-09-12",
          "2022-09-13",
          "2022-09-14",
          "2022-09-15",
          "2022-09-16",
          "2022-09-19",
          "2022-09-20",
          "2022-09-21",
          "2022-09-22",
          "2022-09-23",
          "2022-09-26",
          "2022-09-27",
          "2022-09-28",
          "2022-09-29",
          "2022-09-30",
          "2022-10-03",
          "2022-10-04",
          "2022-10-05",
          "2022-10-06",
          "2022-10-07",
          "2022-10-10",
          "2022-10-11",
          "2022-10-12",
          "2022-10-13",
          "2022-10-14",
          "2022-10-17",
          "2022-10-18",
          "2022-10-19",
          "2022-10-20",
          "2022-10-21",
          "2022-10-24",
          "2022-10-25",
          "2022-10-26",
          "2022-10-27",
          "2022-10-28",
          "2022-10-31",
          "2022-11-01",
          "2022-11-02",
          "2022-11-03",
          "2022-11-04",
          "2022-11-07",
          "2022-11-08",
          "2022-11-09",
          "2022-11-10",
          "2022-11-11",
          "2022-11-14",
          "2022-11-15",
          "2022-11-16",
          "2022-11-17",
          "2022-11-18",
          "2022-11-21",
          "2022-11-22",
          "2022-11-23",
          "2022-11-25",
          "2022-11-28",
          "2022-11-29",
          "2022-11-30",
          "2022-12-01",
          "2022-12-02",
          "2022-12-05",
          "2022-12-06",
          "2022-12-07",
          "2022-12-08",
          "2022-12-09",
          "2022-12-12",
          "2022-12-13",
          "2022-12-14",
          "2022-12-15",
          "2022-12-16",
          "2022-12-19",
          "2022-12-20",
          "2022-12-21",
          "2022-12-22",
          "2022-12-23"
         ],
         "y": [
          "",
          "",
          "",
          "",
          "",
          "",
          "",
          "",
          "",
          "",
          "",
          "",
          "",
          309.14204088949396,
          306.49832857812345,
          301.79941489786677,
          297.7361315088034,
          282.00909517331866,
          271.69183247937605,
          270.3597493417271,
          269.78923905033463,
          272.2166617012873,
          270.83861415420523,
          273.59016633883243,
          276.13063051381454,
          277.88946043036714,
          280.80643192748573,
          280.74422384895024,
          277.93959820248296,
          276.63455544953644,
          276.94921394573805,
          283.2774174607588,
          286.6897646907323,
          283.4332184806159,
          276.5806168546095,
          263.2594410054829,
          257.8316562808725,
          254.33229035945965,
          254.18475833300118,
          254.4380713674119,
          255.69050783419138,
          255.2405750969603,
          254.6054806687933,
          252.07316424520894,
          253.08789694570987,
          256.18882175444566,
          256.6025269143336,
          254.6143998073946,
          250.58541591990732,
          253.91381849438497,
          255.40738262442122,
          256.1399287240182,
          254.36908085076965,
          251.88596346075215,
          244.14600645610489,
          239.91873230997146,
          237.17717464399794,
          238.76235972056838,
          236.27942316603014,
          234.61618312862873,
          236.99487846324251,
          245.84130640838734,
          260.90965917694774,
          273.51491331857795,
          287.264130528955,
          300.268638256032,
          311.78658490272636,
          322.75274837623215,
          320.85954008044536,
          319.7372900363028,
          320.28824410835324,
          318.11367179292506,
          315.612655155007,
          315.12538578598134,
          311.7686713795556,
          310.79490251294476,
          310.2772157463713,
          316.43885572058554,
          304.48684307834895,
          295.17599271735037,
          288.4269025974283,
          281.7546376776392,
          278.64884522485033,
          276.28046912342813,
          276.77904212195625,
          272.66451065416993,
          269.3065129890157,
          260.7842186862329,
          254.09053650710206,
          243.74633167747365,
          236.28620419122578,
          235.8176027861197,
          227.9594523202391,
          224.43738983071108,
          217.60426178091913,
          211.97507988372308,
          204.82340244805562,
          201.47936136020598,
          201.12455112353035,
          200.71112059313703,
          205.83796956607483,
          206.78544901212362,
          208.79605601863867,
          208.77176857519098,
          207.97626220851726,
          208.01893506173,
          207.87399072686352,
          208.35383673071917,
          208.5656555035853,
          208.74753573159865,
          210.8089561724313,
          208.41241362309458,
          212.13790083867192,
          215.09462135398587,
          209.7727264442726,
          206.84022838653357,
          207.70736779060454,
          208.05185892596617,
          211.2180309821491,
          210.54124656046204,
          210.10752170109208,
          209.99316620881638,
          209.7851043517087,
          209.10666141043365,
          208.76658703352913,
          211.50535805147058,
          213.1163561402266,
          212.63146086044418,
          216.3063620752331,
          220.73577231267114,
          220.37668981625148,
          220.43232612757544,
          220.6230654783894,
          221.01249332202076,
          221.36454459934617,
          221.4163621158903,
          222.4104591407834,
          219.04287411004557,
          218.2101010038652,
          218.66455882968177,
          221.3579193363833,
          220.3669712602342,
          218.58493816383867,
          217.66771819343413,
          219.71361250622886,
          222.28422434697632,
          225.4923552866553,
          230.27257517309846,
          238.30284783462383,
          246.2848926904013,
          255.0538074401098,
          257.47486881296356,
          259.7759063839396,
          263.8790021978308,
          272.85812774043075,
          277.37410634312613,
          280.925977937597,
          281.1643378777651,
          281.10404827703945,
          279.8085105912938,
          279.9087409495325,
          280.4566169331026,
          281.7013621789108,
          281.1865629305182,
          281.67024015312023,
          277.3741734080918,
          274.1388364747804,
          270.7789495174189,
          267.0000151381587,
          265.31218507889827,
          265.77622729726517,
          266.9511476699781,
          266.54954576250344,
          265.19310915217415,
          265.3634022116601,
          264.72084729758114,
          263.94356853859324,
          263.52496736999404,
          263.0825382645008,
          264.642805635741,
          267.9116818283882,
          270.3503891466846,
          272.19298297179625,
          272.7373144017082,
          272.55837137751865,
          272.3210651542663,
          266.08923194015574,
          260.376528130002,
          247.42453874152696,
          240.1044726769605,
          231.94836264884842,
          225.01154265500395,
          216.3935532691798,
          210.90308199768825,
          204.93654987040048,
          199.81022227351463,
          195.98221537014274,
          189.3911107088294,
          189.5167356617554,
          194.14055338077804,
          196.76353391485816,
          198.407130269689,
          197.99269248190575,
          199.98278641424352,
          202.50714090719592,
          205.38114536710788,
          205.21271404971858,
          204.61129888308704,
          204.58706675482702,
          204.6608080158364,
          204.013819368633,
          206.87793647393792,
          204.40297639839093,
          198.64039948926836,
          192.05726067146364,
          182.53869251481174,
          178.59313199980923,
          176.46298544107992,
          173.46806609960208,
          171.9568616335753,
          169.6860496786066,
          168.2087496984813,
          167.4317203244239,
          165.29469092845997,
          162.92199622740932,
          165.24237612163557,
          166.9535822009401,
          167.2719962078299,
          166.9685906065944,
          167.51870284546283,
          167.24265381067946,
          167.3686937476219,
          167.09167853849834,
          166.97290755773633,
          165.515874223858,
          164.18898677350825,
          164.06931284340564,
          164.05370356082398,
          161.08142181932195,
          155.47841862385846,
          151.23634213672864,
          145.47696475307023,
          140.6671564245666,
          134.31732925087113,
          130.05199415549464,
          123.94495951018854,
          117.43500564777298
         ]
        }
       ],
       "layout": {
        "legend": {
         "bgcolor": "#F5F6F9",
         "font": {
          "color": "#4D5663"
         }
        },
        "paper_bgcolor": "#F5F6F9",
        "plot_bgcolor": "#F5F6F9",
        "template": {
         "data": {
          "bar": [
           {
            "error_x": {
             "color": "#2a3f5f"
            },
            "error_y": {
             "color": "#2a3f5f"
            },
            "marker": {
             "line": {
              "color": "#E5ECF6",
              "width": 0.5
             },
             "pattern": {
              "fillmode": "overlay",
              "size": 10,
              "solidity": 0.2
             }
            },
            "type": "bar"
           }
          ],
          "barpolar": [
           {
            "marker": {
             "line": {
              "color": "#E5ECF6",
              "width": 0.5
             },
             "pattern": {
              "fillmode": "overlay",
              "size": 10,
              "solidity": 0.2
             }
            },
            "type": "barpolar"
           }
          ],
          "carpet": [
           {
            "aaxis": {
             "endlinecolor": "#2a3f5f",
             "gridcolor": "white",
             "linecolor": "white",
             "minorgridcolor": "white",
             "startlinecolor": "#2a3f5f"
            },
            "baxis": {
             "endlinecolor": "#2a3f5f",
             "gridcolor": "white",
             "linecolor": "white",
             "minorgridcolor": "white",
             "startlinecolor": "#2a3f5f"
            },
            "type": "carpet"
           }
          ],
          "choropleth": [
           {
            "colorbar": {
             "outlinewidth": 0,
             "ticks": ""
            },
            "type": "choropleth"
           }
          ],
          "contour": [
           {
            "colorbar": {
             "outlinewidth": 0,
             "ticks": ""
            },
            "colorscale": [
             [
              0,
              "#0d0887"
             ],
             [
              0.1111111111111111,
              "#46039f"
             ],
             [
              0.2222222222222222,
              "#7201a8"
             ],
             [
              0.3333333333333333,
              "#9c179e"
             ],
             [
              0.4444444444444444,
              "#bd3786"
             ],
             [
              0.5555555555555556,
              "#d8576b"
             ],
             [
              0.6666666666666666,
              "#ed7953"
             ],
             [
              0.7777777777777778,
              "#fb9f3a"
             ],
             [
              0.8888888888888888,
              "#fdca26"
             ],
             [
              1,
              "#f0f921"
             ]
            ],
            "type": "contour"
           }
          ],
          "contourcarpet": [
           {
            "colorbar": {
             "outlinewidth": 0,
             "ticks": ""
            },
            "type": "contourcarpet"
           }
          ],
          "heatmap": [
           {
            "colorbar": {
             "outlinewidth": 0,
             "ticks": ""
            },
            "colorscale": [
             [
              0,
              "#0d0887"
             ],
             [
              0.1111111111111111,
              "#46039f"
             ],
             [
              0.2222222222222222,
              "#7201a8"
             ],
             [
              0.3333333333333333,
              "#9c179e"
             ],
             [
              0.4444444444444444,
              "#bd3786"
             ],
             [
              0.5555555555555556,
              "#d8576b"
             ],
             [
              0.6666666666666666,
              "#ed7953"
             ],
             [
              0.7777777777777778,
              "#fb9f3a"
             ],
             [
              0.8888888888888888,
              "#fdca26"
             ],
             [
              1,
              "#f0f921"
             ]
            ],
            "type": "heatmap"
           }
          ],
          "heatmapgl": [
           {
            "colorbar": {
             "outlinewidth": 0,
             "ticks": ""
            },
            "colorscale": [
             [
              0,
              "#0d0887"
             ],
             [
              0.1111111111111111,
              "#46039f"
             ],
             [
              0.2222222222222222,
              "#7201a8"
             ],
             [
              0.3333333333333333,
              "#9c179e"
             ],
             [
              0.4444444444444444,
              "#bd3786"
             ],
             [
              0.5555555555555556,
              "#d8576b"
             ],
             [
              0.6666666666666666,
              "#ed7953"
             ],
             [
              0.7777777777777778,
              "#fb9f3a"
             ],
             [
              0.8888888888888888,
              "#fdca26"
             ],
             [
              1,
              "#f0f921"
             ]
            ],
            "type": "heatmapgl"
           }
          ],
          "histogram": [
           {
            "marker": {
             "pattern": {
              "fillmode": "overlay",
              "size": 10,
              "solidity": 0.2
             }
            },
            "type": "histogram"
           }
          ],
          "histogram2d": [
           {
            "colorbar": {
             "outlinewidth": 0,
             "ticks": ""
            },
            "colorscale": [
             [
              0,
              "#0d0887"
             ],
             [
              0.1111111111111111,
              "#46039f"
             ],
             [
              0.2222222222222222,
              "#7201a8"
             ],
             [
              0.3333333333333333,
              "#9c179e"
             ],
             [
              0.4444444444444444,
              "#bd3786"
             ],
             [
              0.5555555555555556,
              "#d8576b"
             ],
             [
              0.6666666666666666,
              "#ed7953"
             ],
             [
              0.7777777777777778,
              "#fb9f3a"
             ],
             [
              0.8888888888888888,
              "#fdca26"
             ],
             [
              1,
              "#f0f921"
             ]
            ],
            "type": "histogram2d"
           }
          ],
          "histogram2dcontour": [
           {
            "colorbar": {
             "outlinewidth": 0,
             "ticks": ""
            },
            "colorscale": [
             [
              0,
              "#0d0887"
             ],
             [
              0.1111111111111111,
              "#46039f"
             ],
             [
              0.2222222222222222,
              "#7201a8"
             ],
             [
              0.3333333333333333,
              "#9c179e"
             ],
             [
              0.4444444444444444,
              "#bd3786"
             ],
             [
              0.5555555555555556,
              "#d8576b"
             ],
             [
              0.6666666666666666,
              "#ed7953"
             ],
             [
              0.7777777777777778,
              "#fb9f3a"
             ],
             [
              0.8888888888888888,
              "#fdca26"
             ],
             [
              1,
              "#f0f921"
             ]
            ],
            "type": "histogram2dcontour"
           }
          ],
          "mesh3d": [
           {
            "colorbar": {
             "outlinewidth": 0,
             "ticks": ""
            },
            "type": "mesh3d"
           }
          ],
          "parcoords": [
           {
            "line": {
             "colorbar": {
              "outlinewidth": 0,
              "ticks": ""
             }
            },
            "type": "parcoords"
           }
          ],
          "pie": [
           {
            "automargin": true,
            "type": "pie"
           }
          ],
          "scatter": [
           {
            "marker": {
             "colorbar": {
              "outlinewidth": 0,
              "ticks": ""
             }
            },
            "type": "scatter"
           }
          ],
          "scatter3d": [
           {
            "line": {
             "colorbar": {
              "outlinewidth": 0,
              "ticks": ""
             }
            },
            "marker": {
             "colorbar": {
              "outlinewidth": 0,
              "ticks": ""
             }
            },
            "type": "scatter3d"
           }
          ],
          "scattercarpet": [
           {
            "marker": {
             "colorbar": {
              "outlinewidth": 0,
              "ticks": ""
             }
            },
            "type": "scattercarpet"
           }
          ],
          "scattergeo": [
           {
            "marker": {
             "colorbar": {
              "outlinewidth": 0,
              "ticks": ""
             }
            },
            "type": "scattergeo"
           }
          ],
          "scattergl": [
           {
            "marker": {
             "colorbar": {
              "outlinewidth": 0,
              "ticks": ""
             }
            },
            "type": "scattergl"
           }
          ],
          "scattermapbox": [
           {
            "marker": {
             "colorbar": {
              "outlinewidth": 0,
              "ticks": ""
             }
            },
            "type": "scattermapbox"
           }
          ],
          "scatterpolar": [
           {
            "marker": {
             "colorbar": {
              "outlinewidth": 0,
              "ticks": ""
             }
            },
            "type": "scatterpolar"
           }
          ],
          "scatterpolargl": [
           {
            "marker": {
             "colorbar": {
              "outlinewidth": 0,
              "ticks": ""
             }
            },
            "type": "scatterpolargl"
           }
          ],
          "scatterternary": [
           {
            "marker": {
             "colorbar": {
              "outlinewidth": 0,
              "ticks": ""
             }
            },
            "type": "scatterternary"
           }
          ],
          "surface": [
           {
            "colorbar": {
             "outlinewidth": 0,
             "ticks": ""
            },
            "colorscale": [
             [
              0,
              "#0d0887"
             ],
             [
              0.1111111111111111,
              "#46039f"
             ],
             [
              0.2222222222222222,
              "#7201a8"
             ],
             [
              0.3333333333333333,
              "#9c179e"
             ],
             [
              0.4444444444444444,
              "#bd3786"
             ],
             [
              0.5555555555555556,
              "#d8576b"
             ],
             [
              0.6666666666666666,
              "#ed7953"
             ],
             [
              0.7777777777777778,
              "#fb9f3a"
             ],
             [
              0.8888888888888888,
              "#fdca26"
             ],
             [
              1,
              "#f0f921"
             ]
            ],
            "type": "surface"
           }
          ],
          "table": [
           {
            "cells": {
             "fill": {
              "color": "#EBF0F8"
             },
             "line": {
              "color": "white"
             }
            },
            "header": {
             "fill": {
              "color": "#C8D4E3"
             },
             "line": {
              "color": "white"
             }
            },
            "type": "table"
           }
          ]
         },
         "layout": {
          "annotationdefaults": {
           "arrowcolor": "#2a3f5f",
           "arrowhead": 0,
           "arrowwidth": 1
          },
          "autotypenumbers": "strict",
          "coloraxis": {
           "colorbar": {
            "outlinewidth": 0,
            "ticks": ""
           }
          },
          "colorscale": {
           "diverging": [
            [
             0,
             "#8e0152"
            ],
            [
             0.1,
             "#c51b7d"
            ],
            [
             0.2,
             "#de77ae"
            ],
            [
             0.3,
             "#f1b6da"
            ],
            [
             0.4,
             "#fde0ef"
            ],
            [
             0.5,
             "#f7f7f7"
            ],
            [
             0.6,
             "#e6f5d0"
            ],
            [
             0.7,
             "#b8e186"
            ],
            [
             0.8,
             "#7fbc41"
            ],
            [
             0.9,
             "#4d9221"
            ],
            [
             1,
             "#276419"
            ]
           ],
           "sequential": [
            [
             0,
             "#0d0887"
            ],
            [
             0.1111111111111111,
             "#46039f"
            ],
            [
             0.2222222222222222,
             "#7201a8"
            ],
            [
             0.3333333333333333,
             "#9c179e"
            ],
            [
             0.4444444444444444,
             "#bd3786"
            ],
            [
             0.5555555555555556,
             "#d8576b"
            ],
            [
             0.6666666666666666,
             "#ed7953"
            ],
            [
             0.7777777777777778,
             "#fb9f3a"
            ],
            [
             0.8888888888888888,
             "#fdca26"
            ],
            [
             1,
             "#f0f921"
            ]
           ],
           "sequentialminus": [
            [
             0,
             "#0d0887"
            ],
            [
             0.1111111111111111,
             "#46039f"
            ],
            [
             0.2222222222222222,
             "#7201a8"
            ],
            [
             0.3333333333333333,
             "#9c179e"
            ],
            [
             0.4444444444444444,
             "#bd3786"
            ],
            [
             0.5555555555555556,
             "#d8576b"
            ],
            [
             0.6666666666666666,
             "#ed7953"
            ],
            [
             0.7777777777777778,
             "#fb9f3a"
            ],
            [
             0.8888888888888888,
             "#fdca26"
            ],
            [
             1,
             "#f0f921"
            ]
           ]
          },
          "colorway": [
           "#636efa",
           "#EF553B",
           "#00cc96",
           "#ab63fa",
           "#FFA15A",
           "#19d3f3",
           "#FF6692",
           "#B6E880",
           "#FF97FF",
           "#FECB52"
          ],
          "font": {
           "color": "#2a3f5f"
          },
          "geo": {
           "bgcolor": "white",
           "lakecolor": "white",
           "landcolor": "#E5ECF6",
           "showlakes": true,
           "showland": true,
           "subunitcolor": "white"
          },
          "hoverlabel": {
           "align": "left"
          },
          "hovermode": "closest",
          "mapbox": {
           "style": "light"
          },
          "paper_bgcolor": "white",
          "plot_bgcolor": "#E5ECF6",
          "polar": {
           "angularaxis": {
            "gridcolor": "white",
            "linecolor": "white",
            "ticks": ""
           },
           "bgcolor": "#E5ECF6",
           "radialaxis": {
            "gridcolor": "white",
            "linecolor": "white",
            "ticks": ""
           }
          },
          "scene": {
           "xaxis": {
            "backgroundcolor": "#E5ECF6",
            "gridcolor": "white",
            "gridwidth": 2,
            "linecolor": "white",
            "showbackground": true,
            "ticks": "",
            "zerolinecolor": "white"
           },
           "yaxis": {
            "backgroundcolor": "#E5ECF6",
            "gridcolor": "white",
            "gridwidth": 2,
            "linecolor": "white",
            "showbackground": true,
            "ticks": "",
            "zerolinecolor": "white"
           },
           "zaxis": {
            "backgroundcolor": "#E5ECF6",
            "gridcolor": "white",
            "gridwidth": 2,
            "linecolor": "white",
            "showbackground": true,
            "ticks": "",
            "zerolinecolor": "white"
           }
          },
          "shapedefaults": {
           "line": {
            "color": "#2a3f5f"
           }
          },
          "ternary": {
           "aaxis": {
            "gridcolor": "white",
            "linecolor": "white",
            "ticks": ""
           },
           "baxis": {
            "gridcolor": "white",
            "linecolor": "white",
            "ticks": ""
           },
           "bgcolor": "#E5ECF6",
           "caxis": {
            "gridcolor": "white",
            "linecolor": "white",
            "ticks": ""
           }
          },
          "title": {
           "x": 0.05
          },
          "xaxis": {
           "automargin": true,
           "gridcolor": "white",
           "linecolor": "white",
           "ticks": "",
           "title": {
            "standoff": 15
           },
           "zerolinecolor": "white",
           "zerolinewidth": 2
          },
          "yaxis": {
           "automargin": true,
           "gridcolor": "white",
           "linecolor": "white",
           "ticks": "",
           "title": {
            "standoff": 15
           },
           "zerolinecolor": "white",
           "zerolinewidth": 2
          }
         }
        },
        "title": {
         "font": {
          "color": "#4D5663"
         }
        },
        "xaxis": {
         "gridcolor": "#E1E5ED",
         "showgrid": true,
         "tickfont": {
          "color": "#4D5663"
         },
         "title": {
          "font": {
           "color": "#4D5663"
          },
          "text": ""
         },
         "zerolinecolor": "#E1E5ED"
        },
        "yaxis": {
         "gridcolor": "#E1E5ED",
         "showgrid": true,
         "tickfont": {
          "color": "#4D5663"
         },
         "title": {
          "font": {
           "color": "#4D5663"
          },
          "text": ""
         },
         "zerolinecolor": "#E1E5ED"
        }
       }
      },
      "text/html": [
       "<div>                            <div id=\"83a257d3-ec2c-43f5-bd61-bcda46c973fc\" class=\"plotly-graph-div\" style=\"height:525px; width:100%;\"></div>            <script type=\"text/javascript\">                require([\"plotly\"], function(Plotly) {                    window.PLOTLYENV=window.PLOTLYENV || {};\n",
       "                    window.PLOTLYENV.BASE_URL='https://plot.ly';                                    if (document.getElementById(\"83a257d3-ec2c-43f5-bd61-bcda46c973fc\")) {                    Plotly.newPlot(                        \"83a257d3-ec2c-43f5-bd61-bcda46c973fc\",                        [{\"line\":{\"color\":\"rgba(255, 153, 51, 1.0)\",\"dash\":\"solid\",\"shape\":\"linear\",\"width\":1.3},\"mode\":\"lines\",\"name\":\"Close\",\"text\":\"\",\"x\":[\"2022-01-03\",\"2022-01-04\",\"2022-01-05\",\"2022-01-06\",\"2022-01-07\",\"2022-01-10\",\"2022-01-11\",\"2022-01-12\",\"2022-01-13\",\"2022-01-14\",\"2022-01-18\",\"2022-01-19\",\"2022-01-20\",\"2022-01-21\",\"2022-01-24\",\"2022-01-25\",\"2022-01-26\",\"2022-01-27\",\"2022-01-28\",\"2022-01-31\",\"2022-02-01\",\"2022-02-02\",\"2022-02-03\",\"2022-02-04\",\"2022-02-07\",\"2022-02-08\",\"2022-02-09\",\"2022-02-10\",\"2022-02-11\",\"2022-02-14\",\"2022-02-15\",\"2022-02-16\",\"2022-02-17\",\"2022-02-18\",\"2022-02-22\",\"2022-02-23\",\"2022-02-24\",\"2022-02-25\",\"2022-02-28\",\"2022-03-01\",\"2022-03-02\",\"2022-03-03\",\"2022-03-04\",\"2022-03-07\",\"2022-03-08\",\"2022-03-09\",\"2022-03-10\",\"2022-03-11\",\"2022-03-14\",\"2022-03-15\",\"2022-03-16\",\"2022-03-17\",\"2022-03-18\",\"2022-03-21\",\"2022-03-22\",\"2022-03-23\",\"2022-03-24\",\"2022-03-25\",\"2022-03-28\",\"2022-03-29\",\"2022-03-30\",\"2022-03-31\",\"2022-04-01\",\"2022-04-04\",\"2022-04-05\",\"2022-04-06\",\"2022-04-07\",\"2022-04-08\",\"2022-04-11\",\"2022-04-12\",\"2022-04-13\",\"2022-04-14\",\"2022-04-18\",\"2022-04-19\",\"2022-04-20\",\"2022-04-21\",\"2022-04-22\",\"2022-04-25\",\"2022-04-26\",\"2022-04-27\",\"2022-04-28\",\"2022-04-29\",\"2022-05-02\",\"2022-05-03\",\"2022-05-04\",\"2022-05-05\",\"2022-05-06\",\"2022-05-09\",\"2022-05-10\",\"2022-05-11\",\"2022-05-12\",\"2022-05-13\",\"2022-05-16\",\"2022-05-17\",\"2022-05-18\",\"2022-05-19\",\"2022-05-20\",\"2022-05-23\",\"2022-05-24\",\"2022-05-25\",\"2022-05-26\",\"2022-05-27\",\"2022-05-31\",\"2022-06-01\",\"2022-06-02\",\"2022-06-03\",\"2022-06-06\",\"2022-06-07\",\"2022-06-08\",\"2022-06-09\",\"2022-06-10\",\"2022-06-13\",\"2022-06-14\",\"2022-06-15\",\"2022-06-16\",\"2022-06-17\",\"2022-06-21\",\"2022-06-22\",\"2022-06-23\",\"2022-06-24\",\"2022-06-27\",\"2022-06-28\",\"2022-06-29\",\"2022-06-30\",\"2022-07-01\",\"2022-07-05\",\"2022-07-06\",\"2022-07-07\",\"2022-07-08\",\"2022-07-11\",\"2022-07-12\",\"2022-07-13\",\"2022-07-14\",\"2022-07-15\",\"2022-07-18\",\"2022-07-19\",\"2022-07-20\",\"2022-07-21\",\"2022-07-22\",\"2022-07-25\",\"2022-07-26\",\"2022-07-27\",\"2022-07-28\",\"2022-07-29\",\"2022-08-01\",\"2022-08-02\",\"2022-08-03\",\"2022-08-04\",\"2022-08-05\",\"2022-08-08\",\"2022-08-09\",\"2022-08-10\",\"2022-08-11\",\"2022-08-12\",\"2022-08-15\",\"2022-08-16\",\"2022-08-17\",\"2022-08-18\",\"2022-08-19\",\"2022-08-22\",\"2022-08-23\",\"2022-08-24\",\"2022-08-25\",\"2022-08-26\",\"2022-08-29\",\"2022-08-30\",\"2022-08-31\",\"2022-09-01\",\"2022-09-02\",\"2022-09-06\",\"2022-09-07\",\"2022-09-08\",\"2022-09-09\",\"2022-09-12\",\"2022-09-13\",\"2022-09-14\",\"2022-09-15\",\"2022-09-16\",\"2022-09-19\",\"2022-09-20\",\"2022-09-21\",\"2022-09-22\",\"2022-09-23\",\"2022-09-26\",\"2022-09-27\",\"2022-09-28\",\"2022-09-29\",\"2022-09-30\",\"2022-10-03\",\"2022-10-04\",\"2022-10-05\",\"2022-10-06\",\"2022-10-07\",\"2022-10-10\",\"2022-10-11\",\"2022-10-12\",\"2022-10-13\",\"2022-10-14\",\"2022-10-17\",\"2022-10-18\",\"2022-10-19\",\"2022-10-20\",\"2022-10-21\",\"2022-10-24\",\"2022-10-25\",\"2022-10-26\",\"2022-10-27\",\"2022-10-28\",\"2022-10-31\",\"2022-11-01\",\"2022-11-02\",\"2022-11-03\",\"2022-11-04\",\"2022-11-07\",\"2022-11-08\",\"2022-11-09\",\"2022-11-10\",\"2022-11-11\",\"2022-11-14\",\"2022-11-15\",\"2022-11-16\",\"2022-11-17\",\"2022-11-18\",\"2022-11-21\",\"2022-11-22\",\"2022-11-23\",\"2022-11-25\",\"2022-11-28\",\"2022-11-29\",\"2022-11-30\",\"2022-12-01\",\"2022-12-02\",\"2022-12-05\",\"2022-12-06\",\"2022-12-07\",\"2022-12-08\",\"2022-12-09\",\"2022-12-12\",\"2022-12-13\",\"2022-12-14\",\"2022-12-15\",\"2022-12-16\",\"2022-12-19\",\"2022-12-20\",\"2022-12-21\",\"2022-12-22\",\"2022-12-23\"],\"y\":[399.926666,383.196655,362.706665,354.899994,342.320007,352.706665,354.799988,368.73999,343.853333,349.869995,343.503326,331.883331,332.089996,314.633331,310.0,306.133331,312.470001,276.366669,282.116669,312.23999,310.416656,301.886658,297.046661,307.773346,302.446655,307.333344,310.666656,301.516663,286.666656,291.920013,307.476654,307.796661,292.116669,285.660004,273.843323,254.679993,266.92334,269.956665,290.143341,288.123322,293.296661,279.763336,279.429993,268.193329,274.799988,286.323334,279.433319,265.116669,255.456665,267.296661,280.07666,290.533325,301.796661,307.053345,331.32666,333.036682,337.973328,336.880005,363.946655,366.523346,364.66333,359.200012,361.529999,381.816681,363.753326,348.58667,352.420013,341.829987,325.309998,328.983337,340.790009,328.333344,334.763336,342.716675,325.733337,336.26001,335.016663,332.67334,292.140015,293.83667,292.503326,290.253326,300.980011,303.083344,317.540009,291.093323,288.549988,262.369995,266.679993,244.666672,242.666672,256.529999,241.456665,253.869995,236.603333,236.473328,221.300003,224.96666,209.386673,219.600006,235.910004,253.210007,252.753326,246.789993,258.333344,234.516663,238.279999,238.886673,241.866669,239.706665,232.229996,215.736664,220.889999,233.0,213.100006,216.759995,237.036667,236.08667,235.070007,245.706665,244.919998,232.66333,228.490005,224.473328,227.263336,233.066666,231.733337,244.543335,250.763336,234.343338,233.070007,237.039993,238.313339,240.066666,240.546661,245.529999,247.5,271.706665,272.243347,268.433319,258.859985,274.820007,280.899994,297.149994,297.276672,300.58667,307.396667,308.633331,288.170013,290.42334,283.333344,294.356659,286.630005,300.029999,309.320007,306.563324,303.996674,302.869995,296.666656,289.91333,296.453339,297.09668,296.070007,288.089996,284.820007,277.700012,275.609985,277.160004,270.209991,274.420013,283.700012,289.26001,299.679993,304.420013,292.130005,302.609985,303.75,303.350006,309.070007,308.730011,300.799988,288.589996,275.329987,276.01001,282.940002,287.809998,268.209991,265.25,242.399994,249.440002,240.809998,238.130005,223.070007,222.960007,216.5,217.240005,221.720001,204.990005,219.350006,220.190002,222.039993,207.279999,214.440002,211.25,222.419998,224.639999,225.089996,228.520004,227.539993,227.820007,214.979996,215.309998,207.470001,197.080002,191.300003,177.589996,190.720001,195.970001,190.949997,194.419998,186.919998,183.169998,180.190002,167.869995,169.910004,183.199997,182.860001,182.919998,180.830002,194.699997,194.699997,194.860001,182.449997,179.820007,174.039993,173.440002,179.050003,167.820007,160.949997,156.800003,157.669998,150.229996,149.869995,137.800003,137.570007,125.349998,123.150002],\"type\":\"scatter\"},{\"line\":{\"color\":\"rgba(55, 128, 191, 1.0)\",\"dash\":\"solid\",\"shape\":\"linear\",\"width\":1.3},\"mode\":\"lines\",\"name\":\"SMA(14)\",\"text\":\"\",\"x\":[\"2022-01-03\",\"2022-01-04\",\"2022-01-05\",\"2022-01-06\",\"2022-01-07\",\"2022-01-10\",\"2022-01-11\",\"2022-01-12\",\"2022-01-13\",\"2022-01-14\",\"2022-01-18\",\"2022-01-19\",\"2022-01-20\",\"2022-01-21\",\"2022-01-24\",\"2022-01-25\",\"2022-01-26\",\"2022-01-27\",\"2022-01-28\",\"2022-01-31\",\"2022-02-01\",\"2022-02-02\",\"2022-02-03\",\"2022-02-04\",\"2022-02-07\",\"2022-02-08\",\"2022-02-09\",\"2022-02-10\",\"2022-02-11\",\"2022-02-14\",\"2022-02-15\",\"2022-02-16\",\"2022-02-17\",\"2022-02-18\",\"2022-02-22\",\"2022-02-23\",\"2022-02-24\",\"2022-02-25\",\"2022-02-28\",\"2022-03-01\",\"2022-03-02\",\"2022-03-03\",\"2022-03-04\",\"2022-03-07\",\"2022-03-08\",\"2022-03-09\",\"2022-03-10\",\"2022-03-11\",\"2022-03-14\",\"2022-03-15\",\"2022-03-16\",\"2022-03-17\",\"2022-03-18\",\"2022-03-21\",\"2022-03-22\",\"2022-03-23\",\"2022-03-24\",\"2022-03-25\",\"2022-03-28\",\"2022-03-29\",\"2022-03-30\",\"2022-03-31\",\"2022-04-01\",\"2022-04-04\",\"2022-04-05\",\"2022-04-06\",\"2022-04-07\",\"2022-04-08\",\"2022-04-11\",\"2022-04-12\",\"2022-04-13\",\"2022-04-14\",\"2022-04-18\",\"2022-04-19\",\"2022-04-20\",\"2022-04-21\",\"2022-04-22\",\"2022-04-25\",\"2022-04-26\",\"2022-04-27\",\"2022-04-28\",\"2022-04-29\",\"2022-05-02\",\"2022-05-03\",\"2022-05-04\",\"2022-05-05\",\"2022-05-06\",\"2022-05-09\",\"2022-05-10\",\"2022-05-11\",\"2022-05-12\",\"2022-05-13\",\"2022-05-16\",\"2022-05-17\",\"2022-05-18\",\"2022-05-19\",\"2022-05-20\",\"2022-05-23\",\"2022-05-24\",\"2022-05-25\",\"2022-05-26\",\"2022-05-27\",\"2022-05-31\",\"2022-06-01\",\"2022-06-02\",\"2022-06-03\",\"2022-06-06\",\"2022-06-07\",\"2022-06-08\",\"2022-06-09\",\"2022-06-10\",\"2022-06-13\",\"2022-06-14\",\"2022-06-15\",\"2022-06-16\",\"2022-06-17\",\"2022-06-21\",\"2022-06-22\",\"2022-06-23\",\"2022-06-24\",\"2022-06-27\",\"2022-06-28\",\"2022-06-29\",\"2022-06-30\",\"2022-07-01\",\"2022-07-05\",\"2022-07-06\",\"2022-07-07\",\"2022-07-08\",\"2022-07-11\",\"2022-07-12\",\"2022-07-13\",\"2022-07-14\",\"2022-07-15\",\"2022-07-18\",\"2022-07-19\",\"2022-07-20\",\"2022-07-21\",\"2022-07-22\",\"2022-07-25\",\"2022-07-26\",\"2022-07-27\",\"2022-07-28\",\"2022-07-29\",\"2022-08-01\",\"2022-08-02\",\"2022-08-03\",\"2022-08-04\",\"2022-08-05\",\"2022-08-08\",\"2022-08-09\",\"2022-08-10\",\"2022-08-11\",\"2022-08-12\",\"2022-08-15\",\"2022-08-16\",\"2022-08-17\",\"2022-08-18\",\"2022-08-19\",\"2022-08-22\",\"2022-08-23\",\"2022-08-24\",\"2022-08-25\",\"2022-08-26\",\"2022-08-29\",\"2022-08-30\",\"2022-08-31\",\"2022-09-01\",\"2022-09-02\",\"2022-09-06\",\"2022-09-07\",\"2022-09-08\",\"2022-09-09\",\"2022-09-12\",\"2022-09-13\",\"2022-09-14\",\"2022-09-15\",\"2022-09-16\",\"2022-09-19\",\"2022-09-20\",\"2022-09-21\",\"2022-09-22\",\"2022-09-23\",\"2022-09-26\",\"2022-09-27\",\"2022-09-28\",\"2022-09-29\",\"2022-09-30\",\"2022-10-03\",\"2022-10-04\",\"2022-10-05\",\"2022-10-06\",\"2022-10-07\",\"2022-10-10\",\"2022-10-11\",\"2022-10-12\",\"2022-10-13\",\"2022-10-14\",\"2022-10-17\",\"2022-10-18\",\"2022-10-19\",\"2022-10-20\",\"2022-10-21\",\"2022-10-24\",\"2022-10-25\",\"2022-10-26\",\"2022-10-27\",\"2022-10-28\",\"2022-10-31\",\"2022-11-01\",\"2022-11-02\",\"2022-11-03\",\"2022-11-04\",\"2022-11-07\",\"2022-11-08\",\"2022-11-09\",\"2022-11-10\",\"2022-11-11\",\"2022-11-14\",\"2022-11-15\",\"2022-11-16\",\"2022-11-17\",\"2022-11-18\",\"2022-11-21\",\"2022-11-22\",\"2022-11-23\",\"2022-11-25\",\"2022-11-28\",\"2022-11-29\",\"2022-11-30\",\"2022-12-01\",\"2022-12-02\",\"2022-12-05\",\"2022-12-06\",\"2022-12-07\",\"2022-12-08\",\"2022-12-09\",\"2022-12-12\",\"2022-12-13\",\"2022-12-14\",\"2022-12-15\",\"2022-12-16\",\"2022-12-19\",\"2022-12-20\",\"2022-12-21\",\"2022-12-22\",\"2022-12-23\"],\"y\":[\"\",\"\",\"\",\"\",\"\",\"\",\"\",\"\",\"\",\"\",\"\",\"\",\"\",352.5092815714285,346.0859482857142,340.5814251428571,336.99309200000005,331.3835687857143,327.08333035714287,324.1928535714286,321.02261557142856,316.24737757142856,312.9040438571429,309.89714035714286,306.964521,305.21095049999997,303.68071192857144,302.74380707142853,301.07713964285716,300.06190264285715,299.70523499999996,301.95023442857143,302.66452014285716,300.76594971428574,298.1535687857143,294.78166414285715,292.6299983571429,289.9288068571429,289.0499987142857,287.67785428571426,286.4371403571428,284.8833312857143,284.3664267857143,282.67166364285714,280.33761607142856,278.80380699999995,277.8978534285714,276.43047235714283,275.1171396428571,276.0183302142857,276.95785307142853,278.4276145,279.2599945,280.61213899999996,283.3285675,287.1338065,291.3154732857143,296.2216644285714,302.58928349999996,308.31785578571424,314.4057137142857,321.1259525,328.70261921428573,336.88262064285715,342.8595253571429,347.0061928571428,350.6221465714285,353.10619242857143,352.67643085714286,352.3869062142857,352.5880977142857,351.97762192857147,349.8930991428571,348.19262264285715,345.4119088571428,343.7733372857143,341.8795275714286,338.3692889285714,333.2540524285714,329.34333814285714,325.06357478571425,321.3795275714286,319.6416713571429,317.79167185714283,316.1309575714286,313.4709560714286,310.1700026428571,304.4309540714286,300.21285807142857,293.67047678571424,287.0740488571429,281.63523878571425,278.0149995,275.160237,271.16738035714286,267.32595192857144,261.6345227857143,256.05475964285716,248.32952135714282,243.22285585714286,239.46285699999999,238.80857214285714,237.8138102142857,237.965476,239.08452400000002,237.51214285714283,237.28523814285717,236.21500085714288,236.59095342857145,236.82190607142857,237.60261985714286,236.94333442857143,237.76500057142857,238.722143,237.09285742857145,234.48928514285714,233.36666664285713,232.60214357142857,230.94047664285716,231.7397625,232.21404814285714,231.76952364285714,230.81404764285713,229.72595214285715,229.37119071428575,230.609048,231.38357214285716,232.20809607142857,234.89833392857142,236.154287,235.8709541428572,235.93904864285716,236.1707152142857,235.76785814285716,235.45547692857141,236.37452471428574,237.73238149999997,241.10619128571426,244.3190492142857,246.8452387142857,248.78285642857142,250.94547585714287,253.0980942857143,257.58428399999997,262.17047435714284,266.7095227142857,271.6440461428571,276.54166507142855,279.9433330714286,283.15000028571427,285.7095248571428,287.3273815714286,288.35499999999996,290.6119057142857,294.21619300000003,296.4835727857143,298.13333564285716,298.54190714285716,298.4983345714286,297.7359531428571,296.95428685714285,296.1302403571429,296.6945256428571,296.5278582142857,296.6340484285714,295.44428792857144,294.65714364285714,293.0235725714286,290.22999999999996,287.93404921428566,286.4842876428571,285.51214585714285,285.72738421428573,286.7635758571429,286.4547662857143,286.84857378571434,287.39714471428573,288.4871454285714,290.2192882857143,292.4357167857143,294.2350027142857,295.0514307142857,295.4171447142857,295.5307159285714,295.4764295,295.3728572142857,293.1249999285714,290.32714185714286,286.77499821428574,282.97714228571425,278.4814278571429,273.8228563571429,267.6799992142857,261.55357035714286,255.53214264285717,250.4357147142857,246.60643,241.5335725,236.99142992857145,232.1614302142857,228.8635732142857,224.72285885714288,222.7257165714286,219.99785928571427,218.68428785714283,217.72071599999998,217.86500092857142,218.26214357142857,219.05071449999997,219.80642892857145,219.32500000000002,220.06214235714285,219.21357057142856,217.5628562857143,215.36714271428573,213.24642821428571,211.55214242857144,210.46071392857144,208.21285671428572,206.05428521428573,203.32785678571426,200.08857064285715,196.70642842857143,192.4242847142857,189.20499957142854,186.9114280714286,185.15357092857144,184.14214207142854,183.39428485714285,184.61642778571428,184.90071321428573,184.8214275,184.21428464285714,183.17142814285714,182.2514277857143,181.55642807142857,181.47499957142855,181.471429,180.8314285,178.94571464285715,177.14642871428572,174.8114285714286,172.5999995,168.5357142142857,164.45500064285716,159.49000042857142,155.2542865],\"type\":\"scatter\"},{\"line\":{\"color\":\"rgba(55, 128, 191, 0.8999999999999999)\",\"dash\":\"solid\",\"shape\":\"linear\",\"width\":1.3},\"mode\":\"lines\",\"name\":\"UPPER(14)\",\"text\":\"\",\"x\":[\"2022-01-03\",\"2022-01-04\",\"2022-01-05\",\"2022-01-06\",\"2022-01-07\",\"2022-01-10\",\"2022-01-11\",\"2022-01-12\",\"2022-01-13\",\"2022-01-14\",\"2022-01-18\",\"2022-01-19\",\"2022-01-20\",\"2022-01-21\",\"2022-01-24\",\"2022-01-25\",\"2022-01-26\",\"2022-01-27\",\"2022-01-28\",\"2022-01-31\",\"2022-02-01\",\"2022-02-02\",\"2022-02-03\",\"2022-02-04\",\"2022-02-07\",\"2022-02-08\",\"2022-02-09\",\"2022-02-10\",\"2022-02-11\",\"2022-02-14\",\"2022-02-15\",\"2022-02-16\",\"2022-02-17\",\"2022-02-18\",\"2022-02-22\",\"2022-02-23\",\"2022-02-24\",\"2022-02-25\",\"2022-02-28\",\"2022-03-01\",\"2022-03-02\",\"2022-03-03\",\"2022-03-04\",\"2022-03-07\",\"2022-03-08\",\"2022-03-09\",\"2022-03-10\",\"2022-03-11\",\"2022-03-14\",\"2022-03-15\",\"2022-03-16\",\"2022-03-17\",\"2022-03-18\",\"2022-03-21\",\"2022-03-22\",\"2022-03-23\",\"2022-03-24\",\"2022-03-25\",\"2022-03-28\",\"2022-03-29\",\"2022-03-30\",\"2022-03-31\",\"2022-04-01\",\"2022-04-04\",\"2022-04-05\",\"2022-04-06\",\"2022-04-07\",\"2022-04-08\",\"2022-04-11\",\"2022-04-12\",\"2022-04-13\",\"2022-04-14\",\"2022-04-18\",\"2022-04-19\",\"2022-04-20\",\"2022-04-21\",\"2022-04-22\",\"2022-04-25\",\"2022-04-26\",\"2022-04-27\",\"2022-04-28\",\"2022-04-29\",\"2022-05-02\",\"2022-05-03\",\"2022-05-04\",\"2022-05-05\",\"2022-05-06\",\"2022-05-09\",\"2022-05-10\",\"2022-05-11\",\"2022-05-12\",\"2022-05-13\",\"2022-05-16\",\"2022-05-17\",\"2022-05-18\",\"2022-05-19\",\"2022-05-20\",\"2022-05-23\",\"2022-05-24\",\"2022-05-25\",\"2022-05-26\",\"2022-05-27\",\"2022-05-31\",\"2022-06-01\",\"2022-06-02\",\"2022-06-03\",\"2022-06-06\",\"2022-06-07\",\"2022-06-08\",\"2022-06-09\",\"2022-06-10\",\"2022-06-13\",\"2022-06-14\",\"2022-06-15\",\"2022-06-16\",\"2022-06-17\",\"2022-06-21\",\"2022-06-22\",\"2022-06-23\",\"2022-06-24\",\"2022-06-27\",\"2022-06-28\",\"2022-06-29\",\"2022-06-30\",\"2022-07-01\",\"2022-07-05\",\"2022-07-06\",\"2022-07-07\",\"2022-07-08\",\"2022-07-11\",\"2022-07-12\",\"2022-07-13\",\"2022-07-14\",\"2022-07-15\",\"2022-07-18\",\"2022-07-19\",\"2022-07-20\",\"2022-07-21\",\"2022-07-22\",\"2022-07-25\",\"2022-07-26\",\"2022-07-27\",\"2022-07-28\",\"2022-07-29\",\"2022-08-01\",\"2022-08-02\",\"2022-08-03\",\"2022-08-04\",\"2022-08-05\",\"2022-08-08\",\"2022-08-09\",\"2022-08-10\",\"2022-08-11\",\"2022-08-12\",\"2022-08-15\",\"2022-08-16\",\"2022-08-17\",\"2022-08-18\",\"2022-08-19\",\"2022-08-22\",\"2022-08-23\",\"2022-08-24\",\"2022-08-25\",\"2022-08-26\",\"2022-08-29\",\"2022-08-30\",\"2022-08-31\",\"2022-09-01\",\"2022-09-02\",\"2022-09-06\",\"2022-09-07\",\"2022-09-08\",\"2022-09-09\",\"2022-09-12\",\"2022-09-13\",\"2022-09-14\",\"2022-09-15\",\"2022-09-16\",\"2022-09-19\",\"2022-09-20\",\"2022-09-21\",\"2022-09-22\",\"2022-09-23\",\"2022-09-26\",\"2022-09-27\",\"2022-09-28\",\"2022-09-29\",\"2022-09-30\",\"2022-10-03\",\"2022-10-04\",\"2022-10-05\",\"2022-10-06\",\"2022-10-07\",\"2022-10-10\",\"2022-10-11\",\"2022-10-12\",\"2022-10-13\",\"2022-10-14\",\"2022-10-17\",\"2022-10-18\",\"2022-10-19\",\"2022-10-20\",\"2022-10-21\",\"2022-10-24\",\"2022-10-25\",\"2022-10-26\",\"2022-10-27\",\"2022-10-28\",\"2022-10-31\",\"2022-11-01\",\"2022-11-02\",\"2022-11-03\",\"2022-11-04\",\"2022-11-07\",\"2022-11-08\",\"2022-11-09\",\"2022-11-10\",\"2022-11-11\",\"2022-11-14\",\"2022-11-15\",\"2022-11-16\",\"2022-11-17\",\"2022-11-18\",\"2022-11-21\",\"2022-11-22\",\"2022-11-23\",\"2022-11-25\",\"2022-11-28\",\"2022-11-29\",\"2022-11-30\",\"2022-12-01\",\"2022-12-02\",\"2022-12-05\",\"2022-12-06\",\"2022-12-07\",\"2022-12-08\",\"2022-12-09\",\"2022-12-12\",\"2022-12-13\",\"2022-12-14\",\"2022-12-15\",\"2022-12-16\",\"2022-12-19\",\"2022-12-20\",\"2022-12-21\",\"2022-12-22\",\"2022-12-23\"],\"y\":[\"\",\"\",\"\",\"\",\"\",\"\",\"\",\"\",\"\",\"\",\"\",\"\",\"\",395.8765222533631,385.67356799330497,379.3634353878474,376.2500524911967,380.75804239811,382.4748282349097,378.0259578011301,372.2559920925225,360.2780934415698,354.96947356008053,346.2041143754533,337.79841148618544,332.5324405696328,326.55499192965715,324.7433902939068,324.21468108323137,323.48924983617786,322.46125605426187,320.6230513963841,318.639275594982,318.0986809479556,319.7265207168191,326.3038872802314,327.42834043341327,325.5253233548261,323.91523909557026,320.9176372040166,317.18377288009424,314.5260874744683,314.1273729026353,313.27016304050534,307.58733519714724,301.41879224555424,299.1931799428092,298.2465449068911,299.6488633658069,298.12284193418645,298.5083235184359,300.7153002759818,304.15090814923036,309.33831453924773,322.51112854389515,334.3488806900285,345.45377192743064,353.6809691365744,368.8991438339698,382.01952844279975,391.8165489653289,396.4105985916126,396.4955792516237,400.25032796713634,398.4549201853308,393.74374745825367,389.45770824013067,383.4596364809107,384.49332163384037,385.03652239226864,384.8879513202182,385.84157206421787,384.17354313070723,381.25985949973295,379.05514633473,376.7517720584839,373.48183939648584,360.29972213655725,362.02126177879387,363.5106835683639,361.7002469740002,361.00441746521795,360.6344974894355,359.3028745908575,355.48287302090097,354.27740148868725,351.03349229669857,348.0776894566242,346.3351796357551,343.59462189395487,337.86189352305996,327.45287478530884,328.07054667976087,325.8830841692889,324.7304989333666,322.6768239734198,318.445643123373,310.63015792550834,295.5344915907553,285.7345911211487,273.08774443392514,270.8316952735907,266.83156440993275,267.159183424809,270.1927857914828,267.0053506525557,266.6964855588508,264.07616498356657,264.6162513535576,264.8962764112585,264.3962835418544,265.47425523404826,263.39210030418525,262.3496646460141,264.4129884128703,262.1383418991807,259.02596549510974,257.15242821689094,250.66292230356524,252.93827843953798,254.3205745846222,253.5458810768979,251.84299093400557,250.34524287528066,249.97579439504236,249.71273794852942,249.65078814548772,251.78473128241296,253.49030578190974,251.57280168732888,251.3652184694629,251.44577115813888,251.718364950182,250.52322296369357,249.54640925779665,251.33268731268117,253.05430385921656,263.1695084613829,270.42799742470623,275.02591859888963,276.20779352075954,281.5239804540515,287.6112504075899,297.5008498065658,304.6273362080568,311.1348210815951,317.79573699905893,322.81075496975865,321.58381830823333,320.01510788102723,316.3652422741758,317.1798943298936,316.9340936160603,317.34480923074057,315.5742582595693,315.5930392283024,315.3406933481173,315.9194764079492,315.8926208658177,315.66339569442044,313.9998327647532,311.80386378118317,311.6876891068034,311.86915349805315,311.5978567040226,313.5144024490511,315.17545081093385,315.2681956254383,313.45998486184124,310.55591334967306,307.19234798844906,304.0731440443076,304.905222666068,308.3340425621116,307.5461303597685,308.9763002738475,310.8507208899782,313.4493234871488,317.3560383069278,320.2286279356876,320.5583236001832,319.75247228188675,318.64130645677517,318.3241174554346,318.39448762248134,318.4246492743051,320.1607679169871,320.27775558428374,326.12545768704456,325.84981189446796,325.0144930654373,322.6341700592818,318.96644515939164,312.2040587165975,306.12773541531385,301.06120715505676,297.23064462985724,293.6760342911706,284.46612419538747,270.18230704779336,260.96361251371326,251.03858744459677,247.45874066095143,240.01293215718502,234.86143480708975,230.0602866328921,230.51728780742425,231.9129882597701,233.51436224517292,234.9520498413065,234.63618063136704,233.24634824034777,234.0241647444662,236.48531308216025,238.67702475710783,243.9541639137597,244.51115285733366,244.45844241606295,242.95764732896936,240.15170879499615,236.96966389282193,231.968391587233,225.98113653271895,219.55387850011144,215.48800291544777,208.5804800212216,203.35355965620278,201.0122879350272,199.8199791076913,201.71415272596573,202.558772617892,202.2741612523781,201.33689074721593,199.36994872797794,198.9869813475706,198.9238693693489,198.88068629945147,198.88915443917602,200.58143518067803,202.41301066185585,203.0565152918428,204.14589238978695,204.5328425754334,202.75409917770025,198.85800713021968,195.0350413469543,193.07356735222703],\"type\":\"scatter\"},{\"line\":{\"color\":\"rgba(55, 128, 191, 0.7999999999999998)\",\"dash\":\"solid\",\"shape\":\"linear\",\"width\":1.3},\"mode\":\"lines\",\"name\":\"LOWER(14)\",\"text\":\"\",\"x\":[\"2022-01-03\",\"2022-01-04\",\"2022-01-05\",\"2022-01-06\",\"2022-01-07\",\"2022-01-10\",\"2022-01-11\",\"2022-01-12\",\"2022-01-13\",\"2022-01-14\",\"2022-01-18\",\"2022-01-19\",\"2022-01-20\",\"2022-01-21\",\"2022-01-24\",\"2022-01-25\",\"2022-01-26\",\"2022-01-27\",\"2022-01-28\",\"2022-01-31\",\"2022-02-01\",\"2022-02-02\",\"2022-02-03\",\"2022-02-04\",\"2022-02-07\",\"2022-02-08\",\"2022-02-09\",\"2022-02-10\",\"2022-02-11\",\"2022-02-14\",\"2022-02-15\",\"2022-02-16\",\"2022-02-17\",\"2022-02-18\",\"2022-02-22\",\"2022-02-23\",\"2022-02-24\",\"2022-02-25\",\"2022-02-28\",\"2022-03-01\",\"2022-03-02\",\"2022-03-03\",\"2022-03-04\",\"2022-03-07\",\"2022-03-08\",\"2022-03-09\",\"2022-03-10\",\"2022-03-11\",\"2022-03-14\",\"2022-03-15\",\"2022-03-16\",\"2022-03-17\",\"2022-03-18\",\"2022-03-21\",\"2022-03-22\",\"2022-03-23\",\"2022-03-24\",\"2022-03-25\",\"2022-03-28\",\"2022-03-29\",\"2022-03-30\",\"2022-03-31\",\"2022-04-01\",\"2022-04-04\",\"2022-04-05\",\"2022-04-06\",\"2022-04-07\",\"2022-04-08\",\"2022-04-11\",\"2022-04-12\",\"2022-04-13\",\"2022-04-14\",\"2022-04-18\",\"2022-04-19\",\"2022-04-20\",\"2022-04-21\",\"2022-04-22\",\"2022-04-25\",\"2022-04-26\",\"2022-04-27\",\"2022-04-28\",\"2022-04-29\",\"2022-05-02\",\"2022-05-03\",\"2022-05-04\",\"2022-05-05\",\"2022-05-06\",\"2022-05-09\",\"2022-05-10\",\"2022-05-11\",\"2022-05-12\",\"2022-05-13\",\"2022-05-16\",\"2022-05-17\",\"2022-05-18\",\"2022-05-19\",\"2022-05-20\",\"2022-05-23\",\"2022-05-24\",\"2022-05-25\",\"2022-05-26\",\"2022-05-27\",\"2022-05-31\",\"2022-06-01\",\"2022-06-02\",\"2022-06-03\",\"2022-06-06\",\"2022-06-07\",\"2022-06-08\",\"2022-06-09\",\"2022-06-10\",\"2022-06-13\",\"2022-06-14\",\"2022-06-15\",\"2022-06-16\",\"2022-06-17\",\"2022-06-21\",\"2022-06-22\",\"2022-06-23\",\"2022-06-24\",\"2022-06-27\",\"2022-06-28\",\"2022-06-29\",\"2022-06-30\",\"2022-07-01\",\"2022-07-05\",\"2022-07-06\",\"2022-07-07\",\"2022-07-08\",\"2022-07-11\",\"2022-07-12\",\"2022-07-13\",\"2022-07-14\",\"2022-07-15\",\"2022-07-18\",\"2022-07-19\",\"2022-07-20\",\"2022-07-21\",\"2022-07-22\",\"2022-07-25\",\"2022-07-26\",\"2022-07-27\",\"2022-07-28\",\"2022-07-29\",\"2022-08-01\",\"2022-08-02\",\"2022-08-03\",\"2022-08-04\",\"2022-08-05\",\"2022-08-08\",\"2022-08-09\",\"2022-08-10\",\"2022-08-11\",\"2022-08-12\",\"2022-08-15\",\"2022-08-16\",\"2022-08-17\",\"2022-08-18\",\"2022-08-19\",\"2022-08-22\",\"2022-08-23\",\"2022-08-24\",\"2022-08-25\",\"2022-08-26\",\"2022-08-29\",\"2022-08-30\",\"2022-08-31\",\"2022-09-01\",\"2022-09-02\",\"2022-09-06\",\"2022-09-07\",\"2022-09-08\",\"2022-09-09\",\"2022-09-12\",\"2022-09-13\",\"2022-09-14\",\"2022-09-15\",\"2022-09-16\",\"2022-09-19\",\"2022-09-20\",\"2022-09-21\",\"2022-09-22\",\"2022-09-23\",\"2022-09-26\",\"2022-09-27\",\"2022-09-28\",\"2022-09-29\",\"2022-09-30\",\"2022-10-03\",\"2022-10-04\",\"2022-10-05\",\"2022-10-06\",\"2022-10-07\",\"2022-10-10\",\"2022-10-11\",\"2022-10-12\",\"2022-10-13\",\"2022-10-14\",\"2022-10-17\",\"2022-10-18\",\"2022-10-19\",\"2022-10-20\",\"2022-10-21\",\"2022-10-24\",\"2022-10-25\",\"2022-10-26\",\"2022-10-27\",\"2022-10-28\",\"2022-10-31\",\"2022-11-01\",\"2022-11-02\",\"2022-11-03\",\"2022-11-04\",\"2022-11-07\",\"2022-11-08\",\"2022-11-09\",\"2022-11-10\",\"2022-11-11\",\"2022-11-14\",\"2022-11-15\",\"2022-11-16\",\"2022-11-17\",\"2022-11-18\",\"2022-11-21\",\"2022-11-22\",\"2022-11-23\",\"2022-11-25\",\"2022-11-28\",\"2022-11-29\",\"2022-11-30\",\"2022-12-01\",\"2022-12-02\",\"2022-12-05\",\"2022-12-06\",\"2022-12-07\",\"2022-12-08\",\"2022-12-09\",\"2022-12-12\",\"2022-12-13\",\"2022-12-14\",\"2022-12-15\",\"2022-12-16\",\"2022-12-19\",\"2022-12-20\",\"2022-12-21\",\"2022-12-22\",\"2022-12-23\"],\"y\":[\"\",\"\",\"\",\"\",\"\",\"\",\"\",\"\",\"\",\"\",\"\",\"\",\"\",309.14204088949396,306.49832857812345,301.79941489786677,297.7361315088034,282.00909517331866,271.69183247937605,270.3597493417271,269.78923905033463,272.2166617012873,270.83861415420523,273.59016633883243,276.13063051381454,277.88946043036714,280.80643192748573,280.74422384895024,277.93959820248296,276.63455544953644,276.94921394573805,283.2774174607588,286.6897646907323,283.4332184806159,276.5806168546095,263.2594410054829,257.8316562808725,254.33229035945965,254.18475833300118,254.4380713674119,255.69050783419138,255.2405750969603,254.6054806687933,252.07316424520894,253.08789694570987,256.18882175444566,256.6025269143336,254.6143998073946,250.58541591990732,253.91381849438497,255.40738262442122,256.1399287240182,254.36908085076965,251.88596346075215,244.14600645610489,239.91873230997146,237.17717464399794,238.76235972056838,236.27942316603014,234.61618312862873,236.99487846324251,245.84130640838734,260.90965917694774,273.51491331857795,287.264130528955,300.268638256032,311.78658490272636,322.75274837623215,320.85954008044536,319.7372900363028,320.28824410835324,318.11367179292506,315.612655155007,315.12538578598134,311.7686713795556,310.79490251294476,310.2772157463713,316.43885572058554,304.48684307834895,295.17599271735037,288.4269025974283,281.7546376776392,278.64884522485033,276.28046912342813,276.77904212195625,272.66451065416993,269.3065129890157,260.7842186862329,254.09053650710206,243.74633167747365,236.28620419122578,235.8176027861197,227.9594523202391,224.43738983071108,217.60426178091913,211.97507988372308,204.82340244805562,201.47936136020598,201.12455112353035,200.71112059313703,205.83796956607483,206.78544901212362,208.79605601863867,208.77176857519098,207.97626220851726,208.01893506173,207.87399072686352,208.35383673071917,208.5656555035853,208.74753573159865,210.8089561724313,208.41241362309458,212.13790083867192,215.09462135398587,209.7727264442726,206.84022838653357,207.70736779060454,208.05185892596617,211.2180309821491,210.54124656046204,210.10752170109208,209.99316620881638,209.7851043517087,209.10666141043365,208.76658703352913,211.50535805147058,213.1163561402266,212.63146086044418,216.3063620752331,220.73577231267114,220.37668981625148,220.43232612757544,220.6230654783894,221.01249332202076,221.36454459934617,221.4163621158903,222.4104591407834,219.04287411004557,218.2101010038652,218.66455882968177,221.3579193363833,220.3669712602342,218.58493816383867,217.66771819343413,219.71361250622886,222.28422434697632,225.4923552866553,230.27257517309846,238.30284783462383,246.2848926904013,255.0538074401098,257.47486881296356,259.7759063839396,263.8790021978308,272.85812774043075,277.37410634312613,280.925977937597,281.1643378777651,281.10404827703945,279.8085105912938,279.9087409495325,280.4566169331026,281.7013621789108,281.1865629305182,281.67024015312023,277.3741734080918,274.1388364747804,270.7789495174189,267.0000151381587,265.31218507889827,265.77622729726517,266.9511476699781,266.54954576250344,265.19310915217415,265.3634022116601,264.72084729758114,263.94356853859324,263.52496736999404,263.0825382645008,264.642805635741,267.9116818283882,270.3503891466846,272.19298297179625,272.7373144017082,272.55837137751865,272.3210651542663,266.08923194015574,260.376528130002,247.42453874152696,240.1044726769605,231.94836264884842,225.01154265500395,216.3935532691798,210.90308199768825,204.93654987040048,199.81022227351463,195.98221537014274,189.3911107088294,189.5167356617554,194.14055338077804,196.76353391485816,198.407130269689,197.99269248190575,199.98278641424352,202.50714090719592,205.38114536710788,205.21271404971858,204.61129888308704,204.58706675482702,204.6608080158364,204.013819368633,206.87793647393792,204.40297639839093,198.64039948926836,192.05726067146364,182.53869251481174,178.59313199980923,176.46298544107992,173.46806609960208,171.9568616335753,169.6860496786066,168.2087496984813,167.4317203244239,165.29469092845997,162.92199622740932,165.24237612163557,166.9535822009401,167.2719962078299,166.9685906065944,167.51870284546283,167.24265381067946,167.3686937476219,167.09167853849834,166.97290755773633,165.515874223858,164.18898677350825,164.06931284340564,164.05370356082398,161.08142181932195,155.47841862385846,151.23634213672864,145.47696475307023,140.6671564245666,134.31732925087113,130.05199415549464,123.94495951018854,117.43500564777298],\"type\":\"scatter\"}],                        {\"legend\":{\"bgcolor\":\"#F5F6F9\",\"font\":{\"color\":\"#4D5663\"}},\"paper_bgcolor\":\"#F5F6F9\",\"plot_bgcolor\":\"#F5F6F9\",\"template\":{\"data\":{\"barpolar\":[{\"marker\":{\"line\":{\"color\":\"#E5ECF6\",\"width\":0.5},\"pattern\":{\"fillmode\":\"overlay\",\"size\":10,\"solidity\":0.2}},\"type\":\"barpolar\"}],\"bar\":[{\"error_x\":{\"color\":\"#2a3f5f\"},\"error_y\":{\"color\":\"#2a3f5f\"},\"marker\":{\"line\":{\"color\":\"#E5ECF6\",\"width\":0.5},\"pattern\":{\"fillmode\":\"overlay\",\"size\":10,\"solidity\":0.2}},\"type\":\"bar\"}],\"carpet\":[{\"aaxis\":{\"endlinecolor\":\"#2a3f5f\",\"gridcolor\":\"white\",\"linecolor\":\"white\",\"minorgridcolor\":\"white\",\"startlinecolor\":\"#2a3f5f\"},\"baxis\":{\"endlinecolor\":\"#2a3f5f\",\"gridcolor\":\"white\",\"linecolor\":\"white\",\"minorgridcolor\":\"white\",\"startlinecolor\":\"#2a3f5f\"},\"type\":\"carpet\"}],\"choropleth\":[{\"colorbar\":{\"outlinewidth\":0,\"ticks\":\"\"},\"type\":\"choropleth\"}],\"contourcarpet\":[{\"colorbar\":{\"outlinewidth\":0,\"ticks\":\"\"},\"type\":\"contourcarpet\"}],\"contour\":[{\"colorbar\":{\"outlinewidth\":0,\"ticks\":\"\"},\"colorscale\":[[0.0,\"#0d0887\"],[0.1111111111111111,\"#46039f\"],[0.2222222222222222,\"#7201a8\"],[0.3333333333333333,\"#9c179e\"],[0.4444444444444444,\"#bd3786\"],[0.5555555555555556,\"#d8576b\"],[0.6666666666666666,\"#ed7953\"],[0.7777777777777778,\"#fb9f3a\"],[0.8888888888888888,\"#fdca26\"],[1.0,\"#f0f921\"]],\"type\":\"contour\"}],\"heatmapgl\":[{\"colorbar\":{\"outlinewidth\":0,\"ticks\":\"\"},\"colorscale\":[[0.0,\"#0d0887\"],[0.1111111111111111,\"#46039f\"],[0.2222222222222222,\"#7201a8\"],[0.3333333333333333,\"#9c179e\"],[0.4444444444444444,\"#bd3786\"],[0.5555555555555556,\"#d8576b\"],[0.6666666666666666,\"#ed7953\"],[0.7777777777777778,\"#fb9f3a\"],[0.8888888888888888,\"#fdca26\"],[1.0,\"#f0f921\"]],\"type\":\"heatmapgl\"}],\"heatmap\":[{\"colorbar\":{\"outlinewidth\":0,\"ticks\":\"\"},\"colorscale\":[[0.0,\"#0d0887\"],[0.1111111111111111,\"#46039f\"],[0.2222222222222222,\"#7201a8\"],[0.3333333333333333,\"#9c179e\"],[0.4444444444444444,\"#bd3786\"],[0.5555555555555556,\"#d8576b\"],[0.6666666666666666,\"#ed7953\"],[0.7777777777777778,\"#fb9f3a\"],[0.8888888888888888,\"#fdca26\"],[1.0,\"#f0f921\"]],\"type\":\"heatmap\"}],\"histogram2dcontour\":[{\"colorbar\":{\"outlinewidth\":0,\"ticks\":\"\"},\"colorscale\":[[0.0,\"#0d0887\"],[0.1111111111111111,\"#46039f\"],[0.2222222222222222,\"#7201a8\"],[0.3333333333333333,\"#9c179e\"],[0.4444444444444444,\"#bd3786\"],[0.5555555555555556,\"#d8576b\"],[0.6666666666666666,\"#ed7953\"],[0.7777777777777778,\"#fb9f3a\"],[0.8888888888888888,\"#fdca26\"],[1.0,\"#f0f921\"]],\"type\":\"histogram2dcontour\"}],\"histogram2d\":[{\"colorbar\":{\"outlinewidth\":0,\"ticks\":\"\"},\"colorscale\":[[0.0,\"#0d0887\"],[0.1111111111111111,\"#46039f\"],[0.2222222222222222,\"#7201a8\"],[0.3333333333333333,\"#9c179e\"],[0.4444444444444444,\"#bd3786\"],[0.5555555555555556,\"#d8576b\"],[0.6666666666666666,\"#ed7953\"],[0.7777777777777778,\"#fb9f3a\"],[0.8888888888888888,\"#fdca26\"],[1.0,\"#f0f921\"]],\"type\":\"histogram2d\"}],\"histogram\":[{\"marker\":{\"pattern\":{\"fillmode\":\"overlay\",\"size\":10,\"solidity\":0.2}},\"type\":\"histogram\"}],\"mesh3d\":[{\"colorbar\":{\"outlinewidth\":0,\"ticks\":\"\"},\"type\":\"mesh3d\"}],\"parcoords\":[{\"line\":{\"colorbar\":{\"outlinewidth\":0,\"ticks\":\"\"}},\"type\":\"parcoords\"}],\"pie\":[{\"automargin\":true,\"type\":\"pie\"}],\"scatter3d\":[{\"line\":{\"colorbar\":{\"outlinewidth\":0,\"ticks\":\"\"}},\"marker\":{\"colorbar\":{\"outlinewidth\":0,\"ticks\":\"\"}},\"type\":\"scatter3d\"}],\"scattercarpet\":[{\"marker\":{\"colorbar\":{\"outlinewidth\":0,\"ticks\":\"\"}},\"type\":\"scattercarpet\"}],\"scattergeo\":[{\"marker\":{\"colorbar\":{\"outlinewidth\":0,\"ticks\":\"\"}},\"type\":\"scattergeo\"}],\"scattergl\":[{\"marker\":{\"colorbar\":{\"outlinewidth\":0,\"ticks\":\"\"}},\"type\":\"scattergl\"}],\"scattermapbox\":[{\"marker\":{\"colorbar\":{\"outlinewidth\":0,\"ticks\":\"\"}},\"type\":\"scattermapbox\"}],\"scatterpolargl\":[{\"marker\":{\"colorbar\":{\"outlinewidth\":0,\"ticks\":\"\"}},\"type\":\"scatterpolargl\"}],\"scatterpolar\":[{\"marker\":{\"colorbar\":{\"outlinewidth\":0,\"ticks\":\"\"}},\"type\":\"scatterpolar\"}],\"scatter\":[{\"marker\":{\"colorbar\":{\"outlinewidth\":0,\"ticks\":\"\"}},\"type\":\"scatter\"}],\"scatterternary\":[{\"marker\":{\"colorbar\":{\"outlinewidth\":0,\"ticks\":\"\"}},\"type\":\"scatterternary\"}],\"surface\":[{\"colorbar\":{\"outlinewidth\":0,\"ticks\":\"\"},\"colorscale\":[[0.0,\"#0d0887\"],[0.1111111111111111,\"#46039f\"],[0.2222222222222222,\"#7201a8\"],[0.3333333333333333,\"#9c179e\"],[0.4444444444444444,\"#bd3786\"],[0.5555555555555556,\"#d8576b\"],[0.6666666666666666,\"#ed7953\"],[0.7777777777777778,\"#fb9f3a\"],[0.8888888888888888,\"#fdca26\"],[1.0,\"#f0f921\"]],\"type\":\"surface\"}],\"table\":[{\"cells\":{\"fill\":{\"color\":\"#EBF0F8\"},\"line\":{\"color\":\"white\"}},\"header\":{\"fill\":{\"color\":\"#C8D4E3\"},\"line\":{\"color\":\"white\"}},\"type\":\"table\"}]},\"layout\":{\"annotationdefaults\":{\"arrowcolor\":\"#2a3f5f\",\"arrowhead\":0,\"arrowwidth\":1},\"autotypenumbers\":\"strict\",\"coloraxis\":{\"colorbar\":{\"outlinewidth\":0,\"ticks\":\"\"}},\"colorscale\":{\"diverging\":[[0,\"#8e0152\"],[0.1,\"#c51b7d\"],[0.2,\"#de77ae\"],[0.3,\"#f1b6da\"],[0.4,\"#fde0ef\"],[0.5,\"#f7f7f7\"],[0.6,\"#e6f5d0\"],[0.7,\"#b8e186\"],[0.8,\"#7fbc41\"],[0.9,\"#4d9221\"],[1,\"#276419\"]],\"sequential\":[[0.0,\"#0d0887\"],[0.1111111111111111,\"#46039f\"],[0.2222222222222222,\"#7201a8\"],[0.3333333333333333,\"#9c179e\"],[0.4444444444444444,\"#bd3786\"],[0.5555555555555556,\"#d8576b\"],[0.6666666666666666,\"#ed7953\"],[0.7777777777777778,\"#fb9f3a\"],[0.8888888888888888,\"#fdca26\"],[1.0,\"#f0f921\"]],\"sequentialminus\":[[0.0,\"#0d0887\"],[0.1111111111111111,\"#46039f\"],[0.2222222222222222,\"#7201a8\"],[0.3333333333333333,\"#9c179e\"],[0.4444444444444444,\"#bd3786\"],[0.5555555555555556,\"#d8576b\"],[0.6666666666666666,\"#ed7953\"],[0.7777777777777778,\"#fb9f3a\"],[0.8888888888888888,\"#fdca26\"],[1.0,\"#f0f921\"]]},\"colorway\":[\"#636efa\",\"#EF553B\",\"#00cc96\",\"#ab63fa\",\"#FFA15A\",\"#19d3f3\",\"#FF6692\",\"#B6E880\",\"#FF97FF\",\"#FECB52\"],\"font\":{\"color\":\"#2a3f5f\"},\"geo\":{\"bgcolor\":\"white\",\"lakecolor\":\"white\",\"landcolor\":\"#E5ECF6\",\"showlakes\":true,\"showland\":true,\"subunitcolor\":\"white\"},\"hoverlabel\":{\"align\":\"left\"},\"hovermode\":\"closest\",\"mapbox\":{\"style\":\"light\"},\"paper_bgcolor\":\"white\",\"plot_bgcolor\":\"#E5ECF6\",\"polar\":{\"angularaxis\":{\"gridcolor\":\"white\",\"linecolor\":\"white\",\"ticks\":\"\"},\"bgcolor\":\"#E5ECF6\",\"radialaxis\":{\"gridcolor\":\"white\",\"linecolor\":\"white\",\"ticks\":\"\"}},\"scene\":{\"xaxis\":{\"backgroundcolor\":\"#E5ECF6\",\"gridcolor\":\"white\",\"gridwidth\":2,\"linecolor\":\"white\",\"showbackground\":true,\"ticks\":\"\",\"zerolinecolor\":\"white\"},\"yaxis\":{\"backgroundcolor\":\"#E5ECF6\",\"gridcolor\":\"white\",\"gridwidth\":2,\"linecolor\":\"white\",\"showbackground\":true,\"ticks\":\"\",\"zerolinecolor\":\"white\"},\"zaxis\":{\"backgroundcolor\":\"#E5ECF6\",\"gridcolor\":\"white\",\"gridwidth\":2,\"linecolor\":\"white\",\"showbackground\":true,\"ticks\":\"\",\"zerolinecolor\":\"white\"}},\"shapedefaults\":{\"line\":{\"color\":\"#2a3f5f\"}},\"ternary\":{\"aaxis\":{\"gridcolor\":\"white\",\"linecolor\":\"white\",\"ticks\":\"\"},\"baxis\":{\"gridcolor\":\"white\",\"linecolor\":\"white\",\"ticks\":\"\"},\"bgcolor\":\"#E5ECF6\",\"caxis\":{\"gridcolor\":\"white\",\"linecolor\":\"white\",\"ticks\":\"\"}},\"title\":{\"x\":0.05},\"xaxis\":{\"automargin\":true,\"gridcolor\":\"white\",\"linecolor\":\"white\",\"ticks\":\"\",\"title\":{\"standoff\":15},\"zerolinecolor\":\"white\",\"zerolinewidth\":2},\"yaxis\":{\"automargin\":true,\"gridcolor\":\"white\",\"linecolor\":\"white\",\"ticks\":\"\",\"title\":{\"standoff\":15},\"zerolinecolor\":\"white\",\"zerolinewidth\":2}}},\"title\":{\"font\":{\"color\":\"#4D5663\"}},\"xaxis\":{\"gridcolor\":\"#E1E5ED\",\"showgrid\":true,\"tickfont\":{\"color\":\"#4D5663\"},\"title\":{\"font\":{\"color\":\"#4D5663\"},\"text\":\"\"},\"zerolinecolor\":\"#E1E5ED\"},\"yaxis\":{\"gridcolor\":\"#E1E5ED\",\"showgrid\":true,\"tickfont\":{\"color\":\"#4D5663\"},\"title\":{\"font\":{\"color\":\"#4D5663\"},\"text\":\"\"},\"zerolinecolor\":\"#E1E5ED\"}},                        {\"showLink\": true, \"linkText\": \"Export to plot.ly\", \"plotlyServerURL\": \"https://plot.ly\", \"responsive\": true}                    ).then(function(){\n",
       "                            \n",
       "var gd = document.getElementById('83a257d3-ec2c-43f5-bd61-bcda46c973fc');\n",
       "var x = new MutationObserver(function (mutations, observer) {{\n",
       "        var display = window.getComputedStyle(gd).display;\n",
       "        if (!display || display === 'none') {{\n",
       "            console.log([gd, 'removed!']);\n",
       "            Plotly.purge(gd);\n",
       "            observer.disconnect();\n",
       "        }}\n",
       "}});\n",
       "\n",
       "// Listen for the removal of the full notebook cells\n",
       "var notebookContainer = gd.closest('#notebook-container');\n",
       "if (notebookContainer) {{\n",
       "    x.observe(notebookContainer, {childList: true});\n",
       "}}\n",
       "\n",
       "// Listen for the clearing of the current output cell\n",
       "var outputEl = gd.closest('.output');\n",
       "if (outputEl) {{\n",
       "    x.observe(outputEl, {childList: true});\n",
       "}}\n",
       "\n",
       "                        })                };                });            </script>        </div>"
      ]
     },
     "metadata": {},
     "output_type": "display_data"
    }
   ],
   "source": [
    "TS['Close']['2022-01-01':'2022-12-23'].ta_plot(study='boll')"
   ]
  },
  {
   "cell_type": "code",
   "execution_count": null,
   "id": "9e140da4",
   "metadata": {},
   "outputs": [],
   "source": []
  }
 ],
 "metadata": {
  "kernelspec": {
   "display_name": "Python 3 (ipykernel)",
   "language": "python",
   "name": "python3"
  },
  "language_info": {
   "codemirror_mode": {
    "name": "ipython",
    "version": 3
   },
   "file_extension": ".py",
   "mimetype": "text/x-python",
   "name": "python",
   "nbconvert_exporter": "python",
   "pygments_lexer": "ipython3",
   "version": "3.9.12"
  }
 },
 "nbformat": 4,
 "nbformat_minor": 5
}
